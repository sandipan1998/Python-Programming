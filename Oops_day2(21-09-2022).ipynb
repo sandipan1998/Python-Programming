{
 "cells": [
  {
   "cell_type": "markdown",
   "id": "b514219e",
   "metadata": {},
   "source": [
    "# Inheritance"
   ]
  },
  {
   "cell_type": "code",
   "execution_count": 1,
   "id": "75d44eae",
   "metadata": {},
   "outputs": [],
   "source": [
    "#def-->it is capability of a class to inherit the properties from another class"
   ]
  },
  {
   "cell_type": "raw",
   "id": "45cba91c",
   "metadata": {},
   "source": [
    "parent/super/base\n",
    "child/sub/derived"
   ]
  },
  {
   "cell_type": "raw",
   "id": "845d411d",
   "metadata": {},
   "source": [
    "#types\n",
    "\n",
    "1. single inheritance\n",
    "2. multiple inheritance\n",
    "3. multilevel inheritance\n",
    "4. hierarchical inheritance\n",
    "5. hybrid inheritance"
   ]
  },
  {
   "cell_type": "raw",
   "id": "e6261c85",
   "metadata": {},
   "source": [
    "syntax inheritance\n",
    "\n",
    "class parent_class:\n",
    "    body of parent_class\n",
    "class child_class(parent_class):\n",
    "    body of child_class"
   ]
  },
  {
   "cell_type": "raw",
   "id": "a5305514",
   "metadata": {},
   "source": [
    "1. single inheritance    #1parent-->1child\n"
   ]
  },
  {
   "cell_type": "code",
   "execution_count": 3,
   "id": "aeaec889",
   "metadata": {},
   "outputs": [],
   "source": [
    "class parent:       \n",
    "    def parentfun(self):\n",
    "        print(\"parent properties\")\n",
    "class child(parent):\n",
    "    def childfun(self):\n",
    "        print(\"child properties\")"
   ]
  },
  {
   "cell_type": "code",
   "execution_count": 4,
   "id": "a362a371",
   "metadata": {},
   "outputs": [],
   "source": [
    "obj=child()"
   ]
  },
  {
   "cell_type": "code",
   "execution_count": 5,
   "id": "8efa591d",
   "metadata": {},
   "outputs": [
    {
     "name": "stdout",
     "output_type": "stream",
     "text": [
      "parent properties\n",
      "child properties\n"
     ]
    }
   ],
   "source": [
    "obj.parentfun()\n",
    "obj.childfun()"
   ]
  },
  {
   "cell_type": "code",
   "execution_count": 6,
   "id": "e9ee839e",
   "metadata": {},
   "outputs": [],
   "source": [
    "obj1=parent()"
   ]
  },
  {
   "cell_type": "code",
   "execution_count": 7,
   "id": "64633b85",
   "metadata": {},
   "outputs": [
    {
     "name": "stdout",
     "output_type": "stream",
     "text": [
      "parent properties\n"
     ]
    }
   ],
   "source": [
    "obj1.parentfun()"
   ]
  },
  {
   "cell_type": "code",
   "execution_count": 8,
   "id": "3754d7b6",
   "metadata": {},
   "outputs": [
    {
     "ename": "AttributeError",
     "evalue": "'parent' object has no attribute 'childfun'",
     "output_type": "error",
     "traceback": [
      "\u001b[1;31m---------------------------------------------------------------------------\u001b[0m",
      "\u001b[1;31mAttributeError\u001b[0m                            Traceback (most recent call last)",
      "\u001b[1;32m<ipython-input-8-103ac37a8fa4>\u001b[0m in \u001b[0;36m<module>\u001b[1;34m\u001b[0m\n\u001b[1;32m----> 1\u001b[1;33m \u001b[0mobj1\u001b[0m\u001b[1;33m.\u001b[0m\u001b[0mchildfun\u001b[0m\u001b[1;33m(\u001b[0m\u001b[1;33m)\u001b[0m\u001b[1;33m\u001b[0m\u001b[1;33m\u001b[0m\u001b[0m\n\u001b[0m",
      "\u001b[1;31mAttributeError\u001b[0m: 'parent' object has no attribute 'childfun'"
     ]
    }
   ],
   "source": [
    "obj1.childfun()"
   ]
  },
  {
   "cell_type": "code",
   "execution_count": 9,
   "id": "57696bce",
   "metadata": {},
   "outputs": [],
   "source": [
    "class parent:       \n",
    "    def parentfun(self):\n",
    "        print(\"parent properties\")\n",
    "class child(parent):\n",
    "    def childfun(self):\n",
    "        self.parentfun()\n",
    "        print(\"child properties\")"
   ]
  },
  {
   "cell_type": "code",
   "execution_count": 10,
   "id": "1cd0adcb",
   "metadata": {},
   "outputs": [],
   "source": [
    "obj=child()"
   ]
  },
  {
   "cell_type": "code",
   "execution_count": 12,
   "id": "2945c989",
   "metadata": {},
   "outputs": [
    {
     "name": "stdout",
     "output_type": "stream",
     "text": [
      "parent properties\n",
      "child properties\n"
     ]
    }
   ],
   "source": [
    "obj.childfun()"
   ]
  },
  {
   "cell_type": "raw",
   "id": "bfdd5460",
   "metadata": {},
   "source": [
    "2. multiple inheritance--->2 parent or more than 2 parent--->child\n",
    "parent1--->parent2--->child(parent1,parent2)"
   ]
  },
  {
   "cell_type": "code",
   "execution_count": 13,
   "id": "d4d847ff",
   "metadata": {},
   "outputs": [],
   "source": [
    "class father:\n",
    "    def fun1(self):\n",
    "        print(\"Hello\")\n",
    "class mother:\n",
    "    def fun2(self):\n",
    "        print(\"Hai\")\n",
    "class child(father,mother):\n",
    "    def fun3(self):\n",
    "        self.fun1()\n",
    "        self.fun2()\n",
    "        print(\"both greetings\")"
   ]
  },
  {
   "cell_type": "code",
   "execution_count": 14,
   "id": "4ecc176c",
   "metadata": {},
   "outputs": [],
   "source": [
    "ob=child()"
   ]
  },
  {
   "cell_type": "code",
   "execution_count": 15,
   "id": "d0cbceec",
   "metadata": {},
   "outputs": [
    {
     "name": "stdout",
     "output_type": "stream",
     "text": [
      "Hello\n",
      "Hai\n",
      "both greetings\n"
     ]
    }
   ],
   "source": [
    "ob.fun3()"
   ]
  },
  {
   "cell_type": "code",
   "execution_count": null,
   "id": "45ef9ab8",
   "metadata": {},
   "outputs": [],
   "source": []
  },
  {
   "cell_type": "code",
   "execution_count": 16,
   "id": "4e7bcbbc",
   "metadata": {},
   "outputs": [
    {
     "name": "stdout",
     "output_type": "stream",
     "text": [
      "Hello\n",
      "Hai\n",
      "Hello\n",
      "Hai\n",
      "both greetings\n"
     ]
    }
   ],
   "source": [
    "ob.fun1()\n",
    "ob.fun2()\n",
    "ob.fun3()"
   ]
  },
  {
   "cell_type": "raw",
   "id": "73a5fd96",
   "metadata": {},
   "source": [
    "multilevel inheritance\n",
    "grandparent-->parent(grandparent)-->child(parent)"
   ]
  },
  {
   "cell_type": "code",
   "execution_count": 17,
   "id": "67d2c7bb",
   "metadata": {},
   "outputs": [],
   "source": [
    "class grandparent:\n",
    "    def grandprop(self):\n",
    "        print(\"grandparent properties\")\n",
    "class parent(grandparent):\n",
    "    def parentprop(self):\n",
    "        print(\"parent properties\")\n",
    "class child(parent):\n",
    "    def childprop(self):\n",
    "        print(\"child properties\")"
   ]
  },
  {
   "cell_type": "code",
   "execution_count": 18,
   "id": "08845a9e",
   "metadata": {},
   "outputs": [],
   "source": [
    "ob=child()"
   ]
  },
  {
   "cell_type": "code",
   "execution_count": 19,
   "id": "27c81705",
   "metadata": {},
   "outputs": [
    {
     "name": "stdout",
     "output_type": "stream",
     "text": [
      "child properties\n"
     ]
    }
   ],
   "source": [
    "ob.childprop()"
   ]
  },
  {
   "cell_type": "code",
   "execution_count": 20,
   "id": "d06877df",
   "metadata": {},
   "outputs": [
    {
     "name": "stdout",
     "output_type": "stream",
     "text": [
      "parent properties\n"
     ]
    }
   ],
   "source": [
    "ob.parentprop()"
   ]
  },
  {
   "cell_type": "code",
   "execution_count": 21,
   "id": "863b9ab9",
   "metadata": {},
   "outputs": [
    {
     "name": "stdout",
     "output_type": "stream",
     "text": [
      "grandparent properties\n"
     ]
    }
   ],
   "source": [
    "ob.grandprop()"
   ]
  },
  {
   "cell_type": "raw",
   "id": "09bad62d",
   "metadata": {},
   "source": [
    "4. hierarchical inheritance\n",
    "1parent-->multiple childs"
   ]
  },
  {
   "cell_type": "code",
   "execution_count": 2,
   "id": "cc20ce40",
   "metadata": {},
   "outputs": [],
   "source": [
    "class parent:\n",
    "    def parentprop(self):\n",
    "        print(\"parent properties\")\n",
    "class child1(parent):\n",
    "    def child1prop(self):\n",
    "        print(\"child1 properties\")\n",
    "class child2(parent):\n",
    "    def child2prop(self):\n",
    "        print(\"child2 properties\")\n",
    "        "
   ]
  },
  {
   "cell_type": "code",
   "execution_count": 10,
   "id": "275b2e53",
   "metadata": {},
   "outputs": [],
   "source": [
    "ob=child1()"
   ]
  },
  {
   "cell_type": "code",
   "execution_count": 11,
   "id": "1e34fd75",
   "metadata": {},
   "outputs": [
    {
     "name": "stdout",
     "output_type": "stream",
     "text": [
      "parent properties\n",
      "child1 properties\n"
     ]
    }
   ],
   "source": [
    "ob.parentprop()\n",
    "ob.child1prop()"
   ]
  },
  {
   "cell_type": "code",
   "execution_count": 12,
   "id": "9d46e35c",
   "metadata": {},
   "outputs": [
    {
     "ename": "AttributeError",
     "evalue": "'child1' object has no attribute 'child2prop'",
     "output_type": "error",
     "traceback": [
      "\u001b[1;31m---------------------------------------------------------------------------\u001b[0m",
      "\u001b[1;31mAttributeError\u001b[0m                            Traceback (most recent call last)",
      "\u001b[1;32m<ipython-input-12-624cd5febb5f>\u001b[0m in \u001b[0;36m<module>\u001b[1;34m\u001b[0m\n\u001b[1;32m----> 1\u001b[1;33m \u001b[0mob\u001b[0m\u001b[1;33m.\u001b[0m\u001b[0mchild2prop\u001b[0m\u001b[1;33m(\u001b[0m\u001b[1;33m)\u001b[0m\u001b[1;33m\u001b[0m\u001b[1;33m\u001b[0m\u001b[0m\n\u001b[0m",
      "\u001b[1;31mAttributeError\u001b[0m: 'child1' object has no attribute 'child2prop'"
     ]
    }
   ],
   "source": [
    "ob.child2prop()"
   ]
  },
  {
   "cell_type": "code",
   "execution_count": 13,
   "id": "2d5f78b9",
   "metadata": {},
   "outputs": [],
   "source": [
    "ob2=child2()"
   ]
  },
  {
   "cell_type": "code",
   "execution_count": 14,
   "id": "a27cda7a",
   "metadata": {},
   "outputs": [
    {
     "name": "stdout",
     "output_type": "stream",
     "text": [
      "parent properties\n",
      "child2 properties\n"
     ]
    }
   ],
   "source": [
    "ob2.parentprop()\n",
    "ob2.child2prop()"
   ]
  },
  {
   "cell_type": "raw",
   "id": "ab138a51",
   "metadata": {},
   "source": [
    "5. Hybrid inheritance\n",
    "multiple inheritance    parent-->parent1-->child     \n",
    "multilevel inheritance   grandparent-->parent1-->child\n",
    "\n",
    "\n",
    "#grandparent-->1mother-->1father-->1child"
   ]
  },
  {
   "cell_type": "code",
   "execution_count": 29,
   "id": "6be5fc99",
   "metadata": {},
   "outputs": [],
   "source": [
    "class grandparent:\n",
    "    def fun1(self):\n",
    "        print(\"Nathoo lal\")\n",
    "class mother(grandparent):\n",
    "    def fun2(self):\n",
    "        print(\"uma\")\n",
    "class father:\n",
    "    def fun3(self):\n",
    "        print(\"anoop\")\n",
    "class child(father,mother):\n",
    "    def fun4(self):\n",
    "        print(\"pooja\")"
   ]
  },
  {
   "cell_type": "code",
   "execution_count": 30,
   "id": "dd07aff3",
   "metadata": {},
   "outputs": [],
   "source": [
    "obj=child()"
   ]
  },
  {
   "cell_type": "code",
   "execution_count": 31,
   "id": "1b3c2869",
   "metadata": {},
   "outputs": [
    {
     "name": "stdout",
     "output_type": "stream",
     "text": [
      "Nathoo lal\n",
      "uma\n",
      "anoop\n",
      "pooja\n"
     ]
    }
   ],
   "source": [
    "obj.fun1()\n",
    "obj.fun2()\n",
    "obj.fun3()\n",
    "obj.fun4()"
   ]
  },
  {
   "cell_type": "code",
   "execution_count": 32,
   "id": "4c9c79bd",
   "metadata": {},
   "outputs": [],
   "source": [
    "#public"
   ]
  },
  {
   "cell_type": "code",
   "execution_count": 33,
   "id": "b6d279b4",
   "metadata": {},
   "outputs": [],
   "source": [
    "class intellipaat:\n",
    "    a=100"
   ]
  },
  {
   "cell_type": "code",
   "execution_count": 34,
   "id": "02f89e73",
   "metadata": {},
   "outputs": [
    {
     "data": {
      "text/plain": [
       "100"
      ]
     },
     "execution_count": 34,
     "metadata": {},
     "output_type": "execute_result"
    }
   ],
   "source": [
    "obj=intellipaat()\n",
    "obj.a"
   ]
  },
  {
   "cell_type": "code",
   "execution_count": 35,
   "id": "8b099319",
   "metadata": {},
   "outputs": [],
   "source": [
    "#private\n",
    "class intellipaat:\n",
    "    __a=100"
   ]
  },
  {
   "cell_type": "code",
   "execution_count": 36,
   "id": "8c84ee3e",
   "metadata": {},
   "outputs": [
    {
     "ename": "AttributeError",
     "evalue": "'intellipaat' object has no attribute '__a'",
     "output_type": "error",
     "traceback": [
      "\u001b[1;31m---------------------------------------------------------------------------\u001b[0m",
      "\u001b[1;31mAttributeError\u001b[0m                            Traceback (most recent call last)",
      "\u001b[1;32m<ipython-input-36-4ef397c45c77>\u001b[0m in \u001b[0;36m<module>\u001b[1;34m\u001b[0m\n\u001b[0;32m      1\u001b[0m \u001b[0mobj\u001b[0m\u001b[1;33m=\u001b[0m\u001b[0mintellipaat\u001b[0m\u001b[1;33m(\u001b[0m\u001b[1;33m)\u001b[0m\u001b[1;33m\u001b[0m\u001b[1;33m\u001b[0m\u001b[0m\n\u001b[1;32m----> 2\u001b[1;33m \u001b[0mobj\u001b[0m\u001b[1;33m.\u001b[0m\u001b[0m__a\u001b[0m\u001b[1;33m\u001b[0m\u001b[1;33m\u001b[0m\u001b[0m\n\u001b[0m",
      "\u001b[1;31mAttributeError\u001b[0m: 'intellipaat' object has no attribute '__a'"
     ]
    }
   ],
   "source": [
    "obj=intellipaat()\n",
    "obj.__a"
   ]
  },
  {
   "cell_type": "code",
   "execution_count": 37,
   "id": "de4ee371",
   "metadata": {},
   "outputs": [],
   "source": [
    "class intellipaat:\n",
    "    def __init__(self):\n",
    "        print(self.__a)\n",
    "    __a=100"
   ]
  },
  {
   "cell_type": "code",
   "execution_count": 38,
   "id": "2b006e92",
   "metadata": {},
   "outputs": [
    {
     "name": "stdout",
     "output_type": "stream",
     "text": [
      "100\n"
     ]
    }
   ],
   "source": [
    "obj=intellipaat()"
   ]
  },
  {
   "cell_type": "code",
   "execution_count": 39,
   "id": "ce8d4f36",
   "metadata": {},
   "outputs": [],
   "source": [
    "class intellipaat:\n",
    "    __a=100\n",
    "    def fun1(self):\n",
    "        print(self.__a)"
   ]
  },
  {
   "cell_type": "code",
   "execution_count": 40,
   "id": "864e5497",
   "metadata": {},
   "outputs": [
    {
     "name": "stdout",
     "output_type": "stream",
     "text": [
      "100\n"
     ]
    }
   ],
   "source": [
    "obj=intellipaat()\n",
    "obj.fun1()"
   ]
  },
  {
   "cell_type": "code",
   "execution_count": 41,
   "id": "42242bb4",
   "metadata": {},
   "outputs": [],
   "source": [
    "class intellipaat:\n",
    "    _a=100"
   ]
  },
  {
   "cell_type": "code",
   "execution_count": 42,
   "id": "facc600a",
   "metadata": {},
   "outputs": [
    {
     "data": {
      "text/plain": [
       "100"
      ]
     },
     "execution_count": 42,
     "metadata": {},
     "output_type": "execute_result"
    }
   ],
   "source": [
    "obj=intellipaat()\n",
    "obj._a"
   ]
  },
  {
   "cell_type": "raw",
   "id": "250d2233",
   "metadata": {},
   "source": [
    "Make a program which will calculate the area of polygon which is given by user : Tringle, Square, Rectangle,Pentagon,Hexagon Heptagon, Octagon"
   ]
  },
  {
   "cell_type": "code",
   "execution_count": 17,
   "id": "26169844",
   "metadata": {},
   "outputs": [
    {
     "name": "stdout",
     "output_type": "stream",
     "text": [
      "Do you want to calculate the area of the polygon?(Yes/No) - Yes\n",
      "Enter the number of sides of the polygon - 3\n",
      "what is the base of the triangle? - 10\n",
      "what is the height of the triangle? - 6\n",
      "Area of the triangle is - 30.0\n",
      "Do you want to calculate the area of the polygon?(Yes/No) - Yes\n",
      "Enter the number of sides of the polygon - 4\n",
      "Is it a rectangle?(Yes/No)  - No\n",
      "Enter the length of the side of the Square - 5\n",
      "Area of the square is - 25\n",
      "Do you want to calculate the area of the polygon?(Yes/No) - Yes\n",
      "Enter the number of sides of the polygon - 5\n",
      "What is the length of the side of the pentagon? - 7\n",
      "Area of the pentagon is - 84.30339262885938\n",
      "Do you want to calculate the area of the polygon?(Yes/No) - Yes\n",
      "Enter the number of sides of the polygon - 8\n",
      "Enter the length of the side of the Octagon - 34\n",
      "Area of the octagon is - 5581.661756206596\n",
      "Do you want to calculate the area of the polygon?(Yes/No) - Yes\n",
      "Enter the number of sides of the polygon - 6\n",
      "What is the length of the side of the Hexagon? - 12\n",
      "Area of the Hexagon is - 374.1229744348775\n",
      "Do you want to calculate the area of the polygon?(Yes/No) - Yes\n",
      "Enter the number of sides of the polygon - 8\n",
      "Enter the length of the side of the Octagon - 17\n",
      "Area of the octagon is - 1395.415439051649\n",
      "Do you want to calculate the area of the polygon?(Yes/No) - No\n",
      "Thanks for Using the Polygon Area Calculator - \n"
     ]
    }
   ],
   "source": [
    "from numpy.core.numeric import array_equal\n",
    "import numpy as np\n",
    "from mpmath import cot\n",
    "\n",
    "class Polygon:\n",
    "  def __init__(self):\n",
    "    pass\n",
    "  \n",
    "  def Triangle(self):\n",
    "    b = int(input(\"what is the base of the triangle? - \"))\n",
    "    h = int(input(\"what is the height of the triangle? - \"))\n",
    "    area_triangle = 0.5 * b * h\n",
    "    print(\"Area of the triangle is - {}\".format(area_triangle))\n",
    "\n",
    "  \n",
    "  def Square(self):\n",
    "    x = int(input(\"Enter the length of the side of the Square - \"))\n",
    "    area_square = x*x\n",
    "    print(\"Area of the square is - {}\".format(area_square))\n",
    "  \n",
    "  \n",
    "  def Rectangle(self):\n",
    "    x = int(input(\"what is the length of the rectangle - \"))\n",
    "    y = int(input(\"what is the breadth of the rectangle - \"))\n",
    "    area_rectangle = x * y \n",
    "    print(\"area of the rectangle is {}\".format(area_rectangle))\n",
    "\n",
    "  def Pentagon(self):\n",
    "    s = int(input(\"What is the length of the side of the pentagon? - \"))\n",
    "    area_pentagon = 1/4 * np.sqrt(5* (5 + 2 * 5**0.5)) * s**2\n",
    "    print(\"Area of the pentagon is - {}\".format(area_pentagon))\n",
    "\n",
    "  def Hexagon(self):\n",
    "    a = int(input(\"What is the length of the side of the Hexagon? - \"))\n",
    "    area_hexagon = ((3 * 3**0.5)/2) * a**2\n",
    "    print(\"Area of the Hexagon is - {}\".format(area_hexagon))\n",
    "\n",
    "  def Heptagon(self):\n",
    "    a = int(input(\"enter the length of the side of the heptagon? - \"))\n",
    "    area_heptagon = 7/4 * a**2 * cot(np.pi/7)\n",
    "    print(\"Area of the Heptagon is - {}\".format(area_heptagon))\n",
    "\n",
    "  def Octagon(self):\n",
    "    a = int(input(\"Enter the length of the side of the Octagon - \"))\n",
    "    area_octagon = 2 * (1 + 2**0.5) * a**2\n",
    "    print(\"Area of the octagon is - {}\".format(area_octagon))\n",
    "\n",
    "  \n",
    "class Area_calculator(Polygon):\n",
    "  def __init__(self):\n",
    "    Polygon.__init__(self) #CALLED THE CONSTRUCTOR OF ABOVE CLASS\n",
    "\n",
    "  def Calculate(self):\n",
    "    self.x = str(input(\"Do you want to calculate the area of the polygon?(Yes/No) - \"))\n",
    "    if self.x == \"Yes\":\n",
    "      self.sides = int(input(\"Enter the number of sides of the polygon - \"))\n",
    "      if self.sides == 3:\n",
    "        self.Triangle()\n",
    "        self.Calculate()\n",
    "      elif self.sides == 4:\n",
    "        x = str(input(\"Is it a rectangle?(Yes/No)  - \"))\n",
    "        if x == \"Yes\":\n",
    "          self.Rectangle()\n",
    "          self.Calculate()\n",
    "        else:\n",
    "          self.Square()\n",
    "          self.Calculate()\n",
    "      \n",
    "      elif self.sides == 5:\n",
    "        self.Pentagon()\n",
    "        self.Calculate()\n",
    "      \n",
    "      elif self.sides == 6:\n",
    "        self.Hexagon()\n",
    "        self.Calculate()\n",
    "      \n",
    "      elif self.sides == 7:\n",
    "        self.Heptagon()\n",
    "        self.Calculate()\n",
    "      \n",
    "      elif self.sides == 8:\n",
    "        self.Octagon()\n",
    "        self.Calculate()\n",
    "      \n",
    "    elif self.x == \"No\":\n",
    "      print('Thanks for Using the Polygon Area Calculator - ')\n",
    "\n",
    "\n",
    "obj = Area_calculator()\n",
    "obj.Calculate()        "
   ]
  },
  {
   "cell_type": "code",
   "execution_count": null,
   "id": "66bcb82e",
   "metadata": {},
   "outputs": [],
   "source": []
  }
 ],
 "metadata": {
  "kernelspec": {
   "display_name": "Python 3 (ipykernel)",
   "language": "python",
   "name": "python3"
  },
  "language_info": {
   "codemirror_mode": {
    "name": "ipython",
    "version": 3
   },
   "file_extension": ".py",
   "mimetype": "text/x-python",
   "name": "python",
   "nbconvert_exporter": "python",
   "pygments_lexer": "ipython3",
   "version": "3.9.13"
  }
 },
 "nbformat": 4,
 "nbformat_minor": 5
}

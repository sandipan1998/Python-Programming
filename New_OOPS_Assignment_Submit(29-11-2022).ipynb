{
 "cells": [
  {
   "cell_type": "raw",
   "id": "149d025f",
   "metadata": {},
   "source": [
    "Q1. Write a Python program to demonstrate multiple inheritance.\n",
    "1. Employee class has 3 data members EmployeeID, Gender (String), Salary and\n",
    "PerformanceRating(Out of 5) of type int. It has a get() function to get these details from\n",
    "the user.\n",
    "2. JoiningDetail class has a data member DateOfJoining of type Date and a function\n",
    "getDoJ to get the Date of joining of employees.\n",
    "3. Information Class uses the marks from Employee class and the DateOfJoining date\n",
    "from the JoiningDetail class to calculate the top 3 Employees based on their Ratings\n",
    "and then Display, using readData, all the details on these employees in Ascending\n",
    "order of their Date Of Joining"
   ]
  },
  {
   "cell_type": "code",
   "execution_count": 30,
   "id": "c364d2c8",
   "metadata": {},
   "outputs": [],
   "source": [
    "import datetime as dt\n",
    "\n",
    "\n",
    "class Employee:\n",
    "    def __init__(self, id: str, gender: str, salary: int, perfomance_rating: int):\n",
    "        self.id, self.gender, self.salary, self.perfomance_rating = id, gender, salary, perfomance_rating\n",
    "    \n",
    "    def get_id(self):\n",
    "        return self.id\n",
    "    \n",
    "    def get_gender(self):\n",
    "        return self.gender\n",
    "    \n",
    "    def get_salary(self):\n",
    "        return self.salary\n",
    "    \n",
    "    def get_perf_rat(self):\n",
    "        return self.perfomance_rating    \n",
    "\n",
    "\n",
    "class JoiningDetail(Employee):\n",
    "    def __init__(self, id: str, gender: str, salary: int, perfomance_rating: int, date: dt.date):\n",
    "        super().__init__(id, gender, salary, perfomance_rating)\n",
    "        self.date = date\n",
    "    \n",
    "    def get_DoJ(self):\n",
    "        return self.date\n",
    "    \n",
    "    def __str__(self):\n",
    "        return f\"id {self.id} : {self.date}\"\n",
    "\n",
    "\n",
    "class Information:\n",
    "    def __init__(self, e_list):\n",
    "        self.e_list = e_list\n",
    "    \n",
    "    def readData(self):\n",
    "        N = len(self.e_list)\n",
    "        for i in range(N-1):\n",
    "            for j in range(N-i-1):\n",
    "                if self.e_list[j].get_perf_rat() > self.e_list[j+1].get_perf_rat():\n",
    "                    self.e_list[j], self.e_list[j+1] = self.e_list[j+1], self.e_list[j]\n",
    "        \n",
    "        for i in range(3):\n",
    "            for j in range(2 - i):\n",
    "                if self.e_list[j].get_DoJ() > self.e_list[j + 1].get_DoJ():\n",
    "                    self.e_list[j], self.e_list[j+1] = self.e_list[j+1], self.e_list[j]\n",
    "        \n",
    "        return '\\n'.join(list(map(str, self.e_list[:3])))"
   ]
  },
  {
   "cell_type": "code",
   "execution_count": 31,
   "id": "243b37fc",
   "metadata": {},
   "outputs": [
    {
     "name": "stdout",
     "output_type": "stream",
     "text": [
      "id 3 : 1998-10-01\n",
      "id 1 : 2000-10-30\n",
      "id 2 : 2001-10-12\n"
     ]
    }
   ],
   "source": [
    "temp = [('1', 'm', 10, 5, dt.date(2000, 10, 30)), ('2', 'f', 5, 3, dt.date(2001, 10, 12)), ('3', 'm', 100, 10, dt.date(1998, 10, 1))]\n",
    "lst = Information([JoiningDetail(*i) for i in temp])\n",
    "print(lst.readData())"
   ]
  },
  {
   "cell_type": "raw",
   "id": "7fec9518",
   "metadata": {},
   "source": [
    "Q.2 Write a Python program to demonstrate Polymorphism.\n",
    "1. Class Vehicle with a parameterized function Fare, that takes input value as fare and\n",
    "returns it to calling Objects.\n",
    "2. Create five separate variables Bus, Car, Train, Truck and Ship that call the Fare\n",
    "function.\n",
    "3. Use a third variable TotalFare to store the sum of fare for each Vehicle Type.\n",
    "4. Print the TotalFare.\n"
   ]
  },
  {
   "cell_type": "code",
   "execution_count": 32,
   "id": "02ee52db",
   "metadata": {},
   "outputs": [
    {
     "name": "stdout",
     "output_type": "stream",
     "text": [
      "26\n"
     ]
    }
   ],
   "source": [
    "from random import random\n",
    "\n",
    "class Vehicle:\n",
    "    def __init__(self):\n",
    "        self.fare = None\n",
    "    \n",
    "    def Fare(self, fare):\n",
    "        self.fare = fare\n",
    "\n",
    "bus, car, train, truck, ship = Vehicle(), Vehicle(), Vehicle(), Vehicle(), Vehicle()\n",
    "vehicles = [bus, car, train, truck, ship]\n",
    "for v in vehicles: v.Fare(int(random() * 10))\n",
    "totalfare = sum([i.fare for i in vehicles])\n",
    "print(totalfare)"
   ]
  },
  {
   "cell_type": "raw",
   "id": "d4e51caa",
   "metadata": {},
   "source": [
    "Q3. Consider an ongoing test cricket series. Following are the names of the players and their\n",
    "scores in the test1 and 2.\n",
    "Test Match 1 :\n",
    "Dhoni : 56 , Balaji : 94\n",
    "Test Match 2 :\n",
    "Balaji : 80 , Dravid : 105\n",
    "Calculate the highest number of runs scored by an individual cricketer in both of the matches.\n",
    "Create a python function Max_Score (M) that reads a dictionary M that recognizes the player\n",
    "with the highest total score. This function will return ( Top player , Total Score ) . You can\n",
    "consider the Top player as String who is the highest scorer and Top score as Integer .\n",
    "Input : Max_Score({‘test1’:{‘Dhoni’:56, ‘Balaji : 85}, ‘test2’:{‘Dhoni’ 87, ‘Balaji’’:200}})\n",
    "Output : (‘Balaji ‘ , 200)\n"
   ]
  },
  {
   "cell_type": "code",
   "execution_count": 33,
   "id": "9aff8349",
   "metadata": {},
   "outputs": [
    {
     "name": "stdout",
     "output_type": "stream",
     "text": [
      "Total Run Scored by Each Playes in 2 Tests: \n",
      "{'Dhoni': 143, 'Balaji': 285}\n",
      "Player With highest score\n",
      "('Balaji', 285)\n"
     ]
    }
   ],
   "source": [
    "M = {\"test1\": {'Dhoni': 56, \"Balaji\": 85}, 'test2': {'Dhoni': 87, 'Balaji': 200}}\n",
    "\n",
    "def Max_Score(d):\n",
    "    total = {}\n",
    "    for k in d.keys():\n",
    "        for n in d[k].keys():\n",
    "            if n in total.keys():\n",
    "                total[n] = total[n] + d[k][n]\n",
    "            else:\n",
    "                total[n] = d[k][n]\n",
    "    print(\"Total Run Scored by Each Playes in 2 Tests: \")\n",
    "    print(total)\n",
    "\n",
    "    print(\"Player With highest score\")\n",
    "    maxtotal = -1\n",
    "    for n in total.keys():\n",
    "        if total[n] > maxtotal:\n",
    "            maxname = n\n",
    "            maxtotal = total[n]\n",
    "\n",
    "    return (maxname, maxtotal)\n",
    "\n",
    "summary = Max_Score(M)\n",
    "print(summary)"
   ]
  },
  {
   "cell_type": "raw",
   "id": "f3f8d494",
   "metadata": {},
   "source": [
    "Q4. Create a simple Card game in which there are 8 cards which are randomly chosen from a\n",
    "deck. The first card is shown face up. The game asks the player to predict whether the next card\n",
    "in the selection will have a higher or lower value than the currently showing card.\n",
    "For example, say the card that’s shown is a 3. The player chooses “higher,” and the next card is\n",
    "shown. If that card has a higher value, the player is correct. In this example, if the player had\n",
    "chosen “lower,” they would have been incorrect. If the player guesses correctly, they get 20\n",
    "points. If they choose incorrectly, they lose 15 points. If the next card to be turned over has the\n",
    "same value as the previous card, the player is incorrect.\n"
   ]
  },
  {
   "cell_type": "code",
   "execution_count": 34,
   "id": "8b758794",
   "metadata": {},
   "outputs": [
    {
     "ename": "TypeError",
     "evalue": "unsupported operand type(s) for |: 'type' and 'type'",
     "output_type": "error",
     "traceback": [
      "\u001b[1;31m---------------------------------------------------------------------------\u001b[0m",
      "\u001b[1;31mTypeError\u001b[0m                                 Traceback (most recent call last)",
      "\u001b[1;32m<ipython-input-34-22a98af15f1c>\u001b[0m in \u001b[0;36m<module>\u001b[1;34m\u001b[0m\n\u001b[0;32m      2\u001b[0m \u001b[1;33m\u001b[0m\u001b[0m\n\u001b[0;32m      3\u001b[0m \u001b[1;33m\u001b[0m\u001b[0m\n\u001b[1;32m----> 4\u001b[1;33m \u001b[1;32mclass\u001b[0m \u001b[0mDeck\u001b[0m\u001b[1;33m:\u001b[0m\u001b[1;33m\u001b[0m\u001b[1;33m\u001b[0m\u001b[0m\n\u001b[0m\u001b[0;32m      5\u001b[0m     \u001b[1;32mdef\u001b[0m \u001b[0m__init__\u001b[0m\u001b[1;33m(\u001b[0m\u001b[0mself\u001b[0m\u001b[1;33m)\u001b[0m\u001b[1;33m:\u001b[0m\u001b[1;33m\u001b[0m\u001b[1;33m\u001b[0m\u001b[0m\n\u001b[0;32m      6\u001b[0m         \u001b[0mself\u001b[0m\u001b[1;33m.\u001b[0m\u001b[0mdeck\u001b[0m \u001b[1;33m=\u001b[0m \u001b[0mdict\u001b[0m\u001b[1;33m(\u001b[0m\u001b[1;33m)\u001b[0m\u001b[1;33m\u001b[0m\u001b[1;33m\u001b[0m\u001b[0m\n",
      "\u001b[1;32m<ipython-input-34-22a98af15f1c>\u001b[0m in \u001b[0;36mDeck\u001b[1;34m()\u001b[0m\n\u001b[0;32m     19\u001b[0m         \u001b[1;32mreturn\u001b[0m \u001b[0mresult\u001b[0m\u001b[1;33m\u001b[0m\u001b[1;33m\u001b[0m\u001b[0m\n\u001b[0;32m     20\u001b[0m \u001b[1;33m\u001b[0m\u001b[0m\n\u001b[1;32m---> 21\u001b[1;33m     \u001b[1;32mdef\u001b[0m \u001b[0mhas_a_card\u001b[0m\u001b[1;33m(\u001b[0m\u001b[0mself\u001b[0m\u001b[1;33m,\u001b[0m \u001b[0msuit\u001b[0m\u001b[1;33m:\u001b[0m \u001b[0mstr\u001b[0m\u001b[1;33m,\u001b[0m \u001b[0mcard\u001b[0m\u001b[1;33m:\u001b[0m \u001b[0mstr\u001b[0m \u001b[1;33m|\u001b[0m \u001b[0mint\u001b[0m\u001b[1;33m)\u001b[0m \u001b[1;33m->\u001b[0m \u001b[0mbool\u001b[0m\u001b[1;33m:\u001b[0m\u001b[1;33m\u001b[0m\u001b[1;33m\u001b[0m\u001b[0m\n\u001b[0m\u001b[0;32m     22\u001b[0m         \u001b[0mresult\u001b[0m \u001b[1;33m=\u001b[0m \u001b[1;32mFalse\u001b[0m\u001b[1;33m\u001b[0m\u001b[1;33m\u001b[0m\u001b[0m\n\u001b[0;32m     23\u001b[0m         \u001b[1;32mif\u001b[0m \u001b[0mcard\u001b[0m \u001b[1;32min\u001b[0m \u001b[0mself\u001b[0m\u001b[1;33m.\u001b[0m\u001b[0mdeck\u001b[0m\u001b[1;33m[\u001b[0m\u001b[0msuit\u001b[0m\u001b[1;33m]\u001b[0m\u001b[1;33m:\u001b[0m\u001b[1;33m\u001b[0m\u001b[1;33m\u001b[0m\u001b[0m\n",
      "\u001b[1;31mTypeError\u001b[0m: unsupported operand type(s) for |: 'type' and 'type'"
     ]
    }
   ],
   "source": [
    "from random import choice as rand_choice\n",
    "\n",
    "\n",
    "class Deck:\n",
    "    def __init__(self):\n",
    "        self.deck = dict()\n",
    "        self.suit = (\"Clubs\", \"Diamonds\", \"Hearts\", \"Spades\")\n",
    "        self.card = (\"Ace\", 2, 3, 4, 5, 6, 7, 8, 9, 10, \"Jack\", \"Queen\", \"King\")\n",
    "        for suit in self.suit:\n",
    "            self.deck[suit] = list(self.card)\n",
    "\n",
    "    @property\n",
    "    def is_empty(self) -> bool:\n",
    "        result = True\n",
    "        for suit in self.suit:\n",
    "            if self.deck[suit]:\n",
    "                result = False\n",
    "                break\n",
    "        return result\n",
    "\n",
    "    def has_a_card(self, suit: str, card: str | int) -> bool:\n",
    "        result = False\n",
    "        if card in self.deck[suit]:\n",
    "            result = True\n",
    "        return result\n",
    "\n",
    "    def remove_a_card(self, suit: str, card: str | int) -> bool:\n",
    "        assert isinstance(suit, str)\n",
    "        assert isinstance(card, str) or isinstance(card, int)\n",
    "        try:\n",
    "            if not self.is_empty and self.has_a_card(suit, card):\n",
    "                self.deck[suit].remove(card)\n",
    "                return True\n",
    "            else:\n",
    "                print(f'===WARNING!!!===: Randomly chosen \"{card} of {suit}\" was removed from the deck before!')\n",
    "                return False\n",
    "        except AssertionError as e:\n",
    "            print(e)\n",
    "\n",
    "    def clearify(self) -> None:\n",
    "        \"\"\"\n",
    "        Take all cards away from deck\n",
    "        :return: None\n",
    "        \"\"\"\n",
    "        if not self.is_empty:\n",
    "            for suit in self.deck:\n",
    "                self.deck[suit] = []\n",
    "\n",
    "    def __repr__(self):\n",
    "        return f'Deck:\\n{self.deck}'\n",
    "\n",
    "\n",
    "class Card:\n",
    "\n",
    "    def __init__(self, suit: str, card: str | int) -> None:\n",
    "        \"\"\"\n",
    "\n",
    "        :type card: str or int\n",
    "        \"\"\"\n",
    "        assert isinstance(suit, str)\n",
    "        assert (isinstance(card, str) or isinstance(card, int))\n",
    "\n",
    "        assert suit in (\"Clubs\", \"Diamonds\", \"Hearts\", \"Spades\")\n",
    "        assert card in (\"Ace\", 2, 3, 4, 5, 6, 7, 8, 9, 10, \"Jack\", \"Queen\", \"King\")\n",
    "\n",
    "        try:\n",
    "            self.suit = suit\n",
    "            if type(card) == str:\n",
    "                if card == \"Jack\":\n",
    "                    self.card = (\"Jack\", 11)\n",
    "                elif card == \"Queen\":\n",
    "                    self.card = (\"Queen\", 12)\n",
    "                elif card == \"King\":\n",
    "                    self.card = (\"King\", 13)\n",
    "                elif card == \"Ace\":\n",
    "                    self.card = (\"Ace\", 14)\n",
    "            elif type(card) == int:\n",
    "                self.card = (card, card)\n",
    "        except AssertionError as e:\n",
    "            print(e)\n",
    "\n",
    "    def __lt__(self, other):\n",
    "        if self.card[1] < other.card[1]:\n",
    "            return True\n",
    "        else:\n",
    "            return False\n",
    "\n",
    "    def __gt__(self, other):\n",
    "        if self.card[1] > other.card[1]:\n",
    "            return True\n",
    "        else:\n",
    "            return False\n",
    "\n",
    "    def __eq__(self, other):\n",
    "        if self.card[1] == other.card[1]:\n",
    "            return True\n",
    "        else:\n",
    "            return False\n",
    "\n",
    "    def __repr__(self):\n",
    "        return f'\"{self.card[0]} of {self.suit}\"'\n",
    "\n",
    "\n",
    "def take_cards(num_of_cards: int) -> list:\n",
    "    deck = Deck()\n",
    "    cards_taken: list[Card] = []\n",
    "    i = 0\n",
    "\n",
    "    while i < num_of_cards:\n",
    "        suit = rand_choice(deck.suit)\n",
    "        card = rand_choice(deck.deck[suit])\n",
    "        # if randomly chosen card is in the deck, remove it from the deck\n",
    "        # else repeat randomly choosing a card (at the same iteration),\n",
    "        # while index \"i\" is not incremented  \n",
    "        if deck.remove_a_card(suit, card):\n",
    "            card = Card(suit, card)\n",
    "            cards_taken.append(card)\n",
    "            i += 1\n",
    "\n",
    "    return cards_taken\n",
    "\n",
    "\n",
    "def play_game(cards_taken) -> None:\n",
    "    score = 0\n",
    "    print(f'ONLY FOR DEBUGGING!!! Do not show all {len(cards_taken)} card(s) to a player!')\n",
    "    print(f'ONLY FOR DEBUGGING!!! Cards randomly taken from the deck:\\n{cards_taken}\\n')\n",
    "    curr_card = cards_taken[0]\n",
    "    cards_taken.pop(0)\n",
    "\n",
    "    i = 1\n",
    "    while cards_taken:\n",
    "        # print(f'ONLY FOR DEBUGGING!!! Remaining cards randomly taken from the deck:\\n{cards_taken}\\n')\n",
    "        print(f'Card taken from remaining {len(cards_taken) + 1} chosen card(s): {curr_card}')\n",
    "        while True:\n",
    "            try:\n",
    "                print(f'{i}. Guess, if the next card would be higher or lower of the current one.')\n",
    "                guess = int(input(f'(For \"higher\" enter 1, for \"lower\" enter 0): '))\n",
    "                assert guess in (0, 1)\n",
    "                break\n",
    "            except ValueError:\n",
    "                print('\\nVALUE WARNING: Incorrect input!\\n')\n",
    "                print(f'Card taken from remaining {len(cards_taken) + 1} chosen card(s): {curr_card}')\n",
    "            except AssertionError:\n",
    "                print('\\nASSERT WARNING: Incorrect input!\\n')\n",
    "                print(f'Card taken from remaining {len(cards_taken) + 1} chosen card(s): {curr_card}')\n",
    "\n",
    "        next_card = cards_taken[0]\n",
    "        cards_taken.pop(0)\n",
    "\n",
    "        if guess == 1:\n",
    "            if curr_card < next_card:\n",
    "                score += 20\n",
    "                print(f\"\\nCORRECT: You get 20 points. Current score: {score}\\n\")\n",
    "            else:\n",
    "                score -= 15\n",
    "                print(f\"\\nINCORRECT: You lose 15 points. Current score: {score}\\n\")\n",
    "        elif guess == 0:\n",
    "            if curr_card > next_card:\n",
    "                score += 20\n",
    "                print(f\"\\nCORRECT: You get 20 points. Current score: {score}\\n\")\n",
    "            else:\n",
    "                score -= 15\n",
    "                print(f\"\\nINCORRECT: You lose 15 points. Current score: {score}\\n\")\n",
    "\n",
    "        curr_card = next_card\n",
    "        i += 1\n",
    "\n",
    "    print(f'Card taken from remaining {len(cards_taken) + 1} chosen card(s): {curr_card}')\n",
    "    print(f\"Total score: {score}\")\n",
    "\n",
    "\n",
    "cards_from_deck = take_cards(8)\n",
    "play_game(cards_from_deck)"
   ]
  },
  {
   "cell_type": "raw",
   "id": "65d42a43",
   "metadata": {},
   "source": [
    "Q5. Create an empty dictionary called Car_0 . Then fill the dictionary with Keys : color , speed\n",
    ", X_position and Y_position.\n",
    "car_0 = {'x_position': 10, 'y_position': 72, 'speed': 'medium'} .\n",
    "a) If the speed is slow the coordinates of the X_pos get incremented by 2.\n",
    "b) If the speed is Medium the coordinates of the X_pos gets incremented by 9\n",
    "c) Now if the speed is Fast the coordinates of the X_pos gets incremented by 22.\n",
    "Print the modified dictionary."
   ]
  },
  {
   "cell_type": "code",
   "execution_count": 35,
   "id": "4901d127",
   "metadata": {},
   "outputs": [
    {
     "name": "stdout",
     "output_type": "stream",
     "text": [
      "{'x_position': 19, 'y_position': 72, 'speed': 'medium', 'color': 'red'}\n"
     ]
    }
   ],
   "source": [
    "Car_0 = {}\n",
    "Car_0['x_position'] = 10\n",
    "Car_0['y_position'] = 72\n",
    "Car_0['speed'] = 'medium'\n",
    "Car_0['color'] = 'red'\n",
    "if Car_0['speed'] == 'slow':\n",
    "    Car_0['x_position'] += 2\n",
    "elif Car_0['speed'] == 'medium':\n",
    "    Car_0['x_position'] += 9\n",
    "elif Car_0['speed'] == 'fast':\n",
    "    Car_0['x_position'] += 22\n",
    "print(Car_0)"
   ]
  },
  {
   "cell_type": "raw",
   "id": "015a0ca6",
   "metadata": {},
   "source": [
    "Q6. Show a basic implementation of abstraction in python using the abstract classes.\n",
    "1. Create an abstract class in python.\n",
    "2. Implement abstraction with the other classes and base class as abstract class.\n"
   ]
  },
  {
   "cell_type": "code",
   "execution_count": 36,
   "id": "0fcf3a9c",
   "metadata": {},
   "outputs": [
    {
     "name": "stdout",
     "output_type": "stream",
     "text": [
      "I have 3 sides\n",
      "I have 5 sides\n"
     ]
    }
   ],
   "source": [
    "from abc import ABC, abstractmethod\n",
    " \n",
    "class Polygon(ABC):\n",
    " \n",
    "    @abstractmethod\n",
    "    def noofsides(self):\n",
    "        pass\n",
    " \n",
    "class Triangle(Polygon):\n",
    " \n",
    "    # overriding abstract method\n",
    "    def noofsides(self):\n",
    "        print(\"I have 3 sides\")\n",
    " \n",
    "class Pentagon(Polygon):\n",
    " \n",
    "    # overriding abstract method\n",
    "    def noofsides(self):\n",
    "        print(\"I have 5 sides\")\n",
    "        \n",
    "R = Triangle()\n",
    "R.noofsides()\n",
    " \n",
    "R = Pentagon()\n",
    "R.noofsides()"
   ]
  },
  {
   "cell_type": "raw",
   "id": "366e56e9",
   "metadata": {},
   "source": [
    "Q7. Create a program in python to demonstrate Polymorphism.\n",
    "1. Make use of private and protected members using python name mangling techniques.\n"
   ]
  },
  {
   "cell_type": "code",
   "execution_count": 37,
   "id": "019ef222",
   "metadata": {},
   "outputs": [
    {
     "name": "stdout",
     "output_type": "stream",
     "text": [
      "Meow\n",
      "I am a cat. My name is Kitty. I am 2.5 years old.\n"
     ]
    }
   ],
   "source": [
    "class Cat:\n",
    "    def __init__(self, name, age):\n",
    "        self.name = name\n",
    "        self.age = age\n",
    "\n",
    "    def info(self):\n",
    "        print(f\"I am a cat. My name is {self.name}. I am {self.age} years old.\")\n",
    "\n",
    "    def make_sound(self):\n",
    "        print(\"Meow\")\n",
    "\n",
    "\n",
    "\n",
    "\n",
    "\n",
    "animal = Cat(\"Kitty\", 2.5)\n",
    "animal.make_sound()\n",
    "animal.info()\n",
    "    "
   ]
  },
  {
   "cell_type": "raw",
   "id": "e950e416",
   "metadata": {},
   "source": [
    "Q8. Given a list of 50 natural numbers from 1-50. Create a function that will take every element\n",
    "from the list and return the square of each element. Use the python map and filter methods to\n",
    "implement the function on the given list."
   ]
  },
  {
   "cell_type": "code",
   "execution_count": 38,
   "id": "2ccf21cc",
   "metadata": {},
   "outputs": [
    {
     "name": "stdout",
     "output_type": "stream",
     "text": [
      "[1, 2, 3, 4, 5, 6, 7, 8, 9, 10, 11, 12, 13, 14, 15, 16, 17, 18, 19, 20, 21, 22, 23, 24, 25, 26, 27, 28, 29, 30, 31, 32, 33, 34, 35, 36, 37, 38, 39, 40, 41, 42, 43, 44, 45, 46, 47, 48, 49, 50]\n",
      "\n",
      "\n",
      "[1, 2, 3, 4, 5, 6, 7, 8, 9, 10, 11, 12, 13, 14, 15, 16, 17, 18, 19, 20, 21, 22, 23, 24, 25, 26, 27, 28, 29, 30, 31, 32, 33, 34, 35, 36, 37, 38, 39, 40, 41, 42, 43, 44, 45, 46, 47, 48, 49, 50]\n"
     ]
    }
   ],
   "source": [
    "def lis(num):\n",
    "    return num\n",
    "num= range(1,51)\n",
    "list1m=list(map(lis,num))\n",
    "print(list1m)\n",
    "print(\"\\n\")\n",
    "list1f=list(filter(lis,num))\n",
    "print(list1f)"
   ]
  },
  {
   "cell_type": "code",
   "execution_count": 39,
   "id": "9457f9dc",
   "metadata": {},
   "outputs": [
    {
     "name": "stdout",
     "output_type": "stream",
     "text": [
      "[1, 4, 9, 16, 25, 36, 49, 64, 81, 100, 121, 144, 169, 196, 225, 256, 289, 324, 361, 400, 441, 484, 529, 576, 625, 676, 729, 784, 841, 900, 961, 1024, 1089, 1156, 1225, 1296, 1369, 1444, 1521, 1600, 1681, 1764, 1849, 1936, 2025, 2116, 2209, 2304, 2401, 2500]\n",
      "\n",
      "\n",
      "[1, 2, 3, 4, 5, 6, 7, 8, 9, 10, 11, 12, 13, 14, 15, 16, 17, 18, 19, 20, 21, 22, 23, 24, 25, 26, 27, 28, 29, 30, 31, 32, 33, 34, 35, 36, 37, 38, 39, 40, 41, 42, 43, 44, 45, 46, 47, 48, 49, 50]\n"
     ]
    }
   ],
   "source": [
    "def lis(num):\n",
    "    return num**2\n",
    "num= range(1,51)\n",
    "list2m=list(map(lis,num))\n",
    "print(list2m)\n",
    "print(\"\\n\")\n",
    "list2f=list(filter(lis,num))\n",
    "\n",
    "\n",
    "print(list2f)"
   ]
  },
  {
   "cell_type": "raw",
   "id": "87c47553",
   "metadata": {},
   "source": [
    "Q9. Create a class, Triangle. Its init() method should take self, angle1, angle2, and angle3 as\n",
    "arguments."
   ]
  },
  {
   "cell_type": "code",
   "execution_count": 40,
   "id": "53d935fe",
   "metadata": {},
   "outputs": [],
   "source": [
    "class Triangle(object):\n",
    "    def __init__(self,angle1,angle2,angle3):\n",
    "        self.angle1=angle1\n",
    "        self.angle2=angle2\n",
    "        self.angle3=angle3"
   ]
  },
  {
   "cell_type": "raw",
   "id": "d20aa2e5",
   "metadata": {},
   "source": [
    "Q10. Create a class variable named number_of_sides and set it equal to 3."
   ]
  },
  {
   "cell_type": "code",
   "execution_count": 41,
   "id": "835fcfe4",
   "metadata": {},
   "outputs": [],
   "source": [
    "number_of_sides=3"
   ]
  },
  {
   "cell_type": "raw",
   "id": "61920cb4",
   "metadata": {},
   "source": [
    "Q11. Create a method named check_angles. The sum of a triangle's three angles should return\n",
    "True if the sum is equal to 180, and False otherwise. The method should print whether the\n",
    "angles belong to a triangle or not.\n",
    "11.1 Write methods to verify if the triangle is an acute triangle or obtuse triangle.\n",
    "11.2 Create an instance of the triangle class and call all the defined methods.\n",
    "11.3 Create three child classes of triangle class - isosceles_triangle, right_triangle and\n",
    "equilateral_triangle.\n",
    "11.4 Define methods which check for their properties."
   ]
  },
  {
   "cell_type": "code",
   "execution_count": 42,
   "id": "e757672e",
   "metadata": {},
   "outputs": [],
   "source": [
    "class Triangle(object):\n",
    "    def __init__(self,angle1,angle2,angle3):\n",
    "        self.angle1=angle1\n",
    "        self.angle2=angle2\n",
    "        self.angle3=angle3\n",
    "        \n",
    "    def check_angles(self):\n",
    "        if self.angle1+self.angle2+self.angle3 ==180:\n",
    "            return True\n",
    "        else:\n",
    "            return False"
   ]
  },
  {
   "cell_type": "code",
   "execution_count": 43,
   "id": "9488786b",
   "metadata": {},
   "outputs": [
    {
     "data": {
      "text/plain": [
       "True"
      ]
     },
     "execution_count": 43,
     "metadata": {},
     "output_type": "execute_result"
    }
   ],
   "source": [
    "my_triangle=Triangle(90,30,60)\n",
    "my_triangle.check_angles()"
   ]
  },
  {
   "cell_type": "code",
   "execution_count": 44,
   "id": "7f073152",
   "metadata": {},
   "outputs": [
    {
     "data": {
      "text/plain": [
       "'Acute'"
      ]
     },
     "execution_count": 44,
     "metadata": {},
     "output_type": "execute_result"
    }
   ],
   "source": [
    "class Triangle:\n",
    "    def __init__(self, a, b, c):\n",
    "        self.a, self.b, self.c = a, b, c\n",
    "        \n",
    "    \n",
    "    def type_of_triangle(self):\n",
    "        if self.a < 90 and self.b < 90 and self.c < 90:\n",
    "            return \"Acute\"\n",
    "        return \"Obtuse\"\n",
    "    \n",
    "ch=Triangle(60,80,40)\n",
    "ch.type_of_triangle()"
   ]
  },
  {
   "cell_type": "code",
   "execution_count": 45,
   "id": "9ed7efc7",
   "metadata": {},
   "outputs": [
    {
     "name": "stdout",
     "output_type": "stream",
     "text": [
      "True\n",
      "True\n",
      "True\n",
      "True\n",
      "True\n",
      "True\n",
      "True\n",
      "True\n",
      "True\n",
      "False\n",
      "True\n",
      "False\n"
     ]
    }
   ],
   "source": [
    "class Triangle:\n",
    "    def __init__(self, a, b, c):\n",
    "        self.a, self.b, self.c = a, b, c\n",
    "        print(self.is_right_triangle())\n",
    "    \n",
    "    def type_of_triangle(self):\n",
    "        if self.a < 90 and self.b < 90 and self.c < 90:\n",
    "            return \"Acute\"\n",
    "        return \"Obtuse\"\n",
    "    \n",
    "    def is_right_triangle(self):\n",
    "        if sum((self.a, self.b, self.c)) == 180:\n",
    "            return True\n",
    "        return False\n",
    "\n",
    "\n",
    "class Isosceles_triangle(Triangle):\n",
    "    def __init__(self, a, b, c):\n",
    "        super().__init__(a, b, c)\n",
    "    \n",
    "    def check(self):\n",
    "        if self.a == self.b or self.b == self.c or self.c == self.a:\n",
    "            return True\n",
    "        return False\n",
    "\n",
    "\n",
    "class Right_triangle(Triangle):\n",
    "    def __init__(self, a, b, c):\n",
    "        super().__init__(a, b, c)\n",
    "    \n",
    "    def check(self):\n",
    "        if self.a == 90 or self.b == 90 or self.c == 90:\n",
    "            return True\n",
    "        return False\n",
    "\n",
    "\n",
    "class Equilateral_triangle(Triangle):\n",
    "    def __init__(self, a, b, c):\n",
    "        super().__init__(a, b, c)\n",
    "    \n",
    "    def check(self):\n",
    "        if self.a == self.b == self.c:\n",
    "            return True\n",
    "        return False\n",
    "\n",
    "\n",
    "# TESTS:\n",
    "t1 = Isosceles_triangle(60, 60, 60)\n",
    "print(t1.check())\n",
    "t2 = Right_triangle(90, 30, 60)\n",
    "print(t2.check())\n",
    "t3 = Equilateral_triangle(60, 60, 60)\n",
    "print(t3.check())\n",
    "t1 = Isosceles_triangle(70, 55, 55)\n",
    "print(t1.check())\n",
    "t2 = Right_triangle(60, 60, 60)\n",
    "print(t2.check())\n",
    "t3 = Equilateral_triangle(60, 59, 61)\n",
    "print(t3.check())"
   ]
  },
  {
   "cell_type": "raw",
   "id": "26f576a7",
   "metadata": {},
   "source": [
    "Q12. Create a class isosceles_right_triangle which inherits from isosceles_triangle and\n",
    "right_triangle.\n",
    "12.1 Define methods which check for their properties"
   ]
  },
  {
   "cell_type": "code",
   "execution_count": 47,
   "id": "f0fb72e4",
   "metadata": {},
   "outputs": [],
   "source": [
    "class isosceles_right_triangle:\n",
    "    def __init__(self, a, b, c):\n",
    "        self.a, self.b, self.c = a, b, c\n",
    "        if sum((self.a, self.b, self.c)) == 180:\n",
    "            return True\n",
    "        return False\n",
    "class Isosceles_triangle(isosceles_right_triangle):\n",
    "    def __init__(self, a, b, c):\n",
    "        super().__init__(a, b, c)\n",
    "    \n",
    "    def check(self):\n",
    "        if self.a == self.b or self.b == self.c or self.c == self.a:\n",
    "            return True\n",
    "        return False\n",
    "\n",
    "\n",
    "class Right_triangle(isosceles_right_triangle):\n",
    "    def __init__(self, a, b, c):\n",
    "        super().__init__(a, b, c)\n",
    "    \n",
    "    def check(self):\n",
    "        if self.a == 90 or self.b == 90 or self.c == 90:\n",
    "            return True\n",
    "        return False"
   ]
  },
  {
   "cell_type": "code",
   "execution_count": 48,
   "id": "a369e84f",
   "metadata": {},
   "outputs": [
    {
     "name": "stdout",
     "output_type": "stream",
     "text": [
      "True\n",
      "True\n"
     ]
    }
   ],
   "source": [
    "t1 = Isosceles_triangle(60, 60, 60)\n",
    "print(t1.check())\n",
    "t2 = Right_triangle(90, 30, 60)\n",
    "print(t2.check())"
   ]
  },
  {
   "cell_type": "code",
   "execution_count": null,
   "id": "409667ef",
   "metadata": {},
   "outputs": [],
   "source": []
  }
 ],
 "metadata": {
  "kernelspec": {
   "display_name": "Python 3",
   "language": "python",
   "name": "python3"
  },
  "language_info": {
   "codemirror_mode": {
    "name": "ipython",
    "version": 3
   },
   "file_extension": ".py",
   "mimetype": "text/x-python",
   "name": "python",
   "nbconvert_exporter": "python",
   "pygments_lexer": "ipython3",
   "version": "3.8.8"
  }
 },
 "nbformat": 4,
 "nbformat_minor": 5
}

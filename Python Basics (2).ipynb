{
 "cells": [
  {
   "cell_type": "code",
   "execution_count": null,
   "id": "7cdf2a29",
   "metadata": {},
   "outputs": [],
   "source": [
    "#Write a program to reverse an integer in Python. \n",
    "\n",
    "ex - 789 -> 987"
   ]
  },
  {
   "cell_type": "code",
   "execution_count": null,
   "id": "2ed291d4",
   "metadata": {},
   "outputs": [],
   "source": [
    "#Write a program in Python to check given number is prime or not."
   ]
  },
  {
   "cell_type": "code",
   "execution_count": 3,
   "id": "40bdda5f",
   "metadata": {},
   "outputs": [
    {
     "name": "stdout",
     "output_type": "stream",
     "text": [
      "67 is a prime number.\n"
     ]
    }
   ],
   "source": [
    "def is_prime(num):\n",
    "    if num < 2: \n",
    "        return False\n",
    "    for i in range(2, int(num**0.5) + 1):\n",
    "        if num % i == 0:\n",
    "            return False\n",
    "    return True\n",
    "\n",
    "\n",
    "number = int(input(\"Enter a number: \"))\n",
    "if is_prime(number):\n",
    "    print(number, \"is a prime number.\")\n",
    "else:\n",
    "    print(number, \"is not a prime number.\")\n"
   ]
  },
  {
   "cell_type": "code",
   "execution_count": null,
   "id": "7c552a4b",
   "metadata": {},
   "outputs": [],
   "source": [
    "def is_prime(number):\n",
    "    if num <= 1:\n",
    "        return False\n",
    "\n",
    "    for i in range(2, num // 2 + 1):\n",
    "        if num % i == 0:\n",
    "            return False\n",
    "\n",
    "    return True\n",
    "\n",
    "num = int(input(\"Enter a num: \"))\n",
    "if is_prime(num):\n",
    "    print(f\"{num} is a prime num\")\n",
    "else:\n",
    "    print(f\"{num} is not a prime num\")\n"
   ]
  },
  {
   "cell_type": "code",
   "execution_count": 4,
   "id": "5303a712",
   "metadata": {},
   "outputs": [
    {
     "name": "stdout",
     "output_type": "stream",
     "text": [
      "prime\n"
     ]
    }
   ],
   "source": [
    "y=int(input(\"enter an integer\"))\n",
    "if y==1:\n",
    "    print(\"1 is neither prime nor composite\")\n",
    "else:\n",
    "    flag=0\n",
    "    for x in range(2,y):\n",
    "        if y%x==0:\n",
    "            print(\"not prime\")\n",
    "            flag=1\n",
    "            break\n",
    "    if flag==0:\n",
    "        print('prime')\n"
   ]
  },
  {
   "cell_type": "code",
   "execution_count": 7,
   "id": "331b6991",
   "metadata": {},
   "outputs": [
    {
     "data": {
      "text/plain": [
       "456789"
      ]
     },
     "execution_count": 7,
     "metadata": {},
     "output_type": "execute_result"
    }
   ],
   "source": [
    "#Write a program to reverse an integer in Python. \n",
    "\n",
    "def reverse(num):\n",
    "    reversed_num = 0\n",
    "    \n",
    "    while num > 0:\n",
    "        remainder = num % 10\n",
    "        reversed_num = (reversed_num * 10) + remainder\n",
    "        num //= 10\n",
    "    return reversed_num\n",
    "\n",
    "reverse(987654)"
   ]
  },
  {
   "cell_type": "code",
   "execution_count": null,
   "id": "a8ec9276",
   "metadata": {},
   "outputs": [],
   "source": [
    "#Write a program in Python to find greatest among three integers. "
   ]
  },
  {
   "cell_type": "code",
   "execution_count": null,
   "id": "b46022b8",
   "metadata": {},
   "outputs": [],
   "source": [
    "def find_greatest(num1, num2, num3): \n",
    "    if num1 >= num2 and num1 >= num3: \n",
    "        return num1 \n",
    "    elif num2 >= num1 and num2 >= num3: \n",
    "        return num2 \n",
    "    else: \n",
    "        return num3 \n",
    "    \n",
    "# Test the function \n",
    "\n",
    "num1 = 10 \n",
    "num2 = 25 \n",
    "num3 = 15 \n",
    "\n",
    "greatest_num = find_greatest(num1, num2, num3) \n",
    "print(\"The greatest number is:\", greatest_num) "
   ]
  },
  {
   "cell_type": "code",
   "execution_count": null,
   "id": "67e83e17",
   "metadata": {},
   "outputs": [],
   "source": []
  },
  {
   "cell_type": "code",
   "execution_count": null,
   "id": "11d98d95",
   "metadata": {},
   "outputs": [],
   "source": [
    "#Write a program in Python to check given number is prime or not. \n",
    "\n",
    "def is_prime(n):\n",
    "    # Numbers less than 2 are not prime\n",
    "    if n < 2:\n",
    "        return False\n",
    "\n",
    "    # Check for divisibility by numbers from 2 to sqrt(n)\n",
    "    for i in range(2, int(n/2) + 1):\n",
    "        if n % i == 0:\n",
    "            return False\n",
    "\n",
    "    return True\n",
    "\n",
    "# Test the function\n",
    "num = 17\n",
    "if is_prime(num):\n",
    "    print(num, \"is a prime number\")\n",
    "else:\n",
    "    print(num, \"is not a prime number\")\n"
   ]
  },
  {
   "cell_type": "code",
   "execution_count": null,
   "id": "cffbc350",
   "metadata": {},
   "outputs": [],
   "source": [
    "#Create a python program to print left triangle pattern "
   ]
  },
  {
   "cell_type": "code",
   "execution_count": null,
   "id": "e27046db",
   "metadata": {},
   "outputs": [],
   "source": [
    "#home work"
   ]
  },
  {
   "cell_type": "code",
   "execution_count": null,
   "id": "61351ac7",
   "metadata": {},
   "outputs": [],
   "source": []
  },
  {
   "cell_type": "code",
   "execution_count": null,
   "id": "47517109",
   "metadata": {},
   "outputs": [],
   "source": [
    "#Write a program to check a given number is even or not using a lambda function: \n",
    "\n",
    "#Note: create a user defined input "
   ]
  },
  {
   "cell_type": "code",
   "execution_count": 16,
   "id": "f69881e4",
   "metadata": {},
   "outputs": [
    {
     "name": "stdout",
     "output_type": "stream",
     "text": [
      "5\n",
      "odd\n"
     ]
    }
   ],
   "source": [
    "def even(n):\n",
    "    even_numbers = lambda x: x % 2 == 0 \n",
    "    if (even_numbers(n) == True):\n",
    "        print(\"even\")\n",
    "    else:\n",
    "        print(\"odd\")\n",
    "n = int(input())\n",
    "even(n)"
   ]
  },
  {
   "cell_type": "code",
   "execution_count": 17,
   "id": "f255632d",
   "metadata": {},
   "outputs": [],
   "source": [
    "even_numbers = lambda x:\"even\" if x%2==0 else \"odd\""
   ]
  },
  {
   "cell_type": "code",
   "execution_count": 18,
   "id": "eb95410b",
   "metadata": {},
   "outputs": [
    {
     "data": {
      "text/plain": [
       "'even'"
      ]
     },
     "execution_count": 18,
     "metadata": {},
     "output_type": "execute_result"
    }
   ],
   "source": [
    "even_numbers(4)"
   ]
  },
  {
   "cell_type": "code",
   "execution_count": null,
   "id": "6bbf8928",
   "metadata": {},
   "outputs": [],
   "source": []
  }
 ],
 "metadata": {
  "kernelspec": {
   "display_name": "Python 3 (ipykernel)",
   "language": "python",
   "name": "python3"
  },
  "language_info": {
   "codemirror_mode": {
    "name": "ipython",
    "version": 3
   },
   "file_extension": ".py",
   "mimetype": "text/x-python",
   "name": "python",
   "nbconvert_exporter": "python",
   "pygments_lexer": "ipython3",
   "version": "3.11.2"
  }
 },
 "nbformat": 4,
 "nbformat_minor": 5
}

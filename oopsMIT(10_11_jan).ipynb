{
 "cells": [
  {
   "cell_type": "code",
   "execution_count": null,
   "metadata": {
    "id": "2OmKf26IT6Gb"
   },
   "outputs": [],
   "source": [
    "#Object oriented language"
   ]
  },
  {
   "cell_type": "markdown",
   "metadata": {
    "id": "7zlvm_qcUno-"
   },
   "source": [
    "# OOPS - Object Oriented Programming\n",
    "\n",
    "#A language which works on objects and classes.\n",
    "# Pure oops----- can only work with classes and objects eg JAVA\n",
    "# Semi oops ---- can work with or without classes and objects eg Python, Cpp\n"
   ]
  },
  {
   "cell_type": "code",
   "execution_count": null,
   "metadata": {
    "colab": {
     "base_uri": "https://localhost:8080/"
    },
    "id": "RLVoFqKdUywM",
    "outputId": "b60fb33c-032b-4729-cf97-2a13ca682f70"
   },
   "outputs": [
    {
     "name": "stdout",
     "output_type": "stream",
     "text": [
      "hello\n"
     ]
    }
   ],
   "source": [
    "print(\"hello\")"
   ]
  },
  {
   "cell_type": "code",
   "execution_count": null,
   "metadata": {
    "id": "GOzx8olxU0Kx"
   },
   "outputs": [],
   "source": [
    "#Class\n",
    "#Object\n",
    "#Polymorphism\n",
    "#Inheritance\n",
    "#Abstraction\n",
    "#Encapsulation"
   ]
  },
  {
   "cell_type": "markdown",
   "metadata": {
    "id": "C-bcKHDkWjsQ"
   },
   "source": [
    "# Class\n",
    " A class contains blueprint or the prototype from which the objects are made.\n",
    "# Objects\n",
    "\n",
    "The object is an entity that has a state and behavior associated with it. \n",
    "It may be any real-world object like a mouse, keyboard, chair, table, pen, etc. \n",
    "Integers, strings, floating-point numbers, even arrays, and dictionaries, are all objects. \n",
    "The number 12 is an object, the string “Hello, world” is an object, a list is an object \n",
    "that can hold other objects, and so on. \n",
    "\n",
    "An object consists of :\n",
    "\n",
    "State: It is represented by the attributes of an object. It also reflects the properties of an object.\n",
    "\n",
    "Behavior: It is represented by the methods of an object. It also reflects the response of an object to other objects.\n",
    "\n",
    "Identity: It gives a unique name to an object and enables one object to interact with other objects.\n",
    "To understand the state, behavior, and identity \n",
    "\n",
    "let us take the example of the class dog (explained above). \n",
    "\n",
    "The identity can be considered as the name of the dog.\n",
    "State or Attributes can be considered as the breed, age, or color of the dog.\n",
    "The behavior can be considered as to whether the dog is eating or sleeping.\n",
    "\n"
   ]
  },
  {
   "cell_type": "code",
   "execution_count": null,
   "metadata": {
    "id": "RIZ7qatLWBP6"
   },
   "outputs": [],
   "source": [
    "#syntax\n",
    "\n",
    "class class_name:  # creation of a class\n",
    "    #statements\n",
    "    pass\n",
    "\n",
    "obj_name = class_name()  #creation of object\n",
    "    \n",
    "\n",
    "\n",
    "    \n"
   ]
  },
  {
   "cell_type": "code",
   "execution_count": null,
   "metadata": {
    "id": "2XSvNPh8WB1U"
   },
   "outputs": [],
   "source": [
    "class Student():\n",
    "  def details(self,name,age):\n",
    "    self.name = name\n",
    "    self.age = age\n",
    "\n",
    "obj1  = Student()\n",
    "obj1.details(\"Anand\",20)\n",
    "\n",
    "obj2 = Student()\n",
    "obj2.details(\"Navin\",21)"
   ]
  },
  {
   "cell_type": "code",
   "execution_count": null,
   "metadata": {
    "colab": {
     "base_uri": "https://localhost:8080/"
    },
    "id": "TOeFe13YWB86",
    "outputId": "a67a3cc5-845a-4f4d-fe8b-9085eaf722ca"
   },
   "outputs": [
    {
     "data": {
      "text/plain": [
       "20"
      ]
     },
     "execution_count": 11,
     "metadata": {},
     "output_type": "execute_result"
    }
   ],
   "source": [
    "obj1.age"
   ]
  },
  {
   "cell_type": "code",
   "execution_count": null,
   "metadata": {
    "colab": {
     "base_uri": "https://localhost:8080/",
     "height": 35
    },
    "id": "_M9AWsCRWCAN",
    "outputId": "33580f72-6f33-44c4-bea2-1bdf38f04708"
   },
   "outputs": [
    {
     "data": {
      "application/vnd.google.colaboratory.intrinsic+json": {
       "type": "string"
      },
      "text/plain": [
       "'Navin'"
      ]
     },
     "execution_count": 10,
     "metadata": {},
     "output_type": "execute_result"
    }
   ],
   "source": [
    "obj2.name"
   ]
  },
  {
   "cell_type": "code",
   "execution_count": null,
   "metadata": {
    "id": "G1KNpmxEWCDo"
   },
   "outputs": [],
   "source": [
    "#init ----constructor ---It is automatically called as soon as the object is created. \n",
    "#automatically called when object is created\n",
    "# This is used to initialize the values\n"
   ]
  },
  {
   "cell_type": "code",
   "execution_count": 1,
   "metadata": {
    "id": "pNL-PoJkWCTO"
   },
   "outputs": [],
   "source": [
    "class Student:\n",
    "    def __init__(self,name,age,roll):\n",
    "        self.name = name\n",
    "        self.age = age\n",
    "        self.roll = roll\n",
    "\n",
    "#making an object\n",
    "s1 = Student(\"Shivam \", 22,1)\n",
    "\n",
    "s2 = Student(\"Divya\", 23,2)"
   ]
  },
  {
   "cell_type": "code",
   "execution_count": 2,
   "metadata": {
    "id": "pDvWLgR9WCYD"
   },
   "outputs": [],
   "source": [
    "class Student:\n",
    "    def __init__(self,name,age,roll):\n",
    "        self.name = name\n",
    "        self.age = age\n",
    "        self.roll = roll\n",
    "         \n",
    "#making an object\n",
    "s1 = Student(\"Shivam \", 22,1)\n",
    "\n",
    "s2 = Student(\"Divya\", 23,2)"
   ]
  },
  {
   "cell_type": "code",
   "execution_count": 4,
   "metadata": {},
   "outputs": [
    {
     "data": {
      "text/plain": [
       "22"
      ]
     },
     "execution_count": 4,
     "metadata": {},
     "output_type": "execute_result"
    }
   ],
   "source": [
    "s1.age"
   ]
  },
  {
   "cell_type": "code",
   "execution_count": 5,
   "metadata": {
    "id": "nmh9sXkXWCb9"
   },
   "outputs": [],
   "source": [
    "#Four important pillar of oops\n",
    "# Inheritance\n",
    "# Encapsulation\n",
    "# Polymorphism\n",
    "# Abstraction"
   ]
  },
  {
   "cell_type": "code",
   "execution_count": 6,
   "metadata": {
    "id": "Q2g1pvDbgR8R"
   },
   "outputs": [],
   "source": [
    "#Inheritance"
   ]
  },
  {
   "cell_type": "code",
   "execution_count": 7,
   "metadata": {
    "id": "NzVElgyfgR_w"
   },
   "outputs": [],
   "source": [
    "class Parent:\n",
    "\n",
    "  def a(self):\n",
    "    print(\"I can access Parent classs\")\n",
    "\n",
    "class Child(Parent):\n",
    "\n",
    "  def b(self):\n",
    "    print(\" I can access child class\")\n",
    "\n",
    "obj1 = Parent()\n",
    "obj2 = Child()\n"
   ]
  },
  {
   "cell_type": "code",
   "execution_count": 8,
   "metadata": {
    "colab": {
     "base_uri": "https://localhost:8080/"
    },
    "id": "RwTFffODgSC7",
    "outputId": "19c019d4-120f-42b9-bfdf-b96713408016"
   },
   "outputs": [
    {
     "name": "stdout",
     "output_type": "stream",
     "text": [
      "I can access Parent classs\n"
     ]
    }
   ],
   "source": [
    "obj2.a()"
   ]
  },
  {
   "cell_type": "code",
   "execution_count": 9,
   "metadata": {
    "colab": {
     "base_uri": "https://localhost:8080/",
     "height": 165
    },
    "id": "gF7xWwDkgSFW",
    "outputId": "2031e7d3-2241-4c79-821b-05c7f826dcbf"
   },
   "outputs": [
    {
     "ename": "AttributeError",
     "evalue": "'Parent' object has no attribute 'b'",
     "output_type": "error",
     "traceback": [
      "\u001b[1;31m---------------------------------------------------------------------------\u001b[0m",
      "\u001b[1;31mAttributeError\u001b[0m                            Traceback (most recent call last)",
      "\u001b[1;32m<ipython-input-9-edd7bdc04609>\u001b[0m in \u001b[0;36m<module>\u001b[1;34m\u001b[0m\n\u001b[1;32m----> 1\u001b[1;33m \u001b[0mobj1\u001b[0m\u001b[1;33m.\u001b[0m\u001b[0mb\u001b[0m\u001b[1;33m(\u001b[0m\u001b[1;33m)\u001b[0m\u001b[1;33m\u001b[0m\u001b[1;33m\u001b[0m\u001b[0m\n\u001b[0m",
      "\u001b[1;31mAttributeError\u001b[0m: 'Parent' object has no attribute 'b'"
     ]
    }
   ],
   "source": [
    "obj1.b()"
   ]
  },
  {
   "cell_type": "markdown",
   "metadata": {
    "id": "xYoN9n7xisdS"
   },
   "source": [
    "#Types of inheritance\n",
    "\n",
    "1.Single inheritance\n",
    "\n",
    "2.Multilevel inheritance\n",
    "\n",
    "3.Multiple inheritance\n",
    "\n",
    "4.hybrid inheritance\n",
    "\n",
    "5.hierarchical inheritance"
   ]
  },
  {
   "cell_type": "code",
   "execution_count": 10,
   "metadata": {
    "id": "Dz8DPLQhisD0"
   },
   "outputs": [],
   "source": [
    "\n",
    "#Multilevel inheritance\n",
    "\n",
    "class ParentA:\n",
    "    def func1(self):\n",
    "        print(\"You are in parent A class\")\n",
    "\n",
    "class Child(ParentA):\n",
    "     def func2(self):\n",
    "        print(\"You are child class\")\n",
    "\n",
    "class Grandchild(Child):\n",
    "    def func3(self):\n",
    "        print(\"You are grand child class\")"
   ]
  },
  {
   "cell_type": "code",
   "execution_count": 11,
   "metadata": {
    "id": "GshZSDJYgSIb"
   },
   "outputs": [],
   "source": [
    "obj1 = Grandchild()"
   ]
  },
  {
   "cell_type": "code",
   "execution_count": 12,
   "metadata": {
    "colab": {
     "base_uri": "https://localhost:8080/"
    },
    "id": "IKf2YaEBgSLH",
    "outputId": "821af204-33ad-40fe-806c-84c03a18ab4b"
   },
   "outputs": [
    {
     "name": "stdout",
     "output_type": "stream",
     "text": [
      "You are in parent A class\n"
     ]
    }
   ],
   "source": [
    "obj1.func1()"
   ]
  },
  {
   "cell_type": "code",
   "execution_count": 13,
   "metadata": {
    "colab": {
     "base_uri": "https://localhost:8080/"
    },
    "id": "gbqXVd9FgSOd",
    "outputId": "1541f4fb-cd30-41fa-d4ea-a1af2b77c61c"
   },
   "outputs": [
    {
     "name": "stdout",
     "output_type": "stream",
     "text": [
      "You are child class\n"
     ]
    }
   ],
   "source": [
    "obj1.func2()"
   ]
  },
  {
   "cell_type": "code",
   "execution_count": 14,
   "metadata": {
    "colab": {
     "base_uri": "https://localhost:8080/"
    },
    "id": "heMdShAjgSRI",
    "outputId": "41abb762-211d-4502-a205-136d202b2f37"
   },
   "outputs": [
    {
     "name": "stdout",
     "output_type": "stream",
     "text": [
      "You are grand child class\n"
     ]
    }
   ],
   "source": [
    "obj1.func3()"
   ]
  },
  {
   "cell_type": "code",
   "execution_count": 19,
   "metadata": {
    "id": "057o6N52gSVK"
   },
   "outputs": [],
   "source": [
    "#Multiple inheritance\n",
    "class Father:\n",
    "    def func1(self):\n",
    "        print(\"You are in parent A class\")\n",
    "\n",
    "class Mother:\n",
    "     def func2(self):\n",
    "        print(\"You are child class\")\n",
    "\n",
    "class Child(Father,Mother):\n",
    "    def func3(self):\n",
    "        print(\"You are grand child class\")"
   ]
  },
  {
   "cell_type": "code",
   "execution_count": 20,
   "metadata": {
    "id": "gHw1WP2tlW9N"
   },
   "outputs": [],
   "source": [
    "obj = Child()"
   ]
  },
  {
   "cell_type": "code",
   "execution_count": 21,
   "metadata": {
    "colab": {
     "base_uri": "https://localhost:8080/"
    },
    "id": "cWVUGqOHlZ3-",
    "outputId": "405a4de3-c4b0-4563-be58-1df252797548"
   },
   "outputs": [
    {
     "name": "stdout",
     "output_type": "stream",
     "text": [
      "You are grand child class\n"
     ]
    }
   ],
   "source": [
    "obj.func3()"
   ]
  },
  {
   "cell_type": "code",
   "execution_count": 22,
   "metadata": {
    "id": "T0bLiioTldks"
   },
   "outputs": [],
   "source": [
    "# .hierarchical  inheritance\n",
    "class Father:\n",
    "    def func1(self):\n",
    "        print(\"You are in parent A class\")\n",
    "\n",
    "class Child1(Father):\n",
    "     def func2(self):\n",
    "        print(\"You are child class\")\n",
    "\n",
    "class Child2(Father):\n",
    "    def func3(self):\n",
    "        print(\"You are grand child class\")"
   ]
  },
  {
   "cell_type": "code",
   "execution_count": 23,
   "metadata": {
    "colab": {
     "base_uri": "https://localhost:8080/"
    },
    "id": "lexkWoeumNsv",
    "outputId": "ded1feb2-d4b2-434c-bcf2-9e284ac480b9"
   },
   "outputs": [
    {
     "name": "stdout",
     "output_type": "stream",
     "text": [
      "2\n"
     ]
    }
   ],
   "source": [
    "class Demo:\n",
    "    def __init__(self):\n",
    "        self.x = 1\n",
    "    def change(self):\n",
    "        self.x = 10\n",
    "class Demo_derived(Demo):\n",
    "    def change(self):\n",
    "        self.x=self.x+1\n",
    "        return self.x\n",
    "    def main(self):\n",
    "      pass\n",
    "obj = Demo_derived()\n",
    "print(obj.change())     \n",
    "obj.main()\n"
   ]
  },
  {
   "cell_type": "code",
   "execution_count": null,
   "metadata": {
    "id": "t4XNd6PSmNwT"
   },
   "outputs": [],
   "source": [
    "#Poly morph ism----many forms\n",
    "\n",
    "\n",
    "#types ---  inbuilt , userdefined"
   ]
  },
  {
   "cell_type": "code",
   "execution_count": null,
   "metadata": {
    "id": "dN-7gygxmN0I"
   },
   "outputs": [],
   "source": [
    "#Inbuilt polymorphism\n",
    "\n",
    "len()\n",
    "print(\"\")\n",
    "max()"
   ]
  },
  {
   "cell_type": "code",
   "execution_count": 24,
   "metadata": {
    "colab": {
     "base_uri": "https://localhost:8080/",
     "height": 201
    },
    "id": "HFXvH0mBmN3R",
    "outputId": "8bb4e01b-c7b5-4419-9b7b-216fc209ae53"
   },
   "outputs": [
    {
     "data": {
      "text/plain": [
       "5"
      ]
     },
     "execution_count": 24,
     "metadata": {},
     "output_type": "execute_result"
    }
   ],
   "source": [
    "#User defined\n",
    "\n",
    "def add(a,b,c=0):\n",
    "  return a+b+c\n",
    "\n",
    "add(2,3)"
   ]
  },
  {
   "cell_type": "code",
   "execution_count": null,
   "metadata": {
    "colab": {
     "base_uri": "https://localhost:8080/"
    },
    "id": "bLHiXx26mN6a",
    "outputId": "618726ea-a75c-40fb-c938-bf71058d99e0"
   },
   "outputs": [
    {
     "name": "stdout",
     "output_type": "stream",
     "text": [
      "New Delhi\n",
      "Hindi\n",
      "washington\n",
      "English\n"
     ]
    }
   ],
   "source": [
    "#polymorphism with class\n",
    "\n",
    "class India:\n",
    "    def capital(self):\n",
    "        print(\"New Delhi\")\n",
    "    def language(self):\n",
    "        print(\"Hindi\")\n",
    "class USA:\n",
    "    def capital(self):\n",
    "        print(\"washington\")\n",
    "    def language(self):\n",
    "        print(\"English\")\n",
    "\n",
    "#creation of objects\n",
    "obj_india = India()\n",
    "obj_usa = USA()\n",
    "\n",
    "\n",
    "obj_india.capital()\n",
    "obj_india.language()\n",
    "\n",
    "obj_usa.capital()\n",
    "obj_usa.language()\n",
    "    "
   ]
  },
  {
   "cell_type": "code",
   "execution_count": 25,
   "metadata": {
    "colab": {
     "base_uri": "https://localhost:8080/"
    },
    "id": "zBIg30rSmN-h",
    "outputId": "c40c5ea4-5e98-4a41-900b-2f07eb2f8a62"
   },
   "outputs": [
    {
     "name": "stdout",
     "output_type": "stream",
     "text": [
      "There are many types of birds\n",
      "There are many types of birds\n",
      "There are many types of birds\n",
      "sparrows can fly\n"
     ]
    }
   ],
   "source": [
    "#polymorphism with Method overriding\n",
    "\n",
    "class Bird:\n",
    "    def intro(self):\n",
    "        print(\"There are many types of birds\")\n",
    "    def flight(self):\n",
    "        print(\"most of the birds can fly\")\n",
    "class Sparrow(Bird):\n",
    "  \n",
    "    def flight(self):\n",
    "        print(\"sparrows can fly\")\n",
    "class Ostrich(Bird):\n",
    "    def flight(self):\n",
    "        print(\"ostrich cannot fly\")\n",
    "        \n",
    "obj_bird = Bird()\n",
    "obj_sparrow = Sparrow()\n",
    "obj_ostrich = Ostrich()\n",
    "\n",
    "\n",
    "obj_bird.intro()\n",
    "obj_sparrow.intro()\n",
    "obj_ostrich.intro()\n",
    "\n",
    "obj_sparrow.flight()\n"
   ]
  },
  {
   "cell_type": "code",
   "execution_count": null,
   "metadata": {
    "colab": {
     "base_uri": "https://localhost:8080/"
    },
    "id": "_vDqL9dimODE",
    "outputId": "7eab1107-839b-4a7e-ee3d-0591240c9e59"
   },
   "outputs": [
    {
     "name": "stdout",
     "output_type": "stream",
     "text": [
      "sparrows can fly\n"
     ]
    }
   ],
   "source": [
    "class Bird:\n",
    "    def intro(self):\n",
    "        print(\"There are many types of birds\")\n",
    "    def flight(self):\n",
    "        print(\"most of the birds can fly\")\n",
    "class Sparrow():\n",
    "  \n",
    "    def flight(self):\n",
    "        print(\"sparrows can fly\")\n",
    "class Ostrich(Sparrow,Bird):\n",
    "  pass \n",
    "    \n",
    "    #def flight(self):\n",
    "        #print(\"ostrich cannot fly\")\n",
    "        \n",
    "obj_bird = Bird()\n",
    "obj_sparrow = Sparrow()\n",
    "obj_ostrich = Ostrich()\n",
    "\n",
    "obj_ostrich.flight()"
   ]
  },
  {
   "cell_type": "code",
   "execution_count": null,
   "metadata": {
    "colab": {
     "base_uri": "https://localhost:8080/"
    },
    "id": "qjo9BaFijDgN",
    "outputId": "8eea8ac4-e42f-4339-e6c2-4c31ef9694fc"
   },
   "outputs": [
    {
     "data": {
      "text/plain": [
       "5"
      ]
     },
     "execution_count": 18,
     "metadata": {},
     "output_type": "execute_result"
    }
   ],
   "source": [
    "#Operator overloading, +, *\n",
    "\n",
    "2 + 3\n",
    "\n"
   ]
  },
  {
   "cell_type": "code",
   "execution_count": null,
   "metadata": {
    "colab": {
     "base_uri": "https://localhost:8080/",
     "height": 35
    },
    "id": "GjIfU4HejDjQ",
    "outputId": "198c4d9f-52fd-4c71-ebca-871ee5cee8a1"
   },
   "outputs": [
    {
     "data": {
      "application/vnd.google.colaboratory.intrinsic+json": {
       "type": "string"
      },
      "text/plain": [
       "'hii india'"
      ]
     },
     "execution_count": 24,
     "metadata": {},
     "output_type": "execute_result"
    }
   ],
   "source": [
    "'hii' + \" \" + 'india'"
   ]
  },
  {
   "cell_type": "code",
   "execution_count": null,
   "metadata": {
    "colab": {
     "base_uri": "https://localhost:8080/",
     "height": 35
    },
    "id": "8PBiAGsCmMm6",
    "outputId": "ca652a8e-3f9b-4943-cce0-8c23b1631aab"
   },
   "outputs": [
    {
     "data": {
      "application/vnd.google.colaboratory.intrinsic+json": {
       "type": "string"
      },
      "text/plain": [
       "'hii india'"
      ]
     },
     "execution_count": 25,
     "metadata": {},
     "output_type": "execute_result"
    }
   ],
   "source": [
    "'hii ' +  'india'"
   ]
  },
  {
   "cell_type": "code",
   "execution_count": null,
   "metadata": {
    "colab": {
     "base_uri": "https://localhost:8080/"
    },
    "id": "9gbnpcjrjDmy",
    "outputId": "f147c077-7880-4cc1-a3b3-7255979585aa"
   },
   "outputs": [
    {
     "data": {
      "text/plain": [
       "20"
      ]
     },
     "execution_count": 20,
     "metadata": {},
     "output_type": "execute_result"
    }
   ],
   "source": [
    "4 *5"
   ]
  },
  {
   "cell_type": "code",
   "execution_count": null,
   "metadata": {
    "colab": {
     "base_uri": "https://localhost:8080/"
    },
    "id": "1Lr5ybKllrLy",
    "outputId": "61e5931a-a5f0-4566-9023-e9d4f3e5a6d6"
   },
   "outputs": [
    {
     "name": "stdout",
     "output_type": "stream",
     "text": [
      "Akanksha Akanksha Akanksha Akanksha Akanksha \n"
     ]
    }
   ],
   "source": [
    "print(\"Akanksha \" * 5) "
   ]
  },
  {
   "cell_type": "code",
   "execution_count": null,
   "metadata": {
    "id": "CrUlNGtplrO6"
   },
   "outputs": [],
   "source": [
    "#Encapsulation-------capsules\n",
    "#idea of wrapping the data and methods(functions)\n",
    "\n",
    "#Access modifier --- Public, Private , Protected\n"
   ]
  },
  {
   "cell_type": "code",
   "execution_count": null,
   "metadata": {
    "id": "nFBKK5A6lrR6"
   },
   "outputs": [],
   "source": [
    "#Public  ----- accessible everywhere\n",
    "#Protected------- the class itself and child classes can have the access (_var_name)\n",
    "#Private ------ the classs has the access itself only(__var_name)"
   ]
  },
  {
   "cell_type": "code",
   "execution_count": null,
   "metadata": {
    "colab": {
     "base_uri": "https://localhost:8080/",
     "height": 409
    },
    "id": "k3pBhwQnlrUy",
    "outputId": "6c15b803-d260-456d-ed24-6b3ad9f952e8"
   },
   "outputs": [
    {
     "name": "stdout",
     "output_type": "stream",
     "text": [
      "Calling private member of base class:  3\n",
      "Calling protected member of base class:  2\n",
      "Calling modified protected member outside class:  3\n"
     ]
    },
    {
     "ename": "AttributeError",
     "evalue": "ignored",
     "output_type": "error",
     "traceback": [
      "\u001b[0;31m---------------------------------------------------------------------------\u001b[0m",
      "\u001b[0;31mAttributeError\u001b[0m                            Traceback (most recent call last)",
      "\u001b[0;32m<ipython-input-45-2ac9b8c6558f>\u001b[0m in \u001b[0;36m<module>\u001b[0;34m\u001b[0m\n\u001b[1;32m     32\u001b[0m \u001b[0;34m\u001b[0m\u001b[0m\n\u001b[1;32m     33\u001b[0m \u001b[0;34m\u001b[0m\u001b[0m\n\u001b[0;32m---> 34\u001b[0;31m \u001b[0mobj1\u001b[0m \u001b[0;34m=\u001b[0m \u001b[0mDerived\u001b[0m\u001b[0;34m(\u001b[0m\u001b[0;34m)\u001b[0m\u001b[0;34m\u001b[0m\u001b[0;34m\u001b[0m\u001b[0m\n\u001b[0m\u001b[1;32m     35\u001b[0m \u001b[0;34m\u001b[0m\u001b[0m\n\u001b[1;32m     36\u001b[0m \u001b[0mobj2\u001b[0m \u001b[0;34m=\u001b[0m \u001b[0mBase\u001b[0m\u001b[0;34m(\u001b[0m\u001b[0;34m)\u001b[0m\u001b[0;34m\u001b[0m\u001b[0;34m\u001b[0m\u001b[0m\n",
      "\u001b[0;32m<ipython-input-45-2ac9b8c6558f>\u001b[0m in \u001b[0;36m__init__\u001b[0;34m(self)\u001b[0m\n\u001b[1;32m     24\u001b[0m         \u001b[0mself\u001b[0m\u001b[0;34m.\u001b[0m\u001b[0m_a\u001b[0m \u001b[0;34m=\u001b[0m \u001b[0;36m3\u001b[0m\u001b[0;34m\u001b[0m\u001b[0;34m\u001b[0m\u001b[0m\n\u001b[1;32m     25\u001b[0m         \u001b[0mprint\u001b[0m\u001b[0;34m(\u001b[0m\u001b[0;34m\"Calling modified protected member outside class: \"\u001b[0m\u001b[0;34m,\u001b[0m\u001b[0mself\u001b[0m\u001b[0;34m.\u001b[0m\u001b[0m_a\u001b[0m\u001b[0;34m)\u001b[0m\u001b[0;34m\u001b[0m\u001b[0;34m\u001b[0m\u001b[0m\n\u001b[0;32m---> 26\u001b[0;31m         \u001b[0mprint\u001b[0m\u001b[0;34m(\u001b[0m\u001b[0;34m\"Calling private member of base class: \"\u001b[0m\u001b[0;34m,\u001b[0m\u001b[0mself\u001b[0m\u001b[0;34m.\u001b[0m\u001b[0m__b\u001b[0m\u001b[0;34m)\u001b[0m\u001b[0;34m\u001b[0m\u001b[0;34m\u001b[0m\u001b[0m\n\u001b[0m\u001b[1;32m     27\u001b[0m \u001b[0;34m\u001b[0m\u001b[0m\n\u001b[1;32m     28\u001b[0m \u001b[0;32mclass\u001b[0m \u001b[0mS\u001b[0m\u001b[0;34m:\u001b[0m\u001b[0;34m\u001b[0m\u001b[0;34m\u001b[0m\u001b[0m\n",
      "\u001b[0;31mAttributeError\u001b[0m: 'Derived' object has no attribute '_Derived__b'"
     ]
    }
   ],
   "source": [
    "# Python program to\n",
    "# demonstrate protected members and private members\n",
    "\n",
    "# Creating a base class\n",
    "class Base:\n",
    "    def __init__(self):\n",
    "\n",
    "        # Protected member\n",
    "        self._a = 2\n",
    "        self.__b = 3  # private member\n",
    "        \n",
    "        print(\"Calling private member of base class: \",self.__b)\n",
    "\n",
    "# Creating a derived class\n",
    "class Derived(Base):\n",
    "    def __init__(self):\n",
    "\n",
    "    # Calling constructor of\n",
    "    # Base class\n",
    "        Base.__init__(self)\n",
    "        print(\"Calling protected member of base class: \",self._a)\n",
    "\n",
    "        # Modify the protected variable:\n",
    "        self._a = 3\n",
    "        print(\"Calling modified protected member outside class: \",self._a)\n",
    "        print(\"Calling private member of base class: \",self.__b)\n",
    "\n",
    "class S:\n",
    "   def hii(self):\n",
    "      print(\"Calling protected member of base class: \",self._a)\n",
    "\n",
    "\n",
    "\n",
    "obj1 = Derived()\n",
    "\n",
    "obj2 = Base()\n",
    "\n",
    "objS = S()\n",
    "\n",
    "objS.hii()\n",
    "\n",
    "# Calling protected member\n",
    "# Can be accessed but should not be done due to convention\n",
    "print(\"Accessing protected member of obj1: \", obj1._a)\n",
    "\n",
    "# Accessing the protected variable outside\n",
    "print(\"Accessing protected member of obj2: \", obj2._a)\n",
    "\n"
   ]
  },
  {
   "cell_type": "markdown",
   "metadata": {
    "id": "S7_lop3nsXCr"
   },
   "source": [
    "#Protected ---- 1. we can access it inside the parent class, child class\n",
    "2. i am able to access it outside the class with the objects of parent class and child class\n",
    "3. we can also modify the values inside the child class\n",
    "\n",
    "\n",
    "#private ---1. We can have access only inside the class \n",
    "2. we can access it outside the class by : self._itsClassName__VarName\n",
    "\n"
   ]
  },
  {
   "cell_type": "code",
   "execution_count": null,
   "metadata": {
    "colab": {
     "base_uri": "https://localhost:8080/"
    },
    "id": "N1mEM0Y3sWia",
    "outputId": "4a5c68cf-270c-48b2-a063-ab0384a73b0e"
   },
   "outputs": [
    {
     "name": "stdout",
     "output_type": "stream",
     "text": [
      "The mileage is 30kmph\n",
      "The mileage is 40kmph\n",
      "The mileage is 50kmph\n"
     ]
    }
   ],
   "source": [
    "#Abstraction  ---------- hide the internal functionalities\n",
    "# you know what function does but dont know how it is done\n",
    "\n",
    "# A class that consists of one or more abstract methods(functions) is called abstract class\n",
    "# Abstract methods donot contain their implementation\n",
    "\n",
    "#syntax\n",
    "\n",
    "from abc import ABC,abstractmethod\n",
    "\n",
    "class Car(ABC):\n",
    "    def mileage(self):\n",
    "        pass\n",
    "\n",
    "class Tesla(Car):\n",
    "    def mileage(self):\n",
    "        print(\"The mileage is 30kmph\")\n",
    "class Kia(Car):\n",
    "    def mileage(self):\n",
    "        print(\"The mileage is 40kmph\")\n",
    "        \n",
    "class VW(Car):\n",
    "    def mileage(self):\n",
    "        print(\"The mileage is 50kmph\")\n",
    "\n",
    "        \n",
    "t = Tesla()\n",
    "t.mileage()\n",
    "\n",
    "k = Kia()\n",
    "k.mileage()\n",
    "\n",
    "v = VW()\n",
    "v.mileage()"
   ]
  },
  {
   "cell_type": "code",
   "execution_count": null,
   "metadata": {
    "id": "iX3eLpt2lrX5"
   },
   "outputs": [],
   "source": []
  }
 ],
 "metadata": {
  "colab": {
   "provenance": []
  },
  "kernelspec": {
   "display_name": "Python 3",
   "language": "python",
   "name": "python3"
  },
  "language_info": {
   "codemirror_mode": {
    "name": "ipython",
    "version": 3
   },
   "file_extension": ".py",
   "mimetype": "text/x-python",
   "name": "python",
   "nbconvert_exporter": "python",
   "pygments_lexer": "ipython3",
   "version": "3.8.8"
  }
 },
 "nbformat": 4,
 "nbformat_minor": 1
}

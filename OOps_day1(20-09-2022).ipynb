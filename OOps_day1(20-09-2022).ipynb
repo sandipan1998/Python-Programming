{
 "cells": [
  {
   "cell_type": "markdown",
   "id": "b9e796d6",
   "metadata": {},
   "source": [
    "# OOPs\n"
   ]
  },
  {
   "cell_type": "raw",
   "id": "f324ebf2",
   "metadata": {},
   "source": [
    "#oops- stands for object oriented programming\n",
    "#programming type take large set of data it make it secure\n",
    "#eg:social media account\n",
    "#oops is a programming paradigm that uses objects and classes in the programming "
   ]
  },
  {
   "cell_type": "raw",
   "id": "255a7b89",
   "metadata": {},
   "source": [
    "#class-->blueprint/design/prototype/concept\n",
    "#class contains all the variables,function etc"
   ]
  },
  {
   "cell_type": "raw",
   "id": "d4997c5c",
   "metadata": {},
   "source": [
    "#object--->instance of class\n",
    "#each instance of the class can hold its own relevent data"
   ]
  },
  {
   "cell_type": "raw",
   "id": "39674467",
   "metadata": {},
   "source": [
    "#syntax of class\n",
    "class class_name:\n",
    "    body of class"
   ]
  },
  {
   "cell_type": "raw",
   "id": "ecb76d01",
   "metadata": {},
   "source": [
    "#syntax of object\n",
    "object_name=class_name(values)"
   ]
  },
  {
   "cell_type": "code",
   "execution_count": 3,
   "id": "26bc97ca",
   "metadata": {},
   "outputs": [],
   "source": [
    "class Hai:\n",
    "    x=10\n",
    "    y=20"
   ]
  },
  {
   "cell_type": "code",
   "execution_count": 6,
   "id": "38f3f606",
   "metadata": {},
   "outputs": [],
   "source": [
    "obj=Hai()"
   ]
  },
  {
   "cell_type": "code",
   "execution_count": 7,
   "id": "e028039f",
   "metadata": {},
   "outputs": [
    {
     "data": {
      "text/plain": [
       "10"
      ]
     },
     "execution_count": 7,
     "metadata": {},
     "output_type": "execute_result"
    }
   ],
   "source": [
    "obj.x"
   ]
  },
  {
   "cell_type": "code",
   "execution_count": 8,
   "id": "7c8cc8a5",
   "metadata": {},
   "outputs": [
    {
     "data": {
      "text/plain": [
       "20"
      ]
     },
     "execution_count": 8,
     "metadata": {},
     "output_type": "execute_result"
    }
   ],
   "source": [
    "obj.y"
   ]
  },
  {
   "cell_type": "code",
   "execution_count": 13,
   "id": "24cd01f4",
   "metadata": {},
   "outputs": [],
   "source": [
    "class Divya:\n",
    "    def fun1(a):\n",
    "        print(\"good morning\")"
   ]
  },
  {
   "cell_type": "code",
   "execution_count": 14,
   "id": "4151ae47",
   "metadata": {},
   "outputs": [],
   "source": [
    "obj1=Divya()"
   ]
  },
  {
   "cell_type": "code",
   "execution_count": 15,
   "id": "10db4208",
   "metadata": {},
   "outputs": [
    {
     "name": "stdout",
     "output_type": "stream",
     "text": [
      "good morning\n"
     ]
    }
   ],
   "source": [
    "obj1.fun1()"
   ]
  },
  {
   "cell_type": "code",
   "execution_count": 32,
   "id": "03da1b14",
   "metadata": {},
   "outputs": [],
   "source": [
    "class Exam:\n",
    "    def subtraction(G,a,b):\n",
    "        print(a-b)"
   ]
  },
  {
   "cell_type": "code",
   "execution_count": 33,
   "id": "4ecfdb47",
   "metadata": {},
   "outputs": [],
   "source": [
    "obj=Exam()"
   ]
  },
  {
   "cell_type": "code",
   "execution_count": 34,
   "id": "ed267a71",
   "metadata": {},
   "outputs": [
    {
     "name": "stdout",
     "output_type": "stream",
     "text": [
      "5\n"
     ]
    }
   ],
   "source": [
    "obj.subtraction(10,5)"
   ]
  },
  {
   "cell_type": "code",
   "execution_count": 35,
   "id": "a22e2271",
   "metadata": {},
   "outputs": [],
   "source": [
    "class Dev:\n",
    "    def fun1(self):\n",
    "        print(\"good morning\")\n"
   ]
  },
  {
   "cell_type": "code",
   "execution_count": 36,
   "id": "7ee77ece",
   "metadata": {},
   "outputs": [],
   "source": [
    "obj=Dev()"
   ]
  },
  {
   "cell_type": "code",
   "execution_count": 37,
   "id": "3f5de107",
   "metadata": {},
   "outputs": [
    {
     "name": "stdout",
     "output_type": "stream",
     "text": [
      "good morning\n"
     ]
    }
   ],
   "source": [
    "obj.fun1()"
   ]
  },
  {
   "cell_type": "code",
   "execution_count": 38,
   "id": "c69ed05c",
   "metadata": {},
   "outputs": [],
   "source": [
    "def fun2():\n",
    "    print(\"good morning\")"
   ]
  },
  {
   "cell_type": "code",
   "execution_count": 39,
   "id": "cd5371ef",
   "metadata": {},
   "outputs": [
    {
     "name": "stdout",
     "output_type": "stream",
     "text": [
      "good morning\n"
     ]
    }
   ],
   "source": [
    "fun2()"
   ]
  },
  {
   "cell_type": "code",
   "execution_count": 40,
   "id": "042859ca",
   "metadata": {},
   "outputs": [
    {
     "name": "stdout",
     "output_type": "stream",
     "text": [
      "good night\n"
     ]
    }
   ],
   "source": [
    "class Divya:\n",
    "    def fun1(self):\n",
    "        print(\"good night\")\n",
    "obj1=Divya()\n",
    "obj1.fun1()\n"
   ]
  },
  {
   "cell_type": "code",
   "execution_count": 41,
   "id": "f42b55be",
   "metadata": {},
   "outputs": [],
   "source": [
    "class L1:\n",
    "    def fun1(self):\n",
    "        print(\"hello\")\n",
    "    def fun2(self):\n",
    "        print(\"Hai\")"
   ]
  },
  {
   "cell_type": "code",
   "execution_count": 42,
   "id": "34fbe8cd",
   "metadata": {},
   "outputs": [],
   "source": [
    "P=L1()"
   ]
  },
  {
   "cell_type": "code",
   "execution_count": 43,
   "id": "e336b8d8",
   "metadata": {},
   "outputs": [
    {
     "name": "stdout",
     "output_type": "stream",
     "text": [
      "hello\n"
     ]
    }
   ],
   "source": [
    "P.fun1()"
   ]
  },
  {
   "cell_type": "code",
   "execution_count": 44,
   "id": "2d41278d",
   "metadata": {},
   "outputs": [
    {
     "name": "stdout",
     "output_type": "stream",
     "text": [
      "Hai\n"
     ]
    }
   ],
   "source": [
    "P.fun2()"
   ]
  },
  {
   "cell_type": "code",
   "execution_count": 38,
   "id": "105d5a76",
   "metadata": {},
   "outputs": [],
   "source": [
    "K=L1()"
   ]
  },
  {
   "cell_type": "code",
   "execution_count": 39,
   "id": "01485ba5",
   "metadata": {},
   "outputs": [
    {
     "name": "stdout",
     "output_type": "stream",
     "text": [
      "hello\n"
     ]
    }
   ],
   "source": [
    "K.fun1()"
   ]
  },
  {
   "cell_type": "code",
   "execution_count": 40,
   "id": "f760675f",
   "metadata": {},
   "outputs": [
    {
     "name": "stdout",
     "output_type": "stream",
     "text": [
      "Hai\n"
     ]
    }
   ],
   "source": [
    "P.fun2()"
   ]
  },
  {
   "cell_type": "code",
   "execution_count": 48,
   "id": "c0e0d771",
   "metadata": {},
   "outputs": [
    {
     "name": "stdout",
     "output_type": "stream",
     "text": [
      "hello\n",
      "hello\n",
      "hai\n"
     ]
    }
   ],
   "source": [
    "class L1:\n",
    "    def fun1(self):\n",
    "        print(\"hello\")\n",
    "    def fun2(self):\n",
    "        print(\"hai\")\n",
    "p = L1()\n",
    "p.fun1()\n",
    "p.fun1()\n",
    "p.fun2()"
   ]
  },
  {
   "cell_type": "markdown",
   "id": "e8fc81e7",
   "metadata": {},
   "source": [
    "# constructor"
   ]
  },
  {
   "cell_type": "code",
   "execution_count": 43,
   "id": "3920faec",
   "metadata": {},
   "outputs": [],
   "source": [
    "#__init__ method\n",
    "#method\n",
    "#constructor are special method which get called automatically when we create the object\n",
    "#default values\n",
    "#only the name of function is __init__ no ther function name we can give"
   ]
  },
  {
   "cell_type": "code",
   "execution_count": 44,
   "id": "9f84e1ed",
   "metadata": {},
   "outputs": [],
   "source": [
    "class My_info:\n",
    "    def __init__(self,fname,lname):\n",
    "        print(\"my name is \",fname,lname)\n",
    "        "
   ]
  },
  {
   "cell_type": "code",
   "execution_count": 45,
   "id": "acecffc5",
   "metadata": {},
   "outputs": [
    {
     "name": "stdout",
     "output_type": "stream",
     "text": [
      "my name is  Divya venkatesh\n"
     ]
    }
   ],
   "source": [
    "O1=My_info(\"Divya\",\"venkatesh\")"
   ]
  },
  {
   "cell_type": "code",
   "execution_count": 46,
   "id": "838865d9",
   "metadata": {},
   "outputs": [
    {
     "name": "stdout",
     "output_type": "stream",
     "text": [
      "my name is  Harsh Mishra\n"
     ]
    }
   ],
   "source": [
    "O2=My_info(\"Harsh\",\"Mishra\")"
   ]
  },
  {
   "cell_type": "code",
   "execution_count": 49,
   "id": "0a441be2",
   "metadata": {},
   "outputs": [],
   "source": [
    "class Test:\n",
    "    def __init__(self):\n",
    "        print(\"first constructor\")\n",
    "    def __init__(self):\n",
    "        print(\"second constructor\")"
   ]
  },
  {
   "cell_type": "code",
   "execution_count": 50,
   "id": "320149e6",
   "metadata": {},
   "outputs": [
    {
     "name": "stdout",
     "output_type": "stream",
     "text": [
      "second constructor\n"
     ]
    }
   ],
   "source": [
    "obj4=Test()"
   ]
  },
  {
   "cell_type": "code",
   "execution_count": 53,
   "id": "0d134363",
   "metadata": {},
   "outputs": [],
   "source": [
    "class Identity:\n",
    "    def __init__(self,fname,mname,lname):\n",
    "        self.fname=fname\n",
    "        self.mname=mname\n",
    "        self.lname=lname\n",
    "    def printme(self):\n",
    "        print(self.fname,self.mname,self.lname)"
   ]
  },
  {
   "cell_type": "code",
   "execution_count": 54,
   "id": "8ceb495a",
   "metadata": {},
   "outputs": [],
   "source": [
    "user1=Identity(\"Ramesh\",\"singh\",\"rathod\")"
   ]
  },
  {
   "cell_type": "code",
   "execution_count": 57,
   "id": "19b43e89",
   "metadata": {},
   "outputs": [
    {
     "name": "stdout",
     "output_type": "stream",
     "text": [
      "Ramesh singh rathod\n"
     ]
    }
   ],
   "source": [
    "user1.printme()"
   ]
  },
  {
   "cell_type": "code",
   "execution_count": 58,
   "id": "9de40c21",
   "metadata": {},
   "outputs": [
    {
     "name": "stdout",
     "output_type": "stream",
     "text": [
      "Ramesh singh rathod\n"
     ]
    }
   ],
   "source": [
    "user1.printme()"
   ]
  },
  {
   "cell_type": "code",
   "execution_count": 56,
   "id": "34ca8c8a",
   "metadata": {},
   "outputs": [
    {
     "name": "stdout",
     "output_type": "stream",
     "text": [
      "john Lewis Song\n"
     ]
    }
   ],
   "source": [
    "class Identity:\n",
    "    def __init__(self, fname, mname, lname):\n",
    "        print(fname, mname, lname)\n",
    "\n",
    "test=Identity(\"john\", \"Lewis\", \"Song\")\n"
   ]
  },
  {
   "cell_type": "code",
   "execution_count": null,
   "id": "ee92a01c",
   "metadata": {},
   "outputs": [],
   "source": []
  }
 ],
 "metadata": {
  "kernelspec": {
   "display_name": "Python 3 (ipykernel)",
   "language": "python",
   "name": "python3"
  },
  "language_info": {
   "codemirror_mode": {
    "name": "ipython",
    "version": 3
   },
   "file_extension": ".py",
   "mimetype": "text/x-python",
   "name": "python",
   "nbconvert_exporter": "python",
   "pygments_lexer": "ipython3",
   "version": "3.9.13"
  }
 },
 "nbformat": 4,
 "nbformat_minor": 5
}

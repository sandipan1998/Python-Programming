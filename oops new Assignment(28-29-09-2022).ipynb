{
 "cells": [
  {
   "cell_type": "raw",
   "id": "a7765fa9",
   "metadata": {},
   "source": [
    "1. Create a function named ‘factor’ that can only accept 1 argument. The function should return the factorial of that number."
   ]
  },
  {
   "cell_type": "code",
   "execution_count": 2,
   "id": "51b054dc",
   "metadata": {},
   "outputs": [],
   "source": [
    "def factor(num):\n",
    "    factorial=1\n",
    "    if num < 0:\n",
    "        print(\"sorry, factorial does not exist for negative number\")\n",
    "    elif num == 0:\n",
    "        print(\"the factorial of 0 is 1\")\n",
    "    else:\n",
    "        for i in range(1,num+1):\n",
    "            factorial=factorial*i\n",
    "        print(\"the factorial of num is\",factorial)"
   ]
  },
  {
   "cell_type": "code",
   "execution_count": 3,
   "id": "28b90f4e",
   "metadata": {},
   "outputs": [
    {
     "name": "stdout",
     "output_type": "stream",
     "text": [
      "the factorial of num is 6\n"
     ]
    }
   ],
   "source": [
    "factor(3)"
   ]
  },
  {
   "cell_type": "code",
   "execution_count": 4,
   "id": "a027a004",
   "metadata": {},
   "outputs": [
    {
     "data": {
      "text/plain": [
       "range(0, 4)"
      ]
     },
     "execution_count": 4,
     "metadata": {},
     "output_type": "execute_result"
    }
   ],
   "source": [
    "range(4)"
   ]
  },
  {
   "cell_type": "code",
   "execution_count": 5,
   "id": "1971b352",
   "metadata": {},
   "outputs": [
    {
     "name": "stdout",
     "output_type": "stream",
     "text": [
      "sorry, factorial does not exist for negative number\n"
     ]
    }
   ],
   "source": [
    "factor(-1)"
   ]
  },
  {
   "cell_type": "code",
   "execution_count": 6,
   "id": "e138d061",
   "metadata": {},
   "outputs": [
    {
     "name": "stdout",
     "output_type": "stream",
     "text": [
      "the factorial of 0 is 1\n"
     ]
    }
   ],
   "source": [
    "factor(0)"
   ]
  },
  {
   "cell_type": "raw",
   "id": "df17ffce",
   "metadata": {},
   "source": [
    "2. Create a function named ‘check_string’, the function should accept a string data from the user and the function should check if the user input contains the letter ‘s’ in it. If it contains the letter ‘s’ then print- ‘The string is containing the letter ‘s’’, if not then print- ‘The string doesn’t contain the letter ‘s’’."
   ]
  },
  {
   "cell_type": "code",
   "execution_count": 7,
   "id": "d1baeccf",
   "metadata": {},
   "outputs": [
    {
     "name": "stdout",
     "output_type": "stream",
     "text": [
      "enter a string: Risi\n",
      "The string is containing the letter ‘s’\n"
     ]
    }
   ],
   "source": [
    "string=input(\"enter a string: \")\n",
    "def check_string(string):\n",
    "    if 's' in string or 'S' in string:\n",
    "        print (\"The string is containing the letter ‘s’\")\n",
    "    else:\n",
    "        print(\"The string doesn’t contain the letter ‘s’\")\n",
    "        \n",
    "check_string(string)"
   ]
  },
  {
   "cell_type": "code",
   "execution_count": 8,
   "id": "3ac39ae0",
   "metadata": {},
   "outputs": [
    {
     "name": "stdout",
     "output_type": "stream",
     "text": [
      "enter a string: shyam\n",
      "The string is containing the letter ‘s’\n"
     ]
    }
   ],
   "source": [
    "def check_string():\n",
    "    string_1=input(\"enter a string: \")\n",
    "    for i in string_1:\n",
    "        if i=='s' or i=='S':\n",
    "            print (\"The string is containing the letter ‘s’\")\n",
    "            break\n",
    "        else:\n",
    "            print(\"The string doesn’t contain the letter ‘s’\")\n",
    "            break\n",
    "        \n",
    "check_string()"
   ]
  },
  {
   "cell_type": "code",
   "execution_count": null,
   "id": "0d7e9c79",
   "metadata": {},
   "outputs": [],
   "source": []
  },
  {
   "cell_type": "raw",
   "id": "5ef7d8f3",
   "metadata": {},
   "source": [
    "3. Create a class named ‘student’ and inside the class, create a function named ‘fun1’- this method should accept the user defined input and return that value.\n",
    "a. Create another method named- message() and that method should print the user defined input that we have defined in ‘fun1’."
   ]
  },
  {
   "cell_type": "code",
   "execution_count": 9,
   "id": "26133557",
   "metadata": {},
   "outputs": [],
   "source": [
    "class student:\n",
    "    def fun1(self):\n",
    "        n=int(input(\"enter the value:\"))\n",
    "        return n\n",
    "    def message(self):\n",
    "        k=self.fun1()\n",
    "        return k"
   ]
  },
  {
   "cell_type": "code",
   "execution_count": 10,
   "id": "c40d4574",
   "metadata": {},
   "outputs": [],
   "source": [
    "o=student()"
   ]
  },
  {
   "cell_type": "code",
   "execution_count": 11,
   "id": "c908c7f9",
   "metadata": {},
   "outputs": [
    {
     "name": "stdout",
     "output_type": "stream",
     "text": [
      "enter the value:20\n"
     ]
    },
    {
     "data": {
      "text/plain": [
       "20"
      ]
     },
     "execution_count": 11,
     "metadata": {},
     "output_type": "execute_result"
    }
   ],
   "source": [
    "o.message()"
   ]
  },
  {
   "cell_type": "raw",
   "id": "1c12bd24",
   "metadata": {},
   "source": [
    "4. Create a lambda function that should double or multiply the number (that we will be passing in the lambda function) by 2. Store the lambda function in a variable named ‘double_num’.\n",
    "\n",
    "syntax:---variable =lambda arguments:operation\n",
    "          varibale(value)"
   ]
  },
  {
   "cell_type": "code",
   "execution_count": 12,
   "id": "57778dec",
   "metadata": {},
   "outputs": [],
   "source": [
    "double_num=lambda x:x*2"
   ]
  },
  {
   "cell_type": "code",
   "execution_count": 13,
   "id": "b0f6bf4b",
   "metadata": {},
   "outputs": [
    {
     "data": {
      "text/plain": [
       "10"
      ]
     },
     "execution_count": 13,
     "metadata": {},
     "output_type": "execute_result"
    }
   ],
   "source": [
    "double_num(5)"
   ]
  },
  {
   "cell_type": "code",
   "execution_count": 14,
   "id": "009d2d4b",
   "metadata": {},
   "outputs": [
    {
     "data": {
      "text/plain": [
       "4"
      ]
     },
     "execution_count": 14,
     "metadata": {},
     "output_type": "execute_result"
    }
   ],
   "source": [
    "double_num(2)"
   ]
  },
  {
   "cell_type": "raw",
   "id": "b3b8cffe",
   "metadata": {},
   "source": [
    "5. Take the user input string and check whether that string is palindrome or not.\n",
    "\n",
    "eg:--mom "
   ]
  },
  {
   "cell_type": "code",
   "execution_count": 15,
   "id": "f5a7ff8b",
   "metadata": {},
   "outputs": [],
   "source": [
    "s='moms'"
   ]
  },
  {
   "cell_type": "code",
   "execution_count": 16,
   "id": "d4abe13c",
   "metadata": {},
   "outputs": [
    {
     "data": {
      "text/plain": [
       "'smom'"
      ]
     },
     "execution_count": 16,
     "metadata": {},
     "output_type": "execute_result"
    }
   ],
   "source": [
    "s[::-1]"
   ]
  },
  {
   "cell_type": "code",
   "execution_count": 17,
   "id": "961cc119",
   "metadata": {},
   "outputs": [
    {
     "name": "stdout",
     "output_type": "stream",
     "text": [
      "enter a string:mom\n",
      "string is a palindrome\n"
     ]
    }
   ],
   "source": [
    "s=input(\"enter a string:\")\n",
    "if s==s[::-1]:\n",
    "    print(\"string is a palindrome\")\n",
    "    \n",
    "else:\n",
    "    print(\"string is not a palindrome\")"
   ]
  },
  {
   "cell_type": "raw",
   "id": "953fe1d9",
   "metadata": {},
   "source": [
    "6. Create a class named ‘Super’ and inside that class define a user-defined function named fun1.\n",
    "a. Inside the ‘fun1’ function, pass the message “This is function 1 in the Super class.” in the print statement"
   ]
  },
  {
   "cell_type": "code",
   "execution_count": 18,
   "id": "77775f43",
   "metadata": {},
   "outputs": [],
   "source": [
    "class super:\n",
    "    def fun1(self):\n",
    "        print(\"this is function 1 in the super class\")"
   ]
  },
  {
   "cell_type": "code",
   "execution_count": 19,
   "id": "9d094b51",
   "metadata": {},
   "outputs": [],
   "source": [
    "obj=super()"
   ]
  },
  {
   "cell_type": "code",
   "execution_count": 20,
   "id": "4c70cabd",
   "metadata": {},
   "outputs": [
    {
     "name": "stdout",
     "output_type": "stream",
     "text": [
      "this is function 1 in the super class\n"
     ]
    }
   ],
   "source": [
    "obj.fun1()"
   ]
  },
  {
   "cell_type": "raw",
   "id": "3a538301",
   "metadata": {},
   "source": [
    "7. Create another class named ‘Modified_Super’ and inherit this class from the Super class. \n",
    "\n",
    "a. Inside the Modified_Super class, create a function named ‘fun1’ and pass the following message inside the print statement: ‘This is function 1 in the Modified Super class.’\n",
    "\n",
    "b. Create another user-defined function named ‘fun2’ and pass the message: ‘This is the 2nd function from the Modified Super class’ in the print statement.\n",
    "\n",
    "c. After that, now create an object for the Modified_Super class and call the fun1()."
   ]
  },
  {
   "cell_type": "code",
   "execution_count": 21,
   "id": "14de672e",
   "metadata": {},
   "outputs": [],
   "source": [
    "class super:\n",
    "    def fun1(self):\n",
    "        print(\"this is function 1 in the super class\")"
   ]
  },
  {
   "cell_type": "code",
   "execution_count": 22,
   "id": "30dc42fb",
   "metadata": {},
   "outputs": [],
   "source": [
    "class modified_super(super):\n",
    "    def fun1(self):\n",
    "        print(\"this is function in the modified super class\")\n",
    "    def fun2(self):\n",
    "        print(\"This is the 2nd function from the Modified Super class\")"
   ]
  },
  {
   "cell_type": "code",
   "execution_count": 23,
   "id": "7e9ad9c6",
   "metadata": {},
   "outputs": [],
   "source": [
    "ob=modified_super()"
   ]
  },
  {
   "cell_type": "code",
   "execution_count": 24,
   "id": "432c7883",
   "metadata": {},
   "outputs": [
    {
     "name": "stdout",
     "output_type": "stream",
     "text": [
      "this is function in the modified super class\n"
     ]
    }
   ],
   "source": [
    "ob.fun1()"
   ]
  },
  {
   "cell_type": "raw",
   "id": "a96f89ef",
   "metadata": {},
   "source": [
    "8. Create 2 methods named ‘Hello’. In the 1st Hello method, pass only one argument and pass this message: ‘This function only has 1 argument’. And in the 2nd Hello method, pass two arguments and pass this message: ‘This function has 2 arguments’.\n",
    "\n",
    "a. Try to call both the methods and analyze the output of both the methods"
   ]
  },
  {
   "cell_type": "code",
   "execution_count": 25,
   "id": "61d8dbd6",
   "metadata": {},
   "outputs": [],
   "source": [
    "def hello(h):\n",
    "    print(\"This function only has 1 argument\")\n",
    "    \n",
    "def hello(h1,h2):\n",
    "    print(\"This function has 2 arguments\")"
   ]
  },
  {
   "cell_type": "code",
   "execution_count": 26,
   "id": "d3cbc9b9",
   "metadata": {},
   "outputs": [
    {
     "name": "stdout",
     "output_type": "stream",
     "text": [
      "This function has 2 arguments\n"
     ]
    }
   ],
   "source": [
    "hello(5,4)"
   ]
  },
  {
   "cell_type": "code",
   "execution_count": 27,
   "id": "8e886e0d",
   "metadata": {},
   "outputs": [
    {
     "ename": "TypeError",
     "evalue": "hello() missing 1 required positional argument: 'h2'",
     "output_type": "error",
     "traceback": [
      "\u001b[1;31m---------------------------------------------------------------------------\u001b[0m",
      "\u001b[1;31mTypeError\u001b[0m                                 Traceback (most recent call last)",
      "\u001b[1;32m<ipython-input-27-a46f62fdbf1c>\u001b[0m in \u001b[0;36m<module>\u001b[1;34m\u001b[0m\n\u001b[1;32m----> 1\u001b[1;33m \u001b[0mhello\u001b[0m\u001b[1;33m(\u001b[0m\u001b[1;36m4\u001b[0m\u001b[1;33m)\u001b[0m\u001b[1;33m\u001b[0m\u001b[1;33m\u001b[0m\u001b[0m\n\u001b[0m",
      "\u001b[1;31mTypeError\u001b[0m: hello() missing 1 required positional argument: 'h2'"
     ]
    }
   ],
   "source": [
    "hello(4)"
   ]
  },
  {
   "cell_type": "raw",
   "id": "4d39afde",
   "metadata": {},
   "source": [
    "9. Create a method named ‘Sum’ that can accept multiple user inputs. Now add those user- defined input values using for loop and the function should return the addition of the numbers."
   ]
  },
  {
   "cell_type": "code",
   "execution_count": 28,
   "id": "bc34aaca",
   "metadata": {},
   "outputs": [],
   "source": [
    "def sum(*args):\n",
    "    total=0\n",
    "    for ele in range(0,len(args)):\n",
    "        total=total+args[ele]\n",
    "    return total"
   ]
  },
  {
   "cell_type": "code",
   "execution_count": 29,
   "id": "fe4bb6b2",
   "metadata": {},
   "outputs": [
    {
     "data": {
      "text/plain": [
       "15"
      ]
     },
     "execution_count": 29,
     "metadata": {},
     "output_type": "execute_result"
    }
   ],
   "source": [
    "sum(1,2,3,4,5)"
   ]
  },
  {
   "cell_type": "raw",
   "id": "eac21ecf",
   "metadata": {},
   "source": [
    "10. Create a class named ‘Encapsulation’:\n",
    "\n",
    "a. Inside the class, first create a constructor. Inside the constructor, initialize originalValue variable as 10. \n",
    "\n",
    "b. After creating the constructor, define a function named ‘Value’ and this function should return the variable that we have initialized in the constructor. \n",
    "\n",
    "c. Now create 2nd function named setValue, and pass an argument named ‘newValue’. The task of this function will be to replace the value of the originalValue variable by the value of the newValue variable"
   ]
  },
  {
   "cell_type": "code",
   "execution_count": 30,
   "id": "9453cc85",
   "metadata": {},
   "outputs": [],
   "source": [
    "class Encapsulation:\n",
    "    def __init__(self):\n",
    "        self.original_value=10\n",
    "    def Value(self):\n",
    "        return self.original_value\n",
    "    def setValue(self,NewValue):\n",
    "        self.original_value=NewValue\n",
    "        return self.original_value"
   ]
  },
  {
   "cell_type": "code",
   "execution_count": 31,
   "id": "7dbd599f",
   "metadata": {},
   "outputs": [],
   "source": [
    "obj=Encapsulation()"
   ]
  },
  {
   "cell_type": "code",
   "execution_count": 32,
   "id": "5c95fc68",
   "metadata": {},
   "outputs": [
    {
     "data": {
      "text/plain": [
       "10"
      ]
     },
     "execution_count": 32,
     "metadata": {},
     "output_type": "execute_result"
    }
   ],
   "source": [
    "obj.Value()"
   ]
  },
  {
   "cell_type": "code",
   "execution_count": 33,
   "id": "f8e65900",
   "metadata": {},
   "outputs": [
    {
     "data": {
      "text/plain": [
       "20"
      ]
     },
     "execution_count": 33,
     "metadata": {},
     "output_type": "execute_result"
    }
   ],
   "source": [
    "obj.setValue(20)"
   ]
  },
  {
   "cell_type": "code",
   "execution_count": 34,
   "id": "4895664b",
   "metadata": {},
   "outputs": [
    {
     "data": {
      "text/plain": [
       "20"
      ]
     },
     "execution_count": 34,
     "metadata": {},
     "output_type": "execute_result"
    }
   ],
   "source": [
    "obj.Value()"
   ]
  },
  {
   "cell_type": "code",
   "execution_count": null,
   "id": "45299b12",
   "metadata": {},
   "outputs": [],
   "source": []
  },
  {
   "cell_type": "markdown",
   "id": "ee4f3891",
   "metadata": {},
   "source": [
    "# file-2"
   ]
  },
  {
   "cell_type": "raw",
   "id": "fe1b4be9",
   "metadata": {},
   "source": [
    "1. Create a class named parent_Class and inside the class, initialize a global variable num as 10.\n",
    "\n",
    "a. Create another class named child_Class and this class should be inherited from the parent class. \n",
    "\n",
    "\n",
    "b. Now create an object for the child_Class and with the help of child_Class object, display the value of ‘num’."
   ]
  },
  {
   "cell_type": "code",
   "execution_count": 35,
   "id": "012526c1",
   "metadata": {},
   "outputs": [],
   "source": [
    "class parent_class:\n",
    "    def __init__(self):\n",
    "        self.num=10\n",
    "class child_class(parent_class):\n",
    "    def __init__(self):\n",
    "        parent_class.__init__(self)\n",
    "    "
   ]
  },
  {
   "cell_type": "code",
   "execution_count": 36,
   "id": "a3e5e127",
   "metadata": {},
   "outputs": [],
   "source": [
    "c1=child_class()"
   ]
  },
  {
   "cell_type": "code",
   "execution_count": 37,
   "id": "8d4ceb43",
   "metadata": {},
   "outputs": [
    {
     "data": {
      "text/plain": [
       "10"
      ]
     },
     "execution_count": 37,
     "metadata": {},
     "output_type": "execute_result"
    }
   ],
   "source": [
    "c1.num"
   ]
  },
  {
   "cell_type": "raw",
   "id": "c748c355",
   "metadata": {},
   "source": [
    "2. Create three classes named A, B, and C. \n",
    "\n",
    "\n",
    "a. Inside the A class, create a constructor. Inside the constructor, initialize 2 global variables- name and age.\n",
    "\n",
    "\n",
    "b. After initializing the global variables inside the constructor, now create a function named ‘details’ and that function should return the ‘name’ variable.\n",
    "\n",
    "\n",
    "c. Inside the B class, create a constructor. Inside the constructor, initialize 2 global variables- name and id.\n",
    "\n",
    "\n",
    "d. After initializing the global variables inside the constructor, now create a function named ‘details’ and that function should return the ‘name’ variable.\n",
    "\n",
    "\n",
    "e. The C class should inherit from class A, and B. Inside the class C, create a constructor, and inside the constructor, call the constructor of class A. \n",
    "\n",
    "\n",
    "\n",
    "f. Now, create a method inside the class C, as get_details, and this function should return the value of a name. \n",
    "\n",
    "\n",
    "g. Atlast, create an object of class C, and with the help of the object, call the get_details()."
   ]
  },
  {
   "cell_type": "code",
   "execution_count": 38,
   "id": "c8d8a07e",
   "metadata": {},
   "outputs": [],
   "source": [
    "class A:\n",
    "    def __init__(self):\n",
    "        self.name='Adi'\n",
    "        self.age=25\n",
    "    def details(self):\n",
    "        return self.name\n",
    "class B:\n",
    "    def __init__(self):\n",
    "        self.name='Shreya'\n",
    "        self.id=1188\n",
    "    def details(self):\n",
    "        return self.name\n",
    "class C(A,B):\n",
    "    def __init__(self):\n",
    "        A.__init__(self)      \n",
    "    def get_details(self):\n",
    "        return self.name"
   ]
  },
  {
   "cell_type": "code",
   "execution_count": 39,
   "id": "b2a40053",
   "metadata": {},
   "outputs": [],
   "source": [
    "o1=C()"
   ]
  },
  {
   "cell_type": "code",
   "execution_count": 40,
   "id": "10414f7b",
   "metadata": {},
   "outputs": [
    {
     "data": {
      "text/plain": [
       "'Adi'"
      ]
     },
     "execution_count": 40,
     "metadata": {},
     "output_type": "execute_result"
    }
   ],
   "source": [
    "o1.get_details()"
   ]
  },
  {
   "cell_type": "raw",
   "id": "67a88df3",
   "metadata": {},
   "source": [
    "3. Create a class named Employee, with a constructor ‘__init__’ method that accepts name and salary as parameters and set properties named name and salary. \n",
    "\n",
    "\n",
    "\n",
    "4. Define __str__ method in Employee class so that when someone tries to print the object the\n",
    "string Name: employee_name, Salary: employee_salary is printed with the actual employee name and salary."
   ]
  },
  {
   "cell_type": "code",
   "execution_count": 41,
   "id": "d8f8a933",
   "metadata": {},
   "outputs": [],
   "source": [
    "class employee:\n",
    "    def __init__(self,name,salary):\n",
    "        self.name=name\n",
    "        self.salary=salary\n",
    "    def __str__(self):\n",
    "        print('name: ',self.name)\n",
    "        print('salary: ',self.salary)\n",
    "        \n"
   ]
  },
  {
   "cell_type": "code",
   "execution_count": 42,
   "id": "144ddda1",
   "metadata": {},
   "outputs": [],
   "source": [
    "obj=employee('arjun',2000)"
   ]
  },
  {
   "cell_type": "code",
   "execution_count": 43,
   "id": "81ffbb86",
   "metadata": {},
   "outputs": [
    {
     "name": "stdout",
     "output_type": "stream",
     "text": [
      "name:  arjun\n",
      "salary:  2000\n"
     ]
    }
   ],
   "source": [
    "obj.__str__()"
   ]
  },
  {
   "cell_type": "code",
   "execution_count": 44,
   "id": "0eafc73b",
   "metadata": {},
   "outputs": [],
   "source": [
    "e1=employee('chitra',500)"
   ]
  },
  {
   "cell_type": "code",
   "execution_count": 45,
   "id": "ce927387",
   "metadata": {},
   "outputs": [
    {
     "name": "stdout",
     "output_type": "stream",
     "text": [
      "name:  chitra\n",
      "salary:  500\n"
     ]
    }
   ],
   "source": [
    "e1.__str__()"
   ]
  },
  {
   "cell_type": "raw",
   "id": "65023edb",
   "metadata": {},
   "source": [
    "5. Create a program using classes and objects to implement the following:\n",
    "\n",
    "1. A singly linked list, and various CRUD operations on the same. \n",
    "\n",
    "2. A binary tree, and various CRUD operations on the same.\n",
    "\n",
    "3. A graph data structure, and various CRUD operations on the same.\n",
    "\n",
    "4. Implementation of Circular and Doubly linked lists."
   ]
  }
 ],
 "metadata": {
  "kernelspec": {
   "display_name": "Python 3",
   "language": "python",
   "name": "python3"
  },
  "language_info": {
   "codemirror_mode": {
    "name": "ipython",
    "version": 3
   },
   "file_extension": ".py",
   "mimetype": "text/x-python",
   "name": "python",
   "nbconvert_exporter": "python",
   "pygments_lexer": "ipython3",
   "version": "3.8.8"
  }
 },
 "nbformat": 4,
 "nbformat_minor": 5
}

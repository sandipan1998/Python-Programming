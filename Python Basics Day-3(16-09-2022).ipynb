{
 "cells": [
  {
   "cell_type": "raw",
   "id": "443015aa",
   "metadata": {},
   "source": [
    "Mutable Data type-->The data type in which we can change the information after it is stored\n",
    "1.Lists--> It can hold multiple information at once.\n",
    "How to create a list-->     l=[12, 19, 1.2, 'python',True]"
   ]
  },
  {
   "cell_type": "code",
   "execution_count": 1,
   "id": "dd92ddf2",
   "metadata": {},
   "outputs": [],
   "source": [
    "l=[12, 19, 1.2, 'python',True]"
   ]
  },
  {
   "cell_type": "code",
   "execution_count": 2,
   "id": "1e0ec319",
   "metadata": {},
   "outputs": [
    {
     "data": {
      "text/plain": [
       "[12, 19, 1.2, 'python', True]"
      ]
     },
     "execution_count": 2,
     "metadata": {},
     "output_type": "execute_result"
    }
   ],
   "source": [
    "l"
   ]
  },
  {
   "cell_type": "code",
   "execution_count": 3,
   "id": "f221b169",
   "metadata": {},
   "outputs": [
    {
     "data": {
      "text/plain": [
       "list"
      ]
     },
     "execution_count": 3,
     "metadata": {},
     "output_type": "execute_result"
    }
   ],
   "source": [
    "type(l)"
   ]
  },
  {
   "cell_type": "code",
   "execution_count": 4,
   "id": "44c79017",
   "metadata": {},
   "outputs": [
    {
     "data": {
      "text/plain": [
       "'python'"
      ]
     },
     "execution_count": 4,
     "metadata": {},
     "output_type": "execute_result"
    }
   ],
   "source": [
    "l[3]"
   ]
  },
  {
   "cell_type": "code",
   "execution_count": 5,
   "id": "4d732319",
   "metadata": {},
   "outputs": [],
   "source": [
    "l[4]= False"
   ]
  },
  {
   "cell_type": "code",
   "execution_count": 6,
   "id": "cc14bb85",
   "metadata": {},
   "outputs": [
    {
     "data": {
      "text/plain": [
       "[12, 19, 1.2, 'python', False]"
      ]
     },
     "execution_count": 6,
     "metadata": {},
     "output_type": "execute_result"
    }
   ],
   "source": [
    "l"
   ]
  },
  {
   "cell_type": "code",
   "execution_count": 7,
   "id": "bd4e360f",
   "metadata": {},
   "outputs": [
    {
     "data": {
      "text/plain": [
       "[19, 1.2, 'python']"
      ]
     },
     "execution_count": 7,
     "metadata": {},
     "output_type": "execute_result"
    }
   ],
   "source": [
    "l[1:4]"
   ]
  },
  {
   "cell_type": "code",
   "execution_count": 8,
   "id": "885945c5",
   "metadata": {},
   "outputs": [
    {
     "data": {
      "text/plain": [
       "['python', False]"
      ]
     },
     "execution_count": 8,
     "metadata": {},
     "output_type": "execute_result"
    }
   ],
   "source": [
    "l[3:]"
   ]
  },
  {
   "cell_type": "code",
   "execution_count": 9,
   "id": "99f7498e",
   "metadata": {},
   "outputs": [
    {
     "data": {
      "text/plain": [
       "[12, 19, 1.2]"
      ]
     },
     "execution_count": 9,
     "metadata": {},
     "output_type": "execute_result"
    }
   ],
   "source": [
    "l[:3]"
   ]
  },
  {
   "cell_type": "code",
   "execution_count": 10,
   "id": "d1f76c8e",
   "metadata": {},
   "outputs": [
    {
     "data": {
      "text/plain": [
       "[12, 19, 1.2]"
      ]
     },
     "execution_count": 10,
     "metadata": {},
     "output_type": "execute_result"
    }
   ],
   "source": [
    "l[0:3]"
   ]
  },
  {
   "cell_type": "code",
   "execution_count": 11,
   "id": "49185aa7",
   "metadata": {},
   "outputs": [
    {
     "data": {
      "text/plain": [
       "[19, False]"
      ]
     },
     "execution_count": 11,
     "metadata": {},
     "output_type": "execute_result"
    }
   ],
   "source": [
    "l[1:5:3]         #[startingvalue:ending+1:skipping value]"
   ]
  },
  {
   "cell_type": "code",
   "execution_count": 12,
   "id": "1e4ecb36",
   "metadata": {},
   "outputs": [
    {
     "data": {
      "text/plain": [
       "3"
      ]
     },
     "execution_count": 12,
     "metadata": {},
     "output_type": "execute_result"
    }
   ],
   "source": [
    "l.index('python')"
   ]
  },
  {
   "cell_type": "raw",
   "id": "9112f3d6",
   "metadata": {},
   "source": [
    "Dictionary--> key-value pairs\n",
    "13 2.6 'python' True ------> a 12 g2 b1"
   ]
  },
  {
   "cell_type": "raw",
   "id": "d2f80283",
   "metadata": {},
   "source": [
    "How to create a dictionary------->"
   ]
  },
  {
   "cell_type": "code",
   "execution_count": 13,
   "id": "e4e5d13b",
   "metadata": {},
   "outputs": [],
   "source": [
    "d={'a':13,12:2.6,'g2':'python','b1':True}"
   ]
  },
  {
   "cell_type": "code",
   "execution_count": 14,
   "id": "f1f0a1fd",
   "metadata": {},
   "outputs": [
    {
     "data": {
      "text/plain": [
       "{'a': 13, 12: 2.6, 'g2': 'python', 'b1': True}"
      ]
     },
     "execution_count": 14,
     "metadata": {},
     "output_type": "execute_result"
    }
   ],
   "source": [
    "d"
   ]
  },
  {
   "cell_type": "code",
   "execution_count": 15,
   "id": "04926b97",
   "metadata": {},
   "outputs": [
    {
     "data": {
      "text/plain": [
       "dict"
      ]
     },
     "execution_count": 15,
     "metadata": {},
     "output_type": "execute_result"
    }
   ],
   "source": [
    "type(d)"
   ]
  },
  {
   "cell_type": "code",
   "execution_count": 16,
   "id": "f645332c",
   "metadata": {},
   "outputs": [],
   "source": [
    "d['b1']=False"
   ]
  },
  {
   "cell_type": "code",
   "execution_count": 17,
   "id": "4b5e23c5",
   "metadata": {},
   "outputs": [
    {
     "data": {
      "text/plain": [
       "{'a': 13, 12: 2.6, 'g2': 'python', 'b1': False}"
      ]
     },
     "execution_count": 17,
     "metadata": {},
     "output_type": "execute_result"
    }
   ],
   "source": [
    "d"
   ]
  },
  {
   "cell_type": "code",
   "execution_count": 18,
   "id": "b62aeda8",
   "metadata": {},
   "outputs": [
    {
     "data": {
      "text/plain": [
       "13"
      ]
     },
     "execution_count": 18,
     "metadata": {},
     "output_type": "execute_result"
    }
   ],
   "source": [
    "d['a']"
   ]
  },
  {
   "cell_type": "code",
   "execution_count": 19,
   "id": "2674708c",
   "metadata": {},
   "outputs": [],
   "source": [
    "d['a'],d[12]='dog',15"
   ]
  },
  {
   "cell_type": "code",
   "execution_count": 20,
   "id": "09b555af",
   "metadata": {},
   "outputs": [
    {
     "data": {
      "text/plain": [
       "{'a': 'dog', 12: 15, 'g2': 'python', 'b1': False}"
      ]
     },
     "execution_count": 20,
     "metadata": {},
     "output_type": "execute_result"
    }
   ],
   "source": [
    "d"
   ]
  },
  {
   "cell_type": "code",
   "execution_count": 21,
   "id": "320c8b80",
   "metadata": {},
   "outputs": [
    {
     "data": {
      "text/plain": [
       "dict_keys(['a', 12, 'g2', 'b1'])"
      ]
     },
     "execution_count": 21,
     "metadata": {},
     "output_type": "execute_result"
    }
   ],
   "source": [
    "d.keys()"
   ]
  },
  {
   "cell_type": "code",
   "execution_count": 22,
   "id": "aac2013b",
   "metadata": {},
   "outputs": [
    {
     "data": {
      "text/plain": [
       "dict_values(['dog', 15, 'python', False])"
      ]
     },
     "execution_count": 22,
     "metadata": {},
     "output_type": "execute_result"
    }
   ],
   "source": [
    "d.values()"
   ]
  },
  {
   "cell_type": "raw",
   "id": "ab694eaf",
   "metadata": {},
   "source": [
    "Sets---> Set is an unodered list of elements and can only store the orginal values or can not store the duplicate value."
   ]
  },
  {
   "cell_type": "code",
   "execution_count": 23,
   "id": "25273ee2",
   "metadata": {},
   "outputs": [],
   "source": [
    "s= {2,3,4,True,'abc',4,4}"
   ]
  },
  {
   "cell_type": "code",
   "execution_count": 24,
   "id": "c06a3128",
   "metadata": {},
   "outputs": [
    {
     "data": {
      "text/plain": [
       "{2, 3, 4, True, 'abc'}"
      ]
     },
     "execution_count": 24,
     "metadata": {},
     "output_type": "execute_result"
    }
   ],
   "source": [
    "s"
   ]
  },
  {
   "cell_type": "code",
   "execution_count": 25,
   "id": "8a03f84d",
   "metadata": {},
   "outputs": [
    {
     "data": {
      "text/plain": [
       "set"
      ]
     },
     "execution_count": 25,
     "metadata": {},
     "output_type": "execute_result"
    }
   ],
   "source": [
    "type(s)"
   ]
  },
  {
   "cell_type": "code",
   "execution_count": 26,
   "id": "80163449",
   "metadata": {},
   "outputs": [
    {
     "name": "stdout",
     "output_type": "stream",
     "text": [
      "{True, 2, 3, 4, 'abc'}\n"
     ]
    }
   ],
   "source": [
    "print(s)"
   ]
  },
  {
   "cell_type": "raw",
   "id": "24e005e0",
   "metadata": {},
   "source": [
    "conditional statements--->To check some within a conditional value----if-else\n",
    "if(condition):\n",
    "    task1\n",
    "else:\n",
    "    task2"
   ]
  },
  {
   "cell_type": "code",
   "execution_count": 27,
   "id": "97a8df62",
   "metadata": {},
   "outputs": [
    {
     "name": "stdout",
     "output_type": "stream",
     "text": [
      "b is greater\n"
     ]
    }
   ],
   "source": [
    "a= 10\n",
    "b= 20\n",
    "if(a>b):\n",
    "    print('a is greater')\n",
    "else:\n",
    "    print('b is greater')"
   ]
  },
  {
   "cell_type": "code",
   "execution_count": 28,
   "id": "ff4486e1",
   "metadata": {},
   "outputs": [
    {
     "name": "stdout",
     "output_type": "stream",
     "text": [
      "b is greater\n"
     ]
    }
   ],
   "source": [
    "#elif-----> else-if\n",
    "a= 10\n",
    "b= 20\n",
    "if(a>b):\n",
    "    print('a is greater')\n",
    "elif(b>a):\n",
    "    print('b is greater')\n",
    "elif(b==a):\n",
    "    print('both are same')\n",
    "else:\n",
    "    print('invilid data')"
   ]
  },
  {
   "cell_type": "raw",
   "id": "a95a3deb",
   "metadata": {},
   "source": [
    "Looping statements---> A kind of statements that will help us to perform some task again and again\n",
    "Two types of loop---> For loop and While loop"
   ]
  },
  {
   "cell_type": "raw",
   "id": "058ba88e",
   "metadata": {},
   "source": [
    "For loop---> It works with some set of range Values\n",
    "range() --> It is an in-built function that helps us to create our own range values\n",
    "range(5)----> range(0,5)\n",
    "I WANT TO 'Python' 10 NUMBER OF TIMES"
   ]
  },
  {
   "cell_type": "code",
   "execution_count": 29,
   "id": "025f4c33",
   "metadata": {},
   "outputs": [
    {
     "name": "stdout",
     "output_type": "stream",
     "text": [
      "Python\n",
      "Python\n",
      "Python\n",
      "Python\n",
      "Python\n",
      "Python\n",
      "Python\n",
      "Python\n",
      "Python\n",
      "Python\n"
     ]
    }
   ],
   "source": [
    "for i in range(10):\n",
    "    print('Python')"
   ]
  },
  {
   "cell_type": "code",
   "execution_count": 30,
   "id": "f5bc1528",
   "metadata": {},
   "outputs": [
    {
     "name": "stdout",
     "output_type": "stream",
     "text": [
      "Python 0\n",
      "Python 1\n",
      "Python 2\n",
      "Python 3\n",
      "Python 4\n",
      "Python 5\n",
      "Python 6\n",
      "Python 7\n",
      "Python 8\n",
      "Python 9\n"
     ]
    }
   ],
   "source": [
    "for i in range(10):\n",
    "    print('Python' ,i)"
   ]
  },
  {
   "cell_type": "code",
   "execution_count": 2,
   "id": "243f9ce6",
   "metadata": {},
   "outputs": [
    {
     "name": "stdout",
     "output_type": "stream",
     "text": [
      "Python 10\n",
      "Python 9\n",
      "Python 8\n",
      "Python 7\n",
      "Python 6\n"
     ]
    }
   ],
   "source": [
    "for i in range(10,5,-1):\n",
    "    print('Python',i)"
   ]
  },
  {
   "cell_type": "code",
   "execution_count": 33,
   "id": "7e804251",
   "metadata": {},
   "outputs": [
    {
     "name": "stdout",
     "output_type": "stream",
     "text": [
      "Python\tPython\tPython\tPython\tPython\tPython\tPython\tPython\tPython\t"
     ]
    }
   ],
   "source": [
    "for i in range(9):\n",
    "    print('Python', end= \"\\t\")"
   ]
  },
  {
   "cell_type": "code",
   "execution_count": null,
   "id": "db1331db",
   "metadata": {},
   "outputs": [],
   "source": []
  }
 ],
 "metadata": {
  "kernelspec": {
   "display_name": "Python 3 (ipykernel)",
   "language": "python",
   "name": "python3"
  },
  "language_info": {
   "codemirror_mode": {
    "name": "ipython",
    "version": 3
   },
   "file_extension": ".py",
   "mimetype": "text/x-python",
   "name": "python",
   "nbconvert_exporter": "python",
   "pygments_lexer": "ipython3",
   "version": "3.9.13"
  }
 },
 "nbformat": 4,
 "nbformat_minor": 5
}

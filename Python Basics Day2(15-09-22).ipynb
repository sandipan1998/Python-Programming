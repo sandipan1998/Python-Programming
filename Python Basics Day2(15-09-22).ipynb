{
 "cells": [
  {
   "cell_type": "code",
   "execution_count": null,
   "id": "00acaf1b",
   "metadata": {},
   "outputs": [],
   "source": [
    "#Data Types --> Classification of data items.\n",
    "# 1. Immutable data types --> Data types in which information once stored, cannot be changed or altered.\n",
    "# 2. Mutable data types --> Data types in which information once stored, can be changed or altered."
   ]
  },
  {
   "cell_type": "code",
   "execution_count": 1,
   "id": "06b2c7e6",
   "metadata": {},
   "outputs": [
    {
     "data": {
      "text/plain": [
       "str"
      ]
     },
     "execution_count": 1,
     "metadata": {},
     "output_type": "execute_result"
    }
   ],
   "source": [
    "# Immutable Data Types --> Strings, Tuples\n",
    "# Strings --> It is a collection of one or more characters put in a single/double quote.\n",
    "x = 'Hello, World'\n",
    "type(x)"
   ]
  },
  {
   "cell_type": "code",
   "execution_count": 2,
   "id": "3adcc5e4",
   "metadata": {},
   "outputs": [],
   "source": [
    "a = \"This is a boy's car\""
   ]
  },
  {
   "cell_type": "code",
   "execution_count": 3,
   "id": "f6659806",
   "metadata": {},
   "outputs": [
    {
     "data": {
      "text/plain": [
       "'t'"
      ]
     },
     "execution_count": 3,
     "metadata": {},
     "output_type": "execute_result"
    }
   ],
   "source": [
    "x = 'Python'\n",
    "# Indexing --> To access any single element from the collection.\n",
    "#  P  y  t  h  o  n\n",
    "#  0  1  2  3  4  5  --> Regular index values\n",
    "# -6 -5 -4 -3 -2 -1  --> Negative index values\n",
    "\n",
    "x[2]"
   ]
  },
  {
   "cell_type": "code",
   "execution_count": 4,
   "id": "08872bb9",
   "metadata": {},
   "outputs": [
    {
     "data": {
      "text/plain": [
       "'t'"
      ]
     },
     "execution_count": 4,
     "metadata": {},
     "output_type": "execute_result"
    }
   ],
   "source": [
    "x[-4]"
   ]
  },
  {
   "cell_type": "code",
   "execution_count": 5,
   "id": "1c56b5bb",
   "metadata": {},
   "outputs": [
    {
     "data": {
      "text/plain": [
       "'o'"
      ]
     },
     "execution_count": 5,
     "metadata": {},
     "output_type": "execute_result"
    }
   ],
   "source": [
    "b = 'This is a python basics session'\n",
    "b[-2]\n"
   ]
  },
  {
   "cell_type": "code",
   "execution_count": 11,
   "id": "90236081",
   "metadata": {},
   "outputs": [
    {
     "data": {
      "text/plain": [
       "20"
      ]
     },
     "execution_count": 11,
     "metadata": {},
     "output_type": "execute_result"
    }
   ],
   "source": [
    "b.index('ic')"
   ]
  },
  {
   "cell_type": "code",
   "execution_count": 12,
   "id": "89b076f1",
   "metadata": {},
   "outputs": [
    {
     "data": {
      "text/plain": [
       "'i'"
      ]
     },
     "execution_count": 12,
     "metadata": {},
     "output_type": "execute_result"
    }
   ],
   "source": [
    "b[20]"
   ]
  },
  {
   "cell_type": "code",
   "execution_count": 13,
   "id": "28700e5c",
   "metadata": {},
   "outputs": [
    {
     "data": {
      "text/plain": [
       "14"
      ]
     },
     "execution_count": 13,
     "metadata": {},
     "output_type": "execute_result"
    }
   ],
   "source": [
    "b.index('o')"
   ]
  },
  {
   "cell_type": "code",
   "execution_count": 15,
   "id": "4169c58d",
   "metadata": {},
   "outputs": [
    {
     "data": {
      "text/plain": [
       "7"
      ]
     },
     "execution_count": 15,
     "metadata": {},
     "output_type": "execute_result"
    }
   ],
   "source": [
    "b.index(' a')"
   ]
  },
  {
   "cell_type": "code",
   "execution_count": 20,
   "id": "a4fab2de",
   "metadata": {},
   "outputs": [
    {
     "data": {
      "text/plain": [
       "29"
      ]
     },
     "execution_count": 20,
     "metadata": {},
     "output_type": "execute_result"
    }
   ],
   "source": [
    "b.index('ion')+1"
   ]
  },
  {
   "cell_type": "code",
   "execution_count": 21,
   "id": "bf3453c3",
   "metadata": {},
   "outputs": [
    {
     "data": {
      "text/plain": [
       "30"
      ]
     },
     "execution_count": 21,
     "metadata": {},
     "output_type": "execute_result"
    }
   ],
   "source": [
    "b.rindex('n')"
   ]
  },
  {
   "cell_type": "code",
   "execution_count": 22,
   "id": "47cb2321",
   "metadata": {},
   "outputs": [
    {
     "data": {
      "text/plain": [
       "29"
      ]
     },
     "execution_count": 22,
     "metadata": {},
     "output_type": "execute_result"
    }
   ],
   "source": [
    "b.rindex('o')"
   ]
  },
  {
   "cell_type": "code",
   "execution_count": 23,
   "id": "3e626275",
   "metadata": {},
   "outputs": [
    {
     "data": {
      "text/plain": [
       "(8, 10)"
      ]
     },
     "execution_count": 23,
     "metadata": {},
     "output_type": "execute_result"
    }
   ],
   "source": [
    "b.index('a'), b.index('p')"
   ]
  },
  {
   "cell_type": "code",
   "execution_count": 24,
   "id": "1deb2923",
   "metadata": {},
   "outputs": [
    {
     "data": {
      "text/plain": [
       "(14, 29)"
      ]
     },
     "execution_count": 24,
     "metadata": {},
     "output_type": "execute_result"
    }
   ],
   "source": [
    "b.index('o'), b.rindex('o')"
   ]
  },
  {
   "cell_type": "code",
   "execution_count": 25,
   "id": "75e9ccdd",
   "metadata": {},
   "outputs": [
    {
     "data": {
      "text/plain": [
       "17"
      ]
     },
     "execution_count": 25,
     "metadata": {},
     "output_type": "execute_result"
    }
   ],
   "source": [
    "b.rindex('b')"
   ]
  },
  {
   "cell_type": "code",
   "execution_count": 26,
   "id": "efc86dd7",
   "metadata": {},
   "outputs": [
    {
     "data": {
      "text/plain": [
       "17"
      ]
     },
     "execution_count": 26,
     "metadata": {},
     "output_type": "execute_result"
    }
   ],
   "source": [
    "b.index('b')"
   ]
  },
  {
   "cell_type": "code",
   "execution_count": 43,
   "id": "21cdc46f",
   "metadata": {},
   "outputs": [
    {
     "data": {
      "text/plain": [
       "'yth'"
      ]
     },
     "execution_count": 43,
     "metadata": {},
     "output_type": "execute_result"
    }
   ],
   "source": [
    "# Slicing --> It is used when you want to access multiple elements from a collection.\n",
    "# variableName[startIndexvalue:endingIndexValue+1]\n",
    "x = 'Python'\n",
    "x[1:4]"
   ]
  },
  {
   "cell_type": "code",
   "execution_count": 28,
   "id": "fb1fe83c",
   "metadata": {},
   "outputs": [
    {
     "data": {
      "text/plain": [
       "'tho'"
      ]
     },
     "execution_count": 28,
     "metadata": {},
     "output_type": "execute_result"
    }
   ],
   "source": [
    "x[2:5]"
   ]
  },
  {
   "cell_type": "code",
   "execution_count": 29,
   "id": "bd434562",
   "metadata": {},
   "outputs": [
    {
     "data": {
      "text/plain": [
       "'lo, '"
      ]
     },
     "execution_count": 29,
     "metadata": {},
     "output_type": "execute_result"
    }
   ],
   "source": [
    "a = 'Hello, world'\n",
    "a[3:7]"
   ]
  },
  {
   "cell_type": "code",
   "execution_count": 32,
   "id": "89c9086e",
   "metadata": {},
   "outputs": [
    {
     "data": {
      "text/plain": [
       "'rld'"
      ]
     },
     "execution_count": 32,
     "metadata": {},
     "output_type": "execute_result"
    }
   ],
   "source": [
    "a[-3:]"
   ]
  },
  {
   "cell_type": "code",
   "execution_count": 33,
   "id": "e322091d",
   "metadata": {},
   "outputs": [
    {
     "data": {
      "text/plain": [
       "'orl'"
      ]
     },
     "execution_count": 33,
     "metadata": {},
     "output_type": "execute_result"
    }
   ],
   "source": [
    "a[-4:-1]"
   ]
  },
  {
   "cell_type": "code",
   "execution_count": 34,
   "id": "a5990bb0",
   "metadata": {},
   "outputs": [
    {
     "data": {
      "text/plain": [
       "''"
      ]
     },
     "execution_count": 34,
     "metadata": {},
     "output_type": "execute_result"
    }
   ],
   "source": [
    "a[-3:]"
   ]
  },
  {
   "cell_type": "code",
   "execution_count": 35,
   "id": "97f971a2",
   "metadata": {},
   "outputs": [
    {
     "data": {
      "text/plain": [
       "'o, world'"
      ]
     },
     "execution_count": 35,
     "metadata": {},
     "output_type": "execute_result"
    }
   ],
   "source": [
    "a[4:]"
   ]
  },
  {
   "cell_type": "code",
   "execution_count": 37,
   "id": "68177e98",
   "metadata": {},
   "outputs": [
    {
     "data": {
      "text/plain": [
       "'Hello,'"
      ]
     },
     "execution_count": 37,
     "metadata": {},
     "output_type": "execute_result"
    }
   ],
   "source": [
    "a[:6]"
   ]
  },
  {
   "cell_type": "code",
   "execution_count": 36,
   "id": "3022989d",
   "metadata": {},
   "outputs": [
    {
     "ename": "TypeError",
     "evalue": "'str' object does not support item assignment",
     "output_type": "error",
     "traceback": [
      "\u001b[1;31m---------------------------------------------------------------------------\u001b[0m",
      "\u001b[1;31mTypeError\u001b[0m                                 Traceback (most recent call last)",
      "Input \u001b[1;32mIn [36]\u001b[0m, in \u001b[0;36m<cell line: 1>\u001b[1;34m()\u001b[0m\n\u001b[1;32m----> 1\u001b[0m x[\u001b[38;5;241m1\u001b[39m] \u001b[38;5;241m=\u001b[39m \u001b[38;5;124m'\u001b[39m\u001b[38;5;124mi\u001b[39m\u001b[38;5;124m'\u001b[39m\n",
      "\u001b[1;31mTypeError\u001b[0m: 'str' object does not support item assignment"
     ]
    }
   ],
   "source": [
    "x[1] = 'i'"
   ]
  },
  {
   "cell_type": "code",
   "execution_count": 50,
   "id": "7a3fa5c2",
   "metadata": {},
   "outputs": [
    {
     "data": {
      "text/plain": [
       "slice"
      ]
     },
     "execution_count": 50,
     "metadata": {},
     "output_type": "execute_result"
    }
   ],
   "source": [
    "c = slice(1,4)\n",
    "type(c)"
   ]
  },
  {
   "cell_type": "code",
   "execution_count": 45,
   "id": "b92ff21d",
   "metadata": {},
   "outputs": [
    {
     "data": {
      "text/plain": [
       "'yth'"
      ]
     },
     "execution_count": 45,
     "metadata": {},
     "output_type": "execute_result"
    }
   ],
   "source": [
    "x[c]"
   ]
  },
  {
   "cell_type": "code",
   "execution_count": 46,
   "id": "bf0c3e50",
   "metadata": {},
   "outputs": [
    {
     "data": {
      "text/plain": [
       "'yth'"
      ]
     },
     "execution_count": 46,
     "metadata": {},
     "output_type": "execute_result"
    }
   ],
   "source": [
    "x[1:-2]"
   ]
  },
  {
   "cell_type": "code",
   "execution_count": 47,
   "id": "9129bce6",
   "metadata": {},
   "outputs": [
    {
     "data": {
      "text/plain": [
       "'his'"
      ]
     },
     "execution_count": 47,
     "metadata": {},
     "output_type": "execute_result"
    }
   ],
   "source": [
    "b[1:4]"
   ]
  },
  {
   "cell_type": "code",
   "execution_count": 48,
   "id": "1d660381",
   "metadata": {},
   "outputs": [
    {
     "data": {
      "text/plain": [
       "'yth'"
      ]
     },
     "execution_count": 48,
     "metadata": {},
     "output_type": "execute_result"
    }
   ],
   "source": [
    "x[slice(1,4)]"
   ]
  },
  {
   "cell_type": "code",
   "execution_count": 51,
   "id": "caf50cf9",
   "metadata": {},
   "outputs": [],
   "source": [
    "# Tuples --> A type of data that can hold multiple values at once\n",
    "t = 23, 44, 5.5, 'string'"
   ]
  },
  {
   "cell_type": "code",
   "execution_count": 52,
   "id": "85f96845",
   "metadata": {},
   "outputs": [
    {
     "data": {
      "text/plain": [
       "(23, 44, 5.5, 'string')"
      ]
     },
     "execution_count": 52,
     "metadata": {},
     "output_type": "execute_result"
    }
   ],
   "source": [
    "t"
   ]
  },
  {
   "cell_type": "code",
   "execution_count": 53,
   "id": "e708c89f",
   "metadata": {},
   "outputs": [
    {
     "data": {
      "text/plain": [
       "tuple"
      ]
     },
     "execution_count": 53,
     "metadata": {},
     "output_type": "execute_result"
    }
   ],
   "source": [
    "type(t)"
   ]
  },
  {
   "cell_type": "code",
   "execution_count": 66,
   "id": "d2d9b1bd",
   "metadata": {},
   "outputs": [],
   "source": [
    "t = (23, 44, 5.5, 'string')"
   ]
  },
  {
   "cell_type": "code",
   "execution_count": 67,
   "id": "8c2b8bf2",
   "metadata": {},
   "outputs": [
    {
     "data": {
      "text/plain": [
       "(23, 44, 5.5, 'string')"
      ]
     },
     "execution_count": 67,
     "metadata": {},
     "output_type": "execute_result"
    }
   ],
   "source": [
    "t"
   ]
  },
  {
   "cell_type": "code",
   "execution_count": 57,
   "id": "18ef6ec3",
   "metadata": {},
   "outputs": [
    {
     "data": {
      "text/plain": [
       "tuple"
      ]
     },
     "execution_count": 57,
     "metadata": {},
     "output_type": "execute_result"
    }
   ],
   "source": [
    "type(t)"
   ]
  },
  {
   "cell_type": "code",
   "execution_count": 64,
   "id": "ca66c5a7",
   "metadata": {},
   "outputs": [],
   "source": [
    "t = 23,"
   ]
  },
  {
   "cell_type": "code",
   "execution_count": 65,
   "id": "c59a982f",
   "metadata": {},
   "outputs": [
    {
     "data": {
      "text/plain": [
       "tuple"
      ]
     },
     "execution_count": 65,
     "metadata": {},
     "output_type": "execute_result"
    }
   ],
   "source": [
    "type(t)"
   ]
  },
  {
   "cell_type": "code",
   "execution_count": 62,
   "id": "fe51a961",
   "metadata": {},
   "outputs": [],
   "source": [
    "t = (23)"
   ]
  },
  {
   "cell_type": "code",
   "execution_count": 63,
   "id": "37a1aba8",
   "metadata": {},
   "outputs": [
    {
     "data": {
      "text/plain": [
       "int"
      ]
     },
     "execution_count": 63,
     "metadata": {},
     "output_type": "execute_result"
    }
   ],
   "source": [
    "type(t)"
   ]
  },
  {
   "cell_type": "code",
   "execution_count": 68,
   "id": "57255c59",
   "metadata": {},
   "outputs": [
    {
     "data": {
      "text/plain": [
       "5.5"
      ]
     },
     "execution_count": 68,
     "metadata": {},
     "output_type": "execute_result"
    }
   ],
   "source": [
    "t[2]"
   ]
  },
  {
   "cell_type": "code",
   "execution_count": 69,
   "id": "85b69ec0",
   "metadata": {},
   "outputs": [
    {
     "data": {
      "text/plain": [
       "(44, 5.5)"
      ]
     },
     "execution_count": 69,
     "metadata": {},
     "output_type": "execute_result"
    }
   ],
   "source": [
    "t[1:3]"
   ]
  },
  {
   "cell_type": "code",
   "execution_count": 70,
   "id": "2a7df308",
   "metadata": {},
   "outputs": [
    {
     "ename": "TypeError",
     "evalue": "'tuple' object does not support item assignment",
     "output_type": "error",
     "traceback": [
      "\u001b[1;31m---------------------------------------------------------------------------\u001b[0m",
      "\u001b[1;31mTypeError\u001b[0m                                 Traceback (most recent call last)",
      "Input \u001b[1;32mIn [70]\u001b[0m, in \u001b[0;36m<cell line: 1>\u001b[1;34m()\u001b[0m\n\u001b[1;32m----> 1\u001b[0m t[\u001b[38;5;241m1\u001b[39m] \u001b[38;5;241m=\u001b[39m \u001b[38;5;241m4.4\u001b[39m\n",
      "\u001b[1;31mTypeError\u001b[0m: 'tuple' object does not support item assignment"
     ]
    }
   ],
   "source": [
    "t[1] = 4.4"
   ]
  },
  {
   "cell_type": "code",
   "execution_count": 71,
   "id": "f5374b40",
   "metadata": {},
   "outputs": [
    {
     "ename": "TypeError",
     "evalue": "'tuple' object does not support item assignment",
     "output_type": "error",
     "traceback": [
      "\u001b[1;31m---------------------------------------------------------------------------\u001b[0m",
      "\u001b[1;31mTypeError\u001b[0m                                 Traceback (most recent call last)",
      "Input \u001b[1;32mIn [71]\u001b[0m, in \u001b[0;36m<cell line: 1>\u001b[1;34m()\u001b[0m\n\u001b[1;32m----> 1\u001b[0m t[\u001b[38;5;241m4\u001b[39m] \u001b[38;5;241m=\u001b[39m \u001b[38;5;124m'\u001b[39m\u001b[38;5;124mi\u001b[39m\u001b[38;5;124m'\u001b[39m\n",
      "\u001b[1;31mTypeError\u001b[0m: 'tuple' object does not support item assignment"
     ]
    }
   ],
   "source": [
    "t[4] = 'i'"
   ]
  },
  {
   "cell_type": "code",
   "execution_count": 89,
   "id": "5f73d611",
   "metadata": {},
   "outputs": [
    {
     "data": {
      "text/plain": [
       "(44, 5.5)"
      ]
     },
     "execution_count": 89,
     "metadata": {},
     "output_type": "execute_result"
    }
   ],
   "source": [
    "t = (23, 44, 5.5, 'string')\n",
    "t[-3:-1]"
   ]
  },
  {
   "cell_type": "code",
   "execution_count": 73,
   "id": "86cf8383",
   "metadata": {},
   "outputs": [
    {
     "data": {
      "text/plain": [
       "'string'"
      ]
     },
     "execution_count": 73,
     "metadata": {},
     "output_type": "execute_result"
    }
   ],
   "source": [
    "t[1+2]  # t[3]"
   ]
  },
  {
   "cell_type": "code",
   "execution_count": 74,
   "id": "264b82a2",
   "metadata": {},
   "outputs": [
    {
     "data": {
      "text/plain": [
       "(23, 44, 5.5, 'string', 2, 4)"
      ]
     },
     "execution_count": 74,
     "metadata": {},
     "output_type": "execute_result"
    }
   ],
   "source": [
    "s = t + (2,4)\n",
    "s"
   ]
  },
  {
   "cell_type": "code",
   "execution_count": 80,
   "id": "1dfc69ff",
   "metadata": {},
   "outputs": [
    {
     "data": {
      "text/plain": [
       "(44, 5.5, 'string')"
      ]
     },
     "execution_count": 80,
     "metadata": {},
     "output_type": "execute_result"
    }
   ],
   "source": [
    "s[1:-2]"
   ]
  },
  {
   "cell_type": "code",
   "execution_count": 78,
   "id": "2a9c6fd7",
   "metadata": {},
   "outputs": [],
   "source": [
    "t = 56,77,23"
   ]
  },
  {
   "cell_type": "code",
   "execution_count": 79,
   "id": "02ae83d3",
   "metadata": {},
   "outputs": [
    {
     "data": {
      "text/plain": [
       "(56, 77, 23)"
      ]
     },
     "execution_count": 79,
     "metadata": {},
     "output_type": "execute_result"
    }
   ],
   "source": [
    "t"
   ]
  },
  {
   "cell_type": "code",
   "execution_count": 87,
   "id": "4dffd1bb",
   "metadata": {},
   "outputs": [],
   "source": [
    "t = t + (5,23)"
   ]
  },
  {
   "cell_type": "code",
   "execution_count": 90,
   "id": "b3575277",
   "metadata": {},
   "outputs": [
    {
     "data": {
      "text/plain": [
       "(23, 44, 5.5)"
      ]
     },
     "execution_count": 90,
     "metadata": {},
     "output_type": "execute_result"
    }
   ],
   "source": [
    "t[0:-1]"
   ]
  },
  {
   "cell_type": "code",
   "execution_count": null,
   "id": "c7bc8161",
   "metadata": {},
   "outputs": [],
   "source": []
  }
 ],
 "metadata": {
  "kernelspec": {
   "display_name": "Python 3 (ipykernel)",
   "language": "python",
   "name": "python3"
  },
  "language_info": {
   "codemirror_mode": {
    "name": "ipython",
    "version": 3
   },
   "file_extension": ".py",
   "mimetype": "text/x-python",
   "name": "python",
   "nbconvert_exporter": "python",
   "pygments_lexer": "ipython3",
   "version": "3.9.13"
  }
 },
 "nbformat": 4,
 "nbformat_minor": 5
}

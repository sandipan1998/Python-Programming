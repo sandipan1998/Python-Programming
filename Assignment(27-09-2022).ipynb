{
 "cells": [
  {
   "cell_type": "raw",
   "id": "661c6985",
   "metadata": {},
   "source": [
    "#Q1 For a given list that contains numbers from 1 to 20.\n",
    "#Using a for loop, create a new list that contains the square of each element from the given list."
   ]
  },
  {
   "cell_type": "code",
   "execution_count": 3,
   "id": "60ab44d3",
   "metadata": {},
   "outputs": [
    {
     "name": "stdout",
     "output_type": "stream",
     "text": [
      "[1, 4, 9, 16, 25, 36, 49, 64, 81, 100, 121, 144, 169, 196, 225, 256, 289, 324, 361, 400]\n"
     ]
    }
   ],
   "source": [
    "list1 = []\n",
    "for i in range (1,21):\n",
    "    list1.append(i)\n",
    "    \n",
    "sqlist =[]\n",
    "#for i in range(1,21):\n",
    "#    sqlist.append(i*i)\n",
    "    \n",
    "for i in list1:\n",
    "    sqlist.append(i*i)\n",
    "\n",
    "print(sqlist)\n"
   ]
  },
  {
   "cell_type": "raw",
   "id": "305f04a3",
   "metadata": {},
   "source": [
    "#Q2 For a given dictionary that contains numbers from 1-10 as keys,\n",
    "# and their square as values, display each key-value pair using a for loop."
   ]
  },
  {
   "cell_type": "code",
   "execution_count": 8,
   "id": "011d0a33",
   "metadata": {},
   "outputs": [
    {
     "name": "stdout",
     "output_type": "stream",
     "text": [
      "1 1\n",
      "2 4\n",
      "3 9\n",
      "4 16\n",
      "5 25\n",
      "6 36\n",
      "7 49\n",
      "8 64\n",
      "9 81\n",
      "10 100\n"
     ]
    }
   ],
   "source": [
    "dictionary1 = {}\n",
    "for i in range(1,11):\n",
    "    dictionary1[i]=i*i\n",
    "#dictionary1\n",
    "\n",
    "for x,y in dictionary1.items():\n",
    "        print(x,y)\n"
   ]
  },
  {
   "cell_type": "raw",
   "id": "7bc07f20",
   "metadata": {},
   "source": [
    "#Q A tuple contains even numbers from 1-20. Display all the items in a tuple using a for loop."
   ]
  },
  {
   "cell_type": "code",
   "execution_count": 12,
   "id": "869dccb6",
   "metadata": {},
   "outputs": [
    {
     "name": "stdout",
     "output_type": "stream",
     "text": [
      "2\n",
      "4\n",
      "6\n",
      "8\n",
      "10\n",
      "12\n",
      "14\n",
      "16\n",
      "18\n",
      "20\n"
     ]
    }
   ],
   "source": [
    "list2 = []\n",
    "for i in range(2,21,2):\n",
    "    list2.append(i)\n",
    "\n",
    "tup1 = tuple(list2)\n",
    "for i in tup1:\n",
    "    print(i)"
   ]
  },
  {
   "cell_type": "raw",
   "id": "cb2492e1",
   "metadata": {},
   "source": [
    "# A set contains odd numbers from 1-20. Display the items in a set using a for loop."
   ]
  },
  {
   "cell_type": "code",
   "execution_count": 14,
   "id": "6b191d37",
   "metadata": {},
   "outputs": [
    {
     "name": "stdout",
     "output_type": "stream",
     "text": [
      "1\n",
      "3\n",
      "5\n",
      "7\n",
      "9\n",
      "11\n",
      "13\n",
      "15\n",
      "17\n",
      "19\n"
     ]
    }
   ],
   "source": [
    "set1 = set()\n",
    "for i in range(1,21,2):\n",
    "    set1.add(i)\n",
    "    \n",
    "for i in set1:\n",
    "    print(i)\n",
    "    "
   ]
  },
  {
   "cell_type": "raw",
   "id": "2474be57",
   "metadata": {},
   "source": [
    "#For a given sequence of nested lists, display the elements using a for loop.\n",
    "#a = [[1,2],[3,4],[5,6],[7,8]]\n",
    "# 1 2\n",
    "# 3 4\n",
    "# 5 6\n",
    "# 7 8\n"
   ]
  },
  {
   "cell_type": "code",
   "execution_count": 16,
   "id": "ad2cf626",
   "metadata": {},
   "outputs": [
    {
     "name": "stdout",
     "output_type": "stream",
     "text": [
      "1 2\n",
      "3 4\n",
      "5 6\n",
      "7 8\n"
     ]
    }
   ],
   "source": [
    "a = [[1,2],[3,4],[5,6],[7,8]]\n",
    "for i in a:\n",
    "    print(i[0],i[1])"
   ]
  },
  {
   "cell_type": "raw",
   "id": "10b95f5d",
   "metadata": {},
   "source": [
    "# For a given list of natural numbers from 1-100,\n",
    "# using the while loop, print only the numbers that are divisible by 2."
   ]
  },
  {
   "cell_type": "code",
   "execution_count": 18,
   "id": "bdac9c33",
   "metadata": {},
   "outputs": [
    {
     "name": "stdout",
     "output_type": "stream",
     "text": [
      "2\n",
      "4\n",
      "6\n",
      "8\n",
      "10\n",
      "12\n",
      "14\n",
      "16\n",
      "18\n",
      "20\n",
      "22\n",
      "24\n",
      "26\n",
      "28\n",
      "30\n",
      "32\n",
      "34\n",
      "36\n",
      "38\n",
      "40\n",
      "42\n",
      "44\n",
      "46\n",
      "48\n",
      "50\n",
      "52\n",
      "54\n",
      "56\n",
      "58\n",
      "60\n",
      "62\n",
      "64\n",
      "66\n",
      "68\n",
      "70\n",
      "72\n",
      "74\n",
      "76\n",
      "78\n",
      "80\n",
      "82\n",
      "84\n",
      "86\n",
      "88\n",
      "90\n",
      "92\n",
      "94\n",
      "96\n",
      "98\n",
      "100\n"
     ]
    }
   ],
   "source": [
    "list4 = []\n",
    "for i in range(1,101):\n",
    "    list4.append(i)\n",
    "    \n",
    "#initialization\n",
    "j = 0\n",
    "#condition\n",
    "while j<100:\n",
    "    if (list4[j]%2==0):\n",
    "        print(list4[j])\n",
    "        \n",
    "    #updation\n",
    "    j+=1\n",
    "\n"
   ]
  },
  {
   "cell_type": "raw",
   "id": "11c75669",
   "metadata": {},
   "source": [
    "#Print the first 5 multiples of 3 using a while loop.\n"
   ]
  },
  {
   "cell_type": "code",
   "execution_count": 20,
   "id": "f587b575",
   "metadata": {},
   "outputs": [
    {
     "name": "stdout",
     "output_type": "stream",
     "text": [
      "3\n",
      "6\n",
      "9\n",
      "12\n",
      "15\n"
     ]
    }
   ],
   "source": [
    "i = 1\n",
    "while i<=5:\n",
    "    print(3*i)\n",
    "    i+=1"
   ]
  },
  {
   "cell_type": "raw",
   "id": "d4323be3",
   "metadata": {},
   "source": [
    "# For a given dictionary that contains the first 10 natural numbers as keys,\n",
    "# and their cubes as values, display the key value pairs using a while loop."
   ]
  },
  {
   "cell_type": "code",
   "execution_count": 23,
   "id": "26e9f2a4",
   "metadata": {},
   "outputs": [
    {
     "name": "stdout",
     "output_type": "stream",
     "text": [
      "1   1\n",
      "2   8\n",
      "3   27\n",
      "4   64\n",
      "5   125\n",
      "6   216\n",
      "7   343\n",
      "8   512\n",
      "9   729\n",
      "10   1000\n"
     ]
    }
   ],
   "source": [
    "dictionary2 ={}\n",
    "for i in range(1,11):\n",
    "    dictionary2[i]= i*i*i\n",
    "    \n",
    "key = list(dictionary2.keys())\n",
    "\n",
    "i = 0\n",
    "while i<len(key):\n",
    "    print(key[i],\" \",dictionary2[key[i]])\n",
    "    i+=1\n"
   ]
  },
  {
   "cell_type": "raw",
   "id": "ccba7bf4",
   "metadata": {},
   "source": [
    "Create a nested for loop to print a half and full pyramid pattern program in python"
   ]
  },
  {
   "cell_type": "code",
   "execution_count": 15,
   "id": "0ceed65d",
   "metadata": {},
   "outputs": [
    {
     "name": "stdout",
     "output_type": "stream",
     "text": [
      "Enter number of rows: 5\n",
      "* \n",
      "\n",
      "* * \n",
      "\n",
      "* * * \n",
      "\n",
      "* * * * \n",
      "\n",
      "* * * * * \n",
      "\n"
     ]
    }
   ],
   "source": [
    "rows = int(input(\"Enter number of rows: \"))\n",
    "\n",
    "for i in range(rows):\n",
    "    for j in range(i+1):\n",
    "        print(\"* \", end=\"\")\n",
    "    print(\"\\n\")"
   ]
  },
  {
   "cell_type": "code",
   "execution_count": 16,
   "id": "6277c1b2",
   "metadata": {},
   "outputs": [
    {
     "name": "stdout",
     "output_type": "stream",
     "text": [
      "Enter number of rows: 5\n",
      "        * \n",
      "      * * * \n",
      "    * * * * * \n",
      "  * * * * * * * \n",
      "* * * * * * * * * \n"
     ]
    }
   ],
   "source": [
    "rows = int(input(\"Enter number of rows: \"))\n",
    "\n",
    "k = 0\n",
    "\n",
    "for i in range(1, rows+1):\n",
    "    for space in range(1, (rows-i)+1):\n",
    "        print(end=\"  \")\n",
    "   \n",
    "    while k!=(2*i-1):\n",
    "        print(\"* \", end=\"\")\n",
    "        k += 1\n",
    "   \n",
    "    k = 0\n",
    "    print()"
   ]
  },
  {
   "cell_type": "code",
   "execution_count": null,
   "id": "6ebc7db2",
   "metadata": {},
   "outputs": [],
   "source": []
  }
 ],
 "metadata": {
  "kernelspec": {
   "display_name": "Python 3",
   "language": "python",
   "name": "python3"
  },
  "language_info": {
   "codemirror_mode": {
    "name": "ipython",
    "version": 3
   },
   "file_extension": ".py",
   "mimetype": "text/x-python",
   "name": "python",
   "nbconvert_exporter": "python",
   "pygments_lexer": "ipython3",
   "version": "3.8.8"
  }
 },
 "nbformat": 4,
 "nbformat_minor": 5
}

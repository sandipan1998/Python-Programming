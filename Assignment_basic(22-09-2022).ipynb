{
 "cells": [
  {
   "cell_type": "markdown",
   "id": "ee30be38",
   "metadata": {},
   "source": [
    "# Case Study 1"
   ]
  },
  {
   "cell_type": "raw",
   "id": "5a1ef23e",
   "metadata": {},
   "source": [
    "1. Create a list containing squares of numbers from 1 to 10 (HINT: use List Comprehension)."
   ]
  },
  {
   "cell_type": "code",
   "execution_count": 1,
   "id": "3ec3063d",
   "metadata": {},
   "outputs": [
    {
     "data": {
      "text/plain": [
       "range(0, 5)"
      ]
     },
     "execution_count": 1,
     "metadata": {},
     "output_type": "execute_result"
    }
   ],
   "source": [
    "range(5)"
   ]
  },
  {
   "cell_type": "markdown",
   "id": "2567174a",
   "metadata": {},
   "source": [
    "## syntax of range\n",
    "#range(start,end+1)"
   ]
  },
  {
   "cell_type": "code",
   "execution_count": 2,
   "id": "976a4a34",
   "metadata": {},
   "outputs": [
    {
     "data": {
      "text/plain": [
       "range(5, 10)"
      ]
     },
     "execution_count": 2,
     "metadata": {},
     "output_type": "execute_result"
    }
   ],
   "source": [
    "range(5,10)"
   ]
  },
  {
   "cell_type": "code",
   "execution_count": 3,
   "id": "0638c845",
   "metadata": {},
   "outputs": [
    {
     "name": "stdout",
     "output_type": "stream",
     "text": [
      "1\n",
      "4\n",
      "9\n",
      "16\n",
      "25\n",
      "36\n",
      "49\n",
      "64\n",
      "81\n",
      "100\n"
     ]
    }
   ],
   "source": [
    "for x in range(1,11):\n",
    "    print(x*x)\n",
    "    "
   ]
  },
  {
   "cell_type": "raw",
   "id": "cd2e3b1f",
   "metadata": {},
   "source": [
    "syntax of list comprehension\n",
    "[task loop/condition]"
   ]
  },
  {
   "cell_type": "code",
   "execution_count": 4,
   "id": "14be52a4",
   "metadata": {},
   "outputs": [
    {
     "data": {
      "text/plain": [
       "[1, 4, 9, 16, 25, 36, 49, 64, 81, 100]"
      ]
     },
     "execution_count": 4,
     "metadata": {},
     "output_type": "execute_result"
    }
   ],
   "source": [
    "[x*x for x in range(1,11)]"
   ]
  },
  {
   "cell_type": "raw",
   "id": "5d9983ef",
   "metadata": {},
   "source": [
    "2. Write a Function to check if year number is a leap year."
   ]
  },
  {
   "cell_type": "raw",
   "id": "ea9f1e36",
   "metadata": {},
   "source": [
    "#1 year divided 4 if we get the reminder 0 and year is not divided by 100 --->leap year\n",
    "#2 year divided by 400 and also divided by 100 if we get the reminder 0---->leap year\n",
    "#both 1 and 2 are not satisfied then it is --->not a leap year"
   ]
  },
  {
   "cell_type": "code",
   "execution_count": 5,
   "id": "4e27f538",
   "metadata": {},
   "outputs": [
    {
     "name": "stdout",
     "output_type": "stream",
     "text": [
      "enter the number:2000\n",
      "it is a leap year\n"
     ]
    }
   ],
   "source": [
    "year=int(input(\"enter the number:\"))\n",
    "def leap_year(year):    #creating the function-->def function_name(parameter):\n",
    "    if (year%4==0) and (year%100 != 0):\n",
    "        print(\"it is a leap year\")\n",
    "    elif (year%400==0) and (year % 100==0):\n",
    "        print(\"it is a leap year\")\n",
    "    else:\n",
    "        print(\"not a leap year\")\n",
    "leap_year(year)    #calling the function-->function_name(parameter)"
   ]
  },
  {
   "cell_type": "raw",
   "id": "eb9c0f9b",
   "metadata": {},
   "source": [
    "3. Write a Function to take an array and return another array that contains the members of first\n",
    "array that are even.\n"
   ]
  },
  {
   "cell_type": "code",
   "execution_count": 6,
   "id": "7031e8eb",
   "metadata": {},
   "outputs": [],
   "source": [
    "def geteven_no(a):\n",
    "    b=[]\n",
    "    for i in a:\n",
    "        if i%2==0:\n",
    "            b.append(i)\n",
    "    return b\n",
    "        "
   ]
  },
  {
   "cell_type": "code",
   "execution_count": 7,
   "id": "e94706e0",
   "metadata": {},
   "outputs": [
    {
     "data": {
      "text/plain": [
       "[2, 4, 6, 8]"
      ]
     },
     "execution_count": 7,
     "metadata": {},
     "output_type": "execute_result"
    }
   ],
   "source": [
    "a=[1,2,3,4,5,6,7,8]\n",
    "geteven_no(a)"
   ]
  },
  {
   "cell_type": "raw",
   "id": "aacb9ceb",
   "metadata": {},
   "source": [
    "4. Write a Function that takes 2 arrays and prints the members of first array that are present of\n",
    "second array. (HINT: use Membership Comprehension)"
   ]
  },
  {
   "cell_type": "code",
   "execution_count": 8,
   "id": "0b259924",
   "metadata": {},
   "outputs": [],
   "source": [
    "x=[2,5,4,7,9]\n",
    "y=[4,9,0,1,3]"
   ]
  },
  {
   "cell_type": "code",
   "execution_count": 9,
   "id": "8163facd",
   "metadata": {},
   "outputs": [],
   "source": [
    "def arr(x,y):\n",
    "    for i in x:\n",
    "        if i in y:\n",
    "            print(i)"
   ]
  },
  {
   "cell_type": "code",
   "execution_count": 10,
   "id": "b589cb67",
   "metadata": {},
   "outputs": [
    {
     "name": "stdout",
     "output_type": "stream",
     "text": [
      "4\n",
      "9\n"
     ]
    }
   ],
   "source": [
    "arr(x,y)"
   ]
  },
  {
   "cell_type": "code",
   "execution_count": 11,
   "id": "bf4ef73a",
   "metadata": {},
   "outputs": [],
   "source": [
    "def arr(x,y):\n",
    "    common_values=[i for i in x if i in y]\n",
    "    print(common_values)"
   ]
  },
  {
   "cell_type": "code",
   "execution_count": 12,
   "id": "f0ef993d",
   "metadata": {},
   "outputs": [
    {
     "name": "stdout",
     "output_type": "stream",
     "text": [
      "[4, 9]\n"
     ]
    }
   ],
   "source": [
    "arr(x,y)"
   ]
  },
  {
   "cell_type": "code",
   "execution_count": 13,
   "id": "7349e09c",
   "metadata": {},
   "outputs": [],
   "source": [
    "x=[1,2,3,4,5]\n",
    "y=[4,5,6,7,8]\n"
   ]
  },
  {
   "cell_type": "code",
   "execution_count": 14,
   "id": "5bc77244",
   "metadata": {},
   "outputs": [
    {
     "name": "stdout",
     "output_type": "stream",
     "text": [
      "4\n",
      "5\n"
     ]
    }
   ],
   "source": [
    "def arr(x,y):\n",
    "    for i in x:\n",
    "        if i in y:\n",
    "            print(i)\n",
    "arr(x,y)\n"
   ]
  },
  {
   "cell_type": "markdown",
   "id": "0db4efb7",
   "metadata": {},
   "source": [
    "# Casestudy2"
   ]
  },
  {
   "cell_type": "raw",
   "id": "0edf000f",
   "metadata": {},
   "source": [
    "1. Create 1st tuple with values -> (10,20,30), 2nd tuple with values -> (40,50,60).\n",
    "a. Concatenate the two tuples and store it in “t_combine”\n",
    "b. Repeat the elements of “t_combine” 3 times\n",
    "c. Access the 3rd element from “t_combine”\n",
    "d. Access the first three elements from “t_combine”\n",
    "e. Access the last three elements from “t_combine”"
   ]
  },
  {
   "cell_type": "code",
   "execution_count": 15,
   "id": "9d5b7c97",
   "metadata": {},
   "outputs": [],
   "source": [
    "t1=(10,20,30)\n",
    "t2=(40,50,60)"
   ]
  },
  {
   "cell_type": "code",
   "execution_count": 16,
   "id": "d19ca71f",
   "metadata": {},
   "outputs": [
    {
     "name": "stdout",
     "output_type": "stream",
     "text": [
      "(10, 20, 30, 40, 50, 60)\n"
     ]
    }
   ],
   "source": [
    "t_combine=t1+t2\n",
    "print(t_combine)"
   ]
  },
  {
   "cell_type": "code",
   "execution_count": 17,
   "id": "69f798d6",
   "metadata": {},
   "outputs": [
    {
     "data": {
      "text/plain": [
       "(10, 20, 30, 40, 50, 60, 10, 20, 30, 40, 50, 60, 10, 20, 30, 40, 50, 60)"
      ]
     },
     "execution_count": 17,
     "metadata": {},
     "output_type": "execute_result"
    }
   ],
   "source": [
    "t_combine*3"
   ]
  },
  {
   "cell_type": "code",
   "execution_count": 18,
   "id": "b37c9a97",
   "metadata": {},
   "outputs": [
    {
     "data": {
      "text/plain": [
       "30"
      ]
     },
     "execution_count": 18,
     "metadata": {},
     "output_type": "execute_result"
    }
   ],
   "source": [
    "t_combine[2]"
   ]
  },
  {
   "cell_type": "code",
   "execution_count": 19,
   "id": "bbc6ba55",
   "metadata": {},
   "outputs": [
    {
     "data": {
      "text/plain": [
       "(10, 20, 30)"
      ]
     },
     "execution_count": 19,
     "metadata": {},
     "output_type": "execute_result"
    }
   ],
   "source": [
    "t_combine[:3]"
   ]
  },
  {
   "cell_type": "code",
   "execution_count": 20,
   "id": "a316df6a",
   "metadata": {},
   "outputs": [
    {
     "data": {
      "text/plain": [
       "(40, 50, 60)"
      ]
     },
     "execution_count": 20,
     "metadata": {},
     "output_type": "execute_result"
    }
   ],
   "source": [
    "t_combine[-3:]"
   ]
  },
  {
   "cell_type": "raw",
   "id": "8b332ac5",
   "metadata": {},
   "source": [
    "2. Create a list ‘my_list’ with these elements:\n",
    "a. First element is a tuple with values 1,2,3\n",
    "b. Second element is a tuple with values “a”,”b”,”c”\n",
    "c. Third element is a tuple with values True,False "
   ]
  },
  {
   "cell_type": "code",
   "execution_count": 21,
   "id": "bbc94b0b",
   "metadata": {},
   "outputs": [],
   "source": [
    "my_list=[(1,2,3),(\"a\",\"b\",\"c\"),(True,False)]"
   ]
  },
  {
   "cell_type": "code",
   "execution_count": 22,
   "id": "a5fbee14",
   "metadata": {},
   "outputs": [
    {
     "data": {
      "text/plain": [
       "[(1, 2, 3), ('a', 'b', 'c'), (True, False)]"
      ]
     },
     "execution_count": 22,
     "metadata": {},
     "output_type": "execute_result"
    }
   ],
   "source": [
    "my_list"
   ]
  },
  {
   "cell_type": "code",
   "execution_count": 23,
   "id": "7810549e",
   "metadata": {},
   "outputs": [
    {
     "data": {
      "text/plain": [
       "list"
      ]
     },
     "execution_count": 23,
     "metadata": {},
     "output_type": "execute_result"
    }
   ],
   "source": [
    "type(my_list)"
   ]
  },
  {
   "cell_type": "raw",
   "id": "084f2235",
   "metadata": {},
   "source": [
    "3. Append a new tuple – (1,’a’,True) to ‘my_list’\n",
    "a. Append a new list – *“sparta”,123+ to my_list"
   ]
  },
  {
   "cell_type": "code",
   "execution_count": 24,
   "id": "c7c485d4",
   "metadata": {},
   "outputs": [],
   "source": [
    "tup1=(1,\"a\",True)"
   ]
  },
  {
   "cell_type": "code",
   "execution_count": 25,
   "id": "6cee8a1d",
   "metadata": {},
   "outputs": [
    {
     "data": {
      "text/plain": [
       "(1, 'a', True)"
      ]
     },
     "execution_count": 25,
     "metadata": {},
     "output_type": "execute_result"
    }
   ],
   "source": [
    "tup1"
   ]
  },
  {
   "cell_type": "code",
   "execution_count": 26,
   "id": "5d87ca51",
   "metadata": {},
   "outputs": [
    {
     "data": {
      "text/plain": [
       "tuple"
      ]
     },
     "execution_count": 26,
     "metadata": {},
     "output_type": "execute_result"
    }
   ],
   "source": [
    "type(tup1)"
   ]
  },
  {
   "cell_type": "code",
   "execution_count": 27,
   "id": "070dbb9c",
   "metadata": {},
   "outputs": [],
   "source": [
    "my_list.append(tup1)"
   ]
  },
  {
   "cell_type": "code",
   "execution_count": 28,
   "id": "a3ba88c3",
   "metadata": {},
   "outputs": [
    {
     "data": {
      "text/plain": [
       "[(1, 2, 3), ('a', 'b', 'c'), (True, False), (1, 'a', True)]"
      ]
     },
     "execution_count": 28,
     "metadata": {},
     "output_type": "execute_result"
    }
   ],
   "source": [
    "my_list"
   ]
  },
  {
   "cell_type": "code",
   "execution_count": 29,
   "id": "d813768e",
   "metadata": {},
   "outputs": [],
   "source": [
    "l1=['sparta',123]"
   ]
  },
  {
   "cell_type": "code",
   "execution_count": 30,
   "id": "fced547e",
   "metadata": {},
   "outputs": [],
   "source": [
    "my_list.append(l1)"
   ]
  },
  {
   "cell_type": "code",
   "execution_count": 31,
   "id": "91e9e720",
   "metadata": {},
   "outputs": [
    {
     "data": {
      "text/plain": [
       "[(1, 2, 3), ('a', 'b', 'c'), (True, False), (1, 'a', True), ['sparta', 123]]"
      ]
     },
     "execution_count": 31,
     "metadata": {},
     "output_type": "execute_result"
    }
   ],
   "source": [
    "my_list"
   ]
  },
  {
   "cell_type": "raw",
   "id": "ebac112f",
   "metadata": {},
   "source": [
    "4. Create a dictionary ‘fruit’ where:\n",
    "a. The first key is ‘Fruit’ and the values are (“Apple”,”Banana”,”Mango”,”Guava”)\n",
    "b. The second key is ‘Cost’ and the values are (85,54,120,70)\n",
    "c. Extract all the keys from ‘fruit’\n",
    "d. Extract all the values from ‘fruit’"
   ]
  },
  {
   "cell_type": "code",
   "execution_count": 32,
   "id": "54e235ef",
   "metadata": {},
   "outputs": [
    {
     "ename": "NameError",
     "evalue": "name 'fruit' is not defined",
     "output_type": "error",
     "traceback": [
      "\u001b[1;31m---------------------------------------------------------------------------\u001b[0m",
      "\u001b[1;31mNameError\u001b[0m                                 Traceback (most recent call last)",
      "\u001b[1;32m<ipython-input-32-1ae509d1db60>\u001b[0m in \u001b[0;36m<module>\u001b[1;34m\u001b[0m\n\u001b[1;32m----> 1\u001b[1;33m \u001b[0mfruit\u001b[0m\u001b[1;33m.\u001b[0m\u001b[0mkeys\u001b[0m\u001b[1;33m(\u001b[0m\u001b[1;33m)\u001b[0m\u001b[1;33m\u001b[0m\u001b[1;33m\u001b[0m\u001b[0m\n\u001b[0m\u001b[0;32m      2\u001b[0m \u001b[0mfruit\u001b[0m\u001b[1;33m.\u001b[0m\u001b[0mvalues\u001b[0m\u001b[1;33m(\u001b[0m\u001b[1;33m)\u001b[0m\u001b[1;33m\u001b[0m\u001b[1;33m\u001b[0m\u001b[0m\n",
      "\u001b[1;31mNameError\u001b[0m: name 'fruit' is not defined"
     ]
    }
   ],
   "source": [
    "fruit.keys()\n",
    "fruit.values()"
   ]
  },
  {
   "cell_type": "raw",
   "id": "2c442868",
   "metadata": {},
   "source": [
    "5. Crete a set named ‘my_set’ with values (1,1,”a”,”a”,True,True) and print the result"
   ]
  },
  {
   "cell_type": "code",
   "execution_count": null,
   "id": "925c60df",
   "metadata": {},
   "outputs": [],
   "source": [
    "True-1\n",
    "False-0"
   ]
  }
 ],
 "metadata": {
  "kernelspec": {
   "display_name": "Python 3",
   "language": "python",
   "name": "python3"
  },
  "language_info": {
   "codemirror_mode": {
    "name": "ipython",
    "version": 3
   },
   "file_extension": ".py",
   "mimetype": "text/x-python",
   "name": "python",
   "nbconvert_exporter": "python",
   "pygments_lexer": "ipython3",
   "version": "3.8.8"
  }
 },
 "nbformat": 4,
 "nbformat_minor": 5
}

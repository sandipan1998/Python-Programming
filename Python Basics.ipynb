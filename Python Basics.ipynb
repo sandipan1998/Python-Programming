{
 "cells": [
  {
   "cell_type": "markdown",
   "id": "a0c1b387",
   "metadata": {},
   "source": [
    "# Python Basics"
   ]
  },
  {
   "cell_type": "markdown",
   "id": "6783f22f",
   "metadata": {},
   "source": [
    "## Introduction"
   ]
  },
  {
   "cell_type": "markdown",
   "id": "08c7c83d",
   "metadata": {},
   "source": [
    "-> Introduced by Guido Van Russom in 1991\n",
    "\n",
    "-> Python is general purpose high level programming language which supports both OOPs and POPs\n",
    "\n",
    "-> OOPs -> Object oriented programming-> based on classes and objects\n",
    "\n",
    "-> POPs -> Procedural oriented programming-> based on functions, structured oriented\n",
    "\n",
    "-> Syntax: is grammar for any programming language or it is a format that has to be followed while writing a code\n",
    "\n",
    "-> Keywords -> are certain words which have a predefined meaning in Python\n",
    " \n",
    " Eg: def, import, True, False, if, class, for , while\n",
    " \n",
    "-> Inbuilt functions -> the block of code which has a predefined task to perform\n",
    "\n",
    " Eg: print(), len(), type(), range()\n",
    " \n",
    "-> Case sensitivity -> uppercase letters and lowercase letters are treated as two different entities "
   ]
  },
  {
   "cell_type": "code",
   "execution_count": 16,
   "id": "3b258bbb",
   "metadata": {},
   "outputs": [
    {
     "name": "stdout",
     "output_type": "stream",
     "text": [
      "10\n"
     ]
    }
   ],
   "source": [
    "a=10\n",
    "print(a)"
   ]
  },
  {
   "cell_type": "code",
   "execution_count": 51,
   "id": "c872c617",
   "metadata": {},
   "outputs": [
    {
     "ename": "NameError",
     "evalue": "name 'Print' is not defined",
     "output_type": "error",
     "traceback": [
      "\u001b[1;31m---------------------------------------------------------------------------\u001b[0m",
      "\u001b[1;31mNameError\u001b[0m                                 Traceback (most recent call last)",
      "\u001b[1;32m<ipython-input-51-d23aef47b801>\u001b[0m in \u001b[0;36m<module>\u001b[1;34m\u001b[0m\n\u001b[1;32m----> 1\u001b[1;33m \u001b[0mPrint\u001b[0m\u001b[1;33m(\u001b[0m\u001b[0ma\u001b[0m\u001b[1;33m)\u001b[0m\u001b[1;33m\u001b[0m\u001b[1;33m\u001b[0m\u001b[0m\n\u001b[0m",
      "\u001b[1;31mNameError\u001b[0m: name 'Print' is not defined"
     ]
    }
   ],
   "source": [
    "Print(a)"
   ]
  },
  {
   "cell_type": "markdown",
   "id": "afd8d3fe",
   "metadata": {},
   "source": [
    "## Variables"
   ]
  },
  {
   "cell_type": "markdown",
   "id": "ad516e36",
   "metadata": {},
   "source": [
    "-> a storage container which holds some data\n",
    "\n",
    "-> a memory location which will be assigned with some value or information\n",
    "\n",
    "-> = -> assignment operator, to assign values to the variables\n",
    "\n",
    "-> Literal:the value or information that will be assigned to the variable\n"
   ]
  },
  {
   "cell_type": "code",
   "execution_count": 52,
   "id": "9762b2bf",
   "metadata": {},
   "outputs": [],
   "source": [
    "# Syntax: \n",
    "# variablename=value or information"
   ]
  },
  {
   "cell_type": "code",
   "execution_count": 53,
   "id": "409f295b",
   "metadata": {},
   "outputs": [],
   "source": [
    "b=100\n",
    "# b->variable  \n",
    "# =-> assignment operator\n",
    "# 100-> literal "
   ]
  },
  {
   "cell_type": "code",
   "execution_count": 54,
   "id": "0f2d3a8d",
   "metadata": {},
   "outputs": [],
   "source": [
    "b=150"
   ]
  },
  {
   "cell_type": "code",
   "execution_count": 55,
   "id": "0a1f5945",
   "metadata": {},
   "outputs": [],
   "source": [
    "# print()-> inbuilt function which is used to display the value or output"
   ]
  },
  {
   "cell_type": "code",
   "execution_count": 56,
   "id": "7f5ac1ae",
   "metadata": {},
   "outputs": [
    {
     "name": "stdout",
     "output_type": "stream",
     "text": [
      "150\n"
     ]
    }
   ],
   "source": [
    "print(b)"
   ]
  },
  {
   "cell_type": "code",
   "execution_count": 57,
   "id": "67f399dc",
   "metadata": {
    "scrolled": true
   },
   "outputs": [
    {
     "name": "stdout",
     "output_type": "stream",
     "text": [
      "20\n"
     ]
    }
   ],
   "source": [
    "print(a)"
   ]
  },
  {
   "cell_type": "code",
   "execution_count": 58,
   "id": "5e61fb5e",
   "metadata": {
    "scrolled": true
   },
   "outputs": [
    {
     "name": "stdout",
     "output_type": "stream",
     "text": [
      "shreya\n"
     ]
    }
   ],
   "source": [
    "c='shreya'\n",
    "print(c)"
   ]
  },
  {
   "cell_type": "code",
   "execution_count": 59,
   "id": "28996df3",
   "metadata": {},
   "outputs": [
    {
     "name": "stdout",
     "output_type": "stream",
     "text": [
      "Samuel\n"
     ]
    }
   ],
   "source": [
    "d=\"Samuel\"\n",
    "print(d)"
   ]
  },
  {
   "cell_type": "code",
   "execution_count": 60,
   "id": "081b50eb",
   "metadata": {},
   "outputs": [
    {
     "name": "stdout",
     "output_type": "stream",
     "text": [
      "123\n"
     ]
    }
   ],
   "source": [
    "e='123'\n",
    "print(e)"
   ]
  },
  {
   "cell_type": "code",
   "execution_count": 61,
   "id": "c0d55580",
   "metadata": {},
   "outputs": [],
   "source": [
    "#type()-> determine the type of value stored inside a variable"
   ]
  },
  {
   "cell_type": "code",
   "execution_count": 62,
   "id": "05029b0a",
   "metadata": {},
   "outputs": [
    {
     "data": {
      "text/plain": [
       "int"
      ]
     },
     "execution_count": 62,
     "metadata": {},
     "output_type": "execute_result"
    }
   ],
   "source": [
    "type(b)"
   ]
  },
  {
   "cell_type": "code",
   "execution_count": 63,
   "id": "bade3e6d",
   "metadata": {},
   "outputs": [
    {
     "data": {
      "text/plain": [
       "str"
      ]
     },
     "execution_count": 63,
     "metadata": {},
     "output_type": "execute_result"
    }
   ],
   "source": [
    "type(c)"
   ]
  },
  {
   "cell_type": "code",
   "execution_count": 64,
   "id": "82864654",
   "metadata": {},
   "outputs": [
    {
     "data": {
      "text/plain": [
       "str"
      ]
     },
     "execution_count": 64,
     "metadata": {},
     "output_type": "execute_result"
    }
   ],
   "source": [
    "type(e)"
   ]
  },
  {
   "cell_type": "code",
   "execution_count": 65,
   "id": "6deb1ba7",
   "metadata": {},
   "outputs": [],
   "source": [
    "# Rules to be followed while naming a variable\n",
    "# 1. Keywords and inbuilt function names cannot be used as variable names\n",
    "# 2. Variable name can start with a letter or underscore(_) but never with a number\n",
    "# 3. No special symbols or characters except underscore will be allowed in variable names"
   ]
  },
  {
   "cell_type": "code",
   "execution_count": 66,
   "id": "ae523a2b",
   "metadata": {},
   "outputs": [
    {
     "ename": "SyntaxError",
     "evalue": "invalid syntax (<ipython-input-66-0e78859b7116>, line 1)",
     "output_type": "error",
     "traceback": [
      "\u001b[1;36m  File \u001b[1;32m\"<ipython-input-66-0e78859b7116>\"\u001b[1;36m, line \u001b[1;32m1\u001b[0m\n\u001b[1;33m    def=123\u001b[0m\n\u001b[1;37m       ^\u001b[0m\n\u001b[1;31mSyntaxError\u001b[0m\u001b[1;31m:\u001b[0m invalid syntax\n"
     ]
    }
   ],
   "source": [
    "def=123"
   ]
  },
  {
   "cell_type": "code",
   "execution_count": 67,
   "id": "0d2e111c",
   "metadata": {},
   "outputs": [
    {
     "name": "stdout",
     "output_type": "stream",
     "text": [
      "234\n"
     ]
    }
   ],
   "source": [
    "type=234\n",
    "print(type)"
   ]
  },
  {
   "cell_type": "code",
   "execution_count": 68,
   "id": "c4d81460",
   "metadata": {},
   "outputs": [
    {
     "ename": "TypeError",
     "evalue": "'int' object is not callable",
     "output_type": "error",
     "traceback": [
      "\u001b[1;31m---------------------------------------------------------------------------\u001b[0m",
      "\u001b[1;31mTypeError\u001b[0m                                 Traceback (most recent call last)",
      "\u001b[1;32m<ipython-input-68-6fac7a639ca6>\u001b[0m in \u001b[0;36m<module>\u001b[1;34m\u001b[0m\n\u001b[1;32m----> 1\u001b[1;33m \u001b[0mtype\u001b[0m\u001b[1;33m(\u001b[0m\u001b[0mb\u001b[0m\u001b[1;33m)\u001b[0m\u001b[1;33m\u001b[0m\u001b[1;33m\u001b[0m\u001b[0m\n\u001b[0m",
      "\u001b[1;31mTypeError\u001b[0m: 'int' object is not callable"
     ]
    }
   ],
   "source": [
    "type(b)"
   ]
  },
  {
   "cell_type": "code",
   "execution_count": 69,
   "id": "9d9595e6",
   "metadata": {},
   "outputs": [],
   "source": [
    "var=435"
   ]
  },
  {
   "cell_type": "code",
   "execution_count": 70,
   "id": "0675567a",
   "metadata": {},
   "outputs": [],
   "source": [
    "_var=324676"
   ]
  },
  {
   "cell_type": "code",
   "execution_count": 71,
   "id": "aa568535",
   "metadata": {},
   "outputs": [
    {
     "ename": "SyntaxError",
     "evalue": "invalid syntax (<ipython-input-71-94ed079f8b30>, line 1)",
     "output_type": "error",
     "traceback": [
      "\u001b[1;36m  File \u001b[1;32m\"<ipython-input-71-94ed079f8b30>\"\u001b[1;36m, line \u001b[1;32m1\u001b[0m\n\u001b[1;33m    2var=3768\u001b[0m\n\u001b[1;37m     ^\u001b[0m\n\u001b[1;31mSyntaxError\u001b[0m\u001b[1;31m:\u001b[0m invalid syntax\n"
     ]
    }
   ],
   "source": [
    "2var=3768"
   ]
  },
  {
   "cell_type": "code",
   "execution_count": 72,
   "id": "f3138b55",
   "metadata": {},
   "outputs": [],
   "source": [
    "var1='Akash'"
   ]
  },
  {
   "cell_type": "code",
   "execution_count": 73,
   "id": "39cb392a",
   "metadata": {},
   "outputs": [],
   "source": [
    "var_2='Amit'"
   ]
  },
  {
   "cell_type": "code",
   "execution_count": 74,
   "id": "1215871a",
   "metadata": {},
   "outputs": [
    {
     "ename": "SyntaxError",
     "evalue": "invalid syntax (<ipython-input-74-1d9e22521d80>, line 1)",
     "output_type": "error",
     "traceback": [
      "\u001b[1;36m  File \u001b[1;32m\"<ipython-input-74-1d9e22521d80>\"\u001b[1;36m, line \u001b[1;32m1\u001b[0m\n\u001b[1;33m    var$1='adv'\u001b[0m\n\u001b[1;37m       ^\u001b[0m\n\u001b[1;31mSyntaxError\u001b[0m\u001b[1;31m:\u001b[0m invalid syntax\n"
     ]
    }
   ],
   "source": [
    "var$1='adv'"
   ]
  },
  {
   "cell_type": "code",
   "execution_count": 75,
   "id": "45dd5ec2",
   "metadata": {},
   "outputs": [
    {
     "data": {
      "text/plain": [
       "True"
      ]
     },
     "execution_count": 75,
     "metadata": {},
     "output_type": "execute_result"
    }
   ],
   "source": [
    "var!=5468"
   ]
  },
  {
   "cell_type": "code",
   "execution_count": 76,
   "id": "3310f485",
   "metadata": {},
   "outputs": [],
   "source": [
    "# Assigning values to the variables\n",
    "# Static way-> information or value is assigned manually while typing the program\n",
    "# Dynamic way(user-defined)-> information or value will be assigned during the run time of program\n",
    "# input()-> an inbuilt function that fetches input from the user\n",
    "# Syntax: varname=input()"
   ]
  },
  {
   "cell_type": "code",
   "execution_count": 77,
   "id": "9a5a865f",
   "metadata": {},
   "outputs": [
    {
     "name": "stdout",
     "output_type": "stream",
     "text": [
      "Enter a number18\n"
     ]
    }
   ],
   "source": [
    "v1=input('Enter a number')"
   ]
  },
  {
   "cell_type": "code",
   "execution_count": 78,
   "id": "76bb417f",
   "metadata": {
    "scrolled": true
   },
   "outputs": [
    {
     "data": {
      "text/plain": [
       "'18'"
      ]
     },
     "execution_count": 78,
     "metadata": {},
     "output_type": "execute_result"
    }
   ],
   "source": [
    "v1"
   ]
  },
  {
   "cell_type": "code",
   "execution_count": 86,
   "id": "9dfa364b",
   "metadata": {},
   "outputs": [
    {
     "ename": "TypeError",
     "evalue": "'int' object is not callable",
     "output_type": "error",
     "traceback": [
      "\u001b[1;31m---------------------------------------------------------------------------\u001b[0m",
      "\u001b[1;31mTypeError\u001b[0m                                 Traceback (most recent call last)",
      "\u001b[1;32m<ipython-input-86-669fbf51db32>\u001b[0m in \u001b[0;36m<module>\u001b[1;34m\u001b[0m\n\u001b[0;32m      1\u001b[0m \u001b[0mv1\u001b[0m\u001b[1;33m=\u001b[0m\u001b[1;34m'18'\u001b[0m\u001b[1;33m\u001b[0m\u001b[1;33m\u001b[0m\u001b[0m\n\u001b[1;32m----> 2\u001b[1;33m \u001b[0mtype\u001b[0m\u001b[1;33m(\u001b[0m\u001b[0mv1\u001b[0m\u001b[1;33m)\u001b[0m\u001b[1;33m\u001b[0m\u001b[1;33m\u001b[0m\u001b[0m\n\u001b[0m",
      "\u001b[1;31mTypeError\u001b[0m: 'int' object is not callable"
     ]
    }
   ],
   "source": [
    "v1='18'\n",
    "type(v1)"
   ]
  },
  {
   "cell_type": "code",
   "execution_count": 87,
   "id": "cbe8da69",
   "metadata": {},
   "outputs": [],
   "source": [
    "v1='sudip'"
   ]
  },
  {
   "cell_type": "code",
   "execution_count": 88,
   "id": "953da3d7",
   "metadata": {},
   "outputs": [
    {
     "data": {
      "text/plain": [
       "'sudip'"
      ]
     },
     "execution_count": 88,
     "metadata": {},
     "output_type": "execute_result"
    }
   ],
   "source": [
    "v1"
   ]
  },
  {
   "cell_type": "code",
   "execution_count": 89,
   "id": "4942ddd3",
   "metadata": {},
   "outputs": [],
   "source": [
    "#Type Casting-> the process of changing one data type to another\n",
    "# str->int \n",
    "#  Syntax: varname=int(input())\n",
    "# str->float\n",
    "#  Syntax: varname=float(input())"
   ]
  },
  {
   "cell_type": "code",
   "execution_count": 92,
   "id": "eefa3eb6",
   "metadata": {},
   "outputs": [
    {
     "name": "stdout",
     "output_type": "stream",
     "text": [
      "Enter a number76\n"
     ]
    }
   ],
   "source": [
    "v2=int(input('Enter a number'))"
   ]
  },
  {
   "cell_type": "code",
   "execution_count": 93,
   "id": "a5b9b5e8",
   "metadata": {},
   "outputs": [
    {
     "data": {
      "text/plain": [
       "76"
      ]
     },
     "execution_count": 93,
     "metadata": {},
     "output_type": "execute_result"
    }
   ],
   "source": [
    "v2"
   ]
  },
  {
   "cell_type": "code",
   "execution_count": 94,
   "id": "d6a5f1a6",
   "metadata": {},
   "outputs": [
    {
     "ename": "TypeError",
     "evalue": "'int' object is not callable",
     "output_type": "error",
     "traceback": [
      "\u001b[1;31m---------------------------------------------------------------------------\u001b[0m",
      "\u001b[1;31mTypeError\u001b[0m                                 Traceback (most recent call last)",
      "\u001b[1;32m<ipython-input-94-014abb4b74ed>\u001b[0m in \u001b[0;36m<module>\u001b[1;34m\u001b[0m\n\u001b[1;32m----> 1\u001b[1;33m \u001b[0mtype\u001b[0m\u001b[1;33m(\u001b[0m\u001b[0mv2\u001b[0m\u001b[1;33m)\u001b[0m\u001b[1;33m\u001b[0m\u001b[1;33m\u001b[0m\u001b[0m\n\u001b[0m",
      "\u001b[1;31mTypeError\u001b[0m: 'int' object is not callable"
     ]
    }
   ],
   "source": [
    "type(v2)"
   ]
  },
  {
   "cell_type": "code",
   "execution_count": 95,
   "id": "975c0be2",
   "metadata": {},
   "outputs": [
    {
     "name": "stdout",
     "output_type": "stream",
     "text": [
      "ENter a number1.6\n"
     ]
    }
   ],
   "source": [
    "v3=float(input('ENter a number'))"
   ]
  },
  {
   "cell_type": "code",
   "execution_count": 96,
   "id": "2cb54d18",
   "metadata": {},
   "outputs": [
    {
     "data": {
      "text/plain": [
       "1.6"
      ]
     },
     "execution_count": 96,
     "metadata": {},
     "output_type": "execute_result"
    }
   ],
   "source": [
    "v3"
   ]
  },
  {
   "cell_type": "code",
   "execution_count": 99,
   "id": "bda3988d",
   "metadata": {},
   "outputs": [
    {
     "name": "stdout",
     "output_type": "stream",
     "text": [
      "enter a value0\n"
     ]
    }
   ],
   "source": [
    "v4=bool(input('enter a value'))"
   ]
  },
  {
   "cell_type": "code",
   "execution_count": 100,
   "id": "77e5fcfb",
   "metadata": {},
   "outputs": [
    {
     "data": {
      "text/plain": [
       "True"
      ]
     },
     "execution_count": 100,
     "metadata": {},
     "output_type": "execute_result"
    }
   ],
   "source": [
    "v4"
   ]
  },
  {
   "cell_type": "markdown",
   "id": "e72b23ba",
   "metadata": {},
   "source": [
    "## Operators"
   ]
  },
  {
   "cell_type": "markdown",
   "id": "cd084bee",
   "metadata": {},
   "source": [
    "-> tools or symbols that are used to perform a specific operation\n",
    "\n",
    "Arithmetic operators-> +,-,*,/,%,**\n",
    "\n",
    "Assignment operator-> =,+=,-=,*=,/=\n",
    "\n",
    "Comparision operators->==,>,<,!=,>=,<=\n",
    "\n",
    "Logical operators-> and, or , not\n",
    "\n",
    "Bitwise operators-> &,|,^,~,<<,>>\n",
    "\n",
    "Identity operators-> is, is not\n",
    "\n",
    "Membership opeartors-> in ,not in"
   ]
  },
  {
   "cell_type": "code",
   "execution_count": 101,
   "id": "69d5d88a",
   "metadata": {},
   "outputs": [],
   "source": [
    "# Arithmetic operators-> +,-, *,/, %, **"
   ]
  },
  {
   "cell_type": "code",
   "execution_count": 102,
   "id": "75f6c0d3",
   "metadata": {
    "scrolled": true
   },
   "outputs": [
    {
     "name": "stdout",
     "output_type": "stream",
     "text": [
      "300\n",
      "-100\n",
      "20000\n",
      "0.5\n",
      "0\n",
      "100\n",
      "10000\n"
     ]
    }
   ],
   "source": [
    "x=100\n",
    "y=200\n",
    "print(x+y)\n",
    "print(x-y)\n",
    "print(x*y)\n",
    "print(x/y)\n",
    "print(x//y)\n",
    "print(x%y) # returns the remainder of division operation\n",
    "print(x**2) # returns the first raised  to the power of second"
   ]
  },
  {
   "cell_type": "code",
   "execution_count": 103,
   "id": "43d7e55c",
   "metadata": {},
   "outputs": [
    {
     "data": {
      "text/plain": [
       "65"
      ]
     },
     "execution_count": 103,
     "metadata": {},
     "output_type": "execute_result"
    }
   ],
   "source": [
    "# Assignment operator-> =, +=,-=, *=, /=\n",
    "a=20\n",
    "b=45\n",
    "c=a+b\n",
    "c"
   ]
  },
  {
   "cell_type": "code",
   "execution_count": 104,
   "id": "f93b289f",
   "metadata": {},
   "outputs": [
    {
     "data": {
      "text/plain": [
       "65"
      ]
     },
     "execution_count": 104,
     "metadata": {},
     "output_type": "execute_result"
    }
   ],
   "source": [
    "a=20\n",
    "b=45\n",
    "a+=b # a=a+b\n",
    "a"
   ]
  },
  {
   "cell_type": "code",
   "execution_count": 105,
   "id": "91680700",
   "metadata": {},
   "outputs": [
    {
     "data": {
      "text/plain": [
       "-25"
      ]
     },
     "execution_count": 105,
     "metadata": {},
     "output_type": "execute_result"
    }
   ],
   "source": [
    "a=20\n",
    "b=45\n",
    "a-=b\n",
    "a"
   ]
  },
  {
   "cell_type": "code",
   "execution_count": 106,
   "id": "0c204e83",
   "metadata": {},
   "outputs": [
    {
     "data": {
      "text/plain": [
       "900"
      ]
     },
     "execution_count": 106,
     "metadata": {},
     "output_type": "execute_result"
    }
   ],
   "source": [
    "a=20\n",
    "b=45\n",
    "a*=b\n",
    "a"
   ]
  },
  {
   "cell_type": "code",
   "execution_count": 107,
   "id": "226a44f3",
   "metadata": {},
   "outputs": [
    {
     "data": {
      "text/plain": [
       "0.4444444444444444"
      ]
     },
     "execution_count": 107,
     "metadata": {},
     "output_type": "execute_result"
    }
   ],
   "source": [
    "a=20\n",
    "b=45\n",
    "a/=b\n",
    "a"
   ]
  },
  {
   "cell_type": "code",
   "execution_count": 108,
   "id": "271a766e",
   "metadata": {},
   "outputs": [
    {
     "name": "stdout",
     "output_type": "stream",
     "text": [
      "False\n",
      "False\n",
      "True\n",
      "True\n",
      "False\n",
      "True\n"
     ]
    }
   ],
   "source": [
    "# Comparision operators -> ==, >,<,!=,>=,<=\n",
    "# Equality-> ==\n",
    "# Greater-> >\n",
    "# Lesser-> <\n",
    "# Not equal -> !=\n",
    "# Greater equal-> >=\n",
    "# Lesser equal -> <=\n",
    "a=20\n",
    "b=45\n",
    "print(a==b) # 20==45\n",
    "print(a>b)\n",
    "print(a<b)\n",
    "print(a!=b)\n",
    "print(a>=b)\n",
    "print(a<=b)"
   ]
  },
  {
   "cell_type": "code",
   "execution_count": 109,
   "id": "dbd692e1",
   "metadata": {},
   "outputs": [],
   "source": [
    "# Identity operators -> used to check if two values are on the same part of the memory\n",
    "# is -> True if the operators are identical\n",
    "# is not -> True if the operators are not identical\n",
    "\n",
    "i='shreya'\n",
    "k='shreya'"
   ]
  },
  {
   "cell_type": "code",
   "execution_count": 110,
   "id": "ff20080d",
   "metadata": {},
   "outputs": [
    {
     "data": {
      "text/plain": [
       "True"
      ]
     },
     "execution_count": 110,
     "metadata": {},
     "output_type": "execute_result"
    }
   ],
   "source": [
    "i is k"
   ]
  },
  {
   "cell_type": "code",
   "execution_count": 111,
   "id": "a3e3baec",
   "metadata": {},
   "outputs": [
    {
     "data": {
      "text/plain": [
       "True"
      ]
     },
     "execution_count": 111,
     "metadata": {},
     "output_type": "execute_result"
    }
   ],
   "source": [
    "i==k"
   ]
  },
  {
   "cell_type": "code",
   "execution_count": 112,
   "id": "745967b7",
   "metadata": {},
   "outputs": [
    {
     "data": {
      "text/plain": [
       "2562858454960"
      ]
     },
     "execution_count": 112,
     "metadata": {},
     "output_type": "execute_result"
    }
   ],
   "source": [
    "id(i)"
   ]
  },
  {
   "cell_type": "code",
   "execution_count": 113,
   "id": "3a750d3d",
   "metadata": {},
   "outputs": [
    {
     "data": {
      "text/plain": [
       "2562858454960"
      ]
     },
     "execution_count": 113,
     "metadata": {},
     "output_type": "execute_result"
    }
   ],
   "source": [
    "id(k)"
   ]
  },
  {
   "cell_type": "code",
   "execution_count": 114,
   "id": "9b1ab424",
   "metadata": {},
   "outputs": [],
   "source": [
    "k='sudip'"
   ]
  },
  {
   "cell_type": "code",
   "execution_count": 115,
   "id": "908db5e6",
   "metadata": {},
   "outputs": [
    {
     "data": {
      "text/plain": [
       "2562858295408"
      ]
     },
     "execution_count": 115,
     "metadata": {},
     "output_type": "execute_result"
    }
   ],
   "source": [
    "id(k)"
   ]
  },
  {
   "cell_type": "code",
   "execution_count": 116,
   "id": "17f0c225",
   "metadata": {},
   "outputs": [
    {
     "data": {
      "text/plain": [
       "False"
      ]
     },
     "execution_count": 116,
     "metadata": {},
     "output_type": "execute_result"
    }
   ],
   "source": [
    "i is k"
   ]
  },
  {
   "cell_type": "code",
   "execution_count": 117,
   "id": "e567e20e",
   "metadata": {},
   "outputs": [
    {
     "name": "stdout",
     "output_type": "stream",
     "text": [
      "False\n",
      "True\n"
     ]
    }
   ],
   "source": [
    "# Membership operators -> used to test whether a value or variable is in a sequence\n",
    "# in-> True if the value if found in the sequence\n",
    "# not in-> True if the value is not found in the sequence\n",
    "x=[1,2,3,4,5,6,7]\n",
    "m='adyansh'\n",
    "print(m in x)\n",
    "print(m not in x)"
   ]
  },
  {
   "cell_type": "code",
   "execution_count": 118,
   "id": "24684b7d",
   "metadata": {},
   "outputs": [
    {
     "name": "stdout",
     "output_type": "stream",
     "text": [
      "False\n",
      "True\n",
      "False\n"
     ]
    }
   ],
   "source": [
    "# Logical operators -> and, or , not\n",
    "# and-> True if both the operands are true\n",
    "# or-> True if either of the opearnds are true\n",
    "# not-> True if the operand is False\n",
    "s1= True\n",
    "s2= False\n",
    "print(s1 and s2)\n",
    "print(s1 or s2)\n",
    "print(not s1)"
   ]
  },
  {
   "cell_type": "code",
   "execution_count": 119,
   "id": "8dbb2496",
   "metadata": {},
   "outputs": [],
   "source": [
    "# Bitwise operators-> &,|,^,~,<<,>>\n",
    "# &-> bitwise and\n",
    "# |-> or\n",
    "# ^ -> exor\n",
    "# ~ -> negation\n",
    "# <<-> left shift\n",
    "# >> -> right shift"
   ]
  },
  {
   "cell_type": "code",
   "execution_count": 120,
   "id": "f149a93a",
   "metadata": {},
   "outputs": [
    {
     "name": "stdout",
     "output_type": "stream",
     "text": [
      "0\n",
      "14\n",
      "14\n",
      "-11\n",
      "2\n",
      "40\n"
     ]
    }
   ],
   "source": [
    "n1=10 # 1010\n",
    "n2=4  # 0100\n",
    "print(n1&n2)\n",
    "print(n1|n2)\n",
    "print(n1^n2)\n",
    "print(~n1)\n",
    "print(n1>>2)\n",
    "print(n1<<2)"
   ]
  },
  {
   "cell_type": "markdown",
   "id": "6cf40c8c",
   "metadata": {},
   "source": [
    "##  Datatypes"
   ]
  },
  {
   "cell_type": "markdown",
   "id": "fe3275a3",
   "metadata": {},
   "source": [
    "-> type of data the variable has been assigned with \n",
    "\n",
    "-> Two different data types\n",
    "\n",
    "-> Basic/Universal datatypes-> int, float, char/str, bool\n",
    "\n",
    "-> Collective datatypes-> strings, tuples, lists, dictionary, set"
   ]
  },
  {
   "cell_type": "code",
   "execution_count": 121,
   "id": "cebbbed6",
   "metadata": {},
   "outputs": [
    {
     "name": "stdout",
     "output_type": "stream",
     "text": [
      "1\n"
     ]
    }
   ],
   "source": [
    "a1=200\n",
    "b1=234.5\n",
    "d1='samir'\n",
    "e1=True   # 1\n",
    "e2=False  # 0\n",
    "print(e1+e2) # 1+0=1"
   ]
  },
  {
   "cell_type": "code",
   "execution_count": 1,
   "id": "7008d0f2",
   "metadata": {},
   "outputs": [
    {
     "data": {
      "text/plain": [
       "str"
      ]
     },
     "execution_count": 1,
     "metadata": {},
     "output_type": "execute_result"
    }
   ],
   "source": [
    "c1='s'\n",
    "type(c1)"
   ]
  },
  {
   "cell_type": "code",
   "execution_count": 2,
   "id": "a0bab32e",
   "metadata": {},
   "outputs": [
    {
     "data": {
      "text/plain": [
       "str"
      ]
     },
     "execution_count": 2,
     "metadata": {},
     "output_type": "execute_result"
    }
   ],
   "source": [
    "d1='samir'\n",
    "type(d1)"
   ]
  },
  {
   "cell_type": "markdown",
   "id": "9f190d25",
   "metadata": {},
   "source": [
    "Collective data types-> collection of values or information\n",
    "\n",
    "Two types:\n",
    "\n",
    "Mutable datatypes-> information or value in a collection can be altered or changed after declaration\n",
    "\n",
    "Eg: List, Dictionary, Set\n",
    "\n",
    "Immutable datatypes-> information or value in a collection cannot be altered or changed after declaration\n",
    "\n",
    "Eg: Strings, Tuples"
   ]
  },
  {
   "cell_type": "markdown",
   "id": "99a90f31",
   "metadata": {},
   "source": [
    "## Strings"
   ]
  },
  {
   "cell_type": "code",
   "execution_count": 3,
   "id": "afa1a308",
   "metadata": {},
   "outputs": [],
   "source": [
    "# collection of characters\n",
    "# Syntax: varname='value' or \"value\""
   ]
  },
  {
   "cell_type": "code",
   "execution_count": 4,
   "id": "9cc02929",
   "metadata": {},
   "outputs": [
    {
     "name": "stdout",
     "output_type": "stream",
     "text": [
      "hello shreya\n"
     ]
    }
   ],
   "source": [
    "s1='hello'\n",
    "s2=\"shreya\"\n",
    "print(s1,s2)"
   ]
  },
  {
   "cell_type": "code",
   "execution_count": 5,
   "id": "e2484839",
   "metadata": {},
   "outputs": [
    {
     "data": {
      "text/plain": [
       "str"
      ]
     },
     "execution_count": 5,
     "metadata": {},
     "output_type": "execute_result"
    }
   ],
   "source": [
    "type(s1)"
   ]
  },
  {
   "cell_type": "code",
   "execution_count": 6,
   "id": "76a86b13",
   "metadata": {},
   "outputs": [
    {
     "data": {
      "text/plain": [
       "str"
      ]
     },
     "execution_count": 6,
     "metadata": {},
     "output_type": "execute_result"
    }
   ],
   "source": [
    "type(s2)"
   ]
  },
  {
   "cell_type": "code",
   "execution_count": 7,
   "id": "4ff28a18",
   "metadata": {},
   "outputs": [],
   "source": [
    "s='INTELLIPAAT'"
   ]
  },
  {
   "cell_type": "code",
   "execution_count": 8,
   "id": "fe64ecd5",
   "metadata": {},
   "outputs": [],
   "source": [
    "# len()-> the number of elements present in a collective datatypes"
   ]
  },
  {
   "cell_type": "code",
   "execution_count": 9,
   "id": "a62e11f4",
   "metadata": {},
   "outputs": [
    {
     "data": {
      "text/plain": [
       "11"
      ]
     },
     "execution_count": 9,
     "metadata": {},
     "output_type": "execute_result"
    }
   ],
   "source": [
    "len(s)"
   ]
  },
  {
   "cell_type": "markdown",
   "id": "4c347f89",
   "metadata": {},
   "source": [
    "## Indexing and Slicing"
   ]
  },
  {
   "cell_type": "code",
   "execution_count": 10,
   "id": "e55698ba",
   "metadata": {},
   "outputs": [],
   "source": [
    "# Index-> positional value of an element inside a collection\n",
    "# Indexing-> the process of extracting or accessing an individual element from a collection\n",
    "  # Syntax: varname[index_value]\n",
    "  # Types->  Forward/Regular indexing-> starts with 0 (left to right)\n",
    "  #          Reverse/Negative indexing-> starts with -1 (right to left) \n",
    "# Slicing-> the process of extracting  or accessing multiple elements in a sequence from a collection\n",
    "  # SYntax: varname[start_index:end_index+1]"
   ]
  },
  {
   "cell_type": "code",
   "execution_count": 11,
   "id": "0c3aee96",
   "metadata": {},
   "outputs": [],
   "source": [
    "#  0   1   2   3   4   5   6   7   8   9   10 -> forward indexing\n",
    "#  I   N   T   E   L   L   I   P   A   A   T\n",
    "# -11 -10 -9  -8  -7  -6  -5  -4  -3  -2  -1 <- reverse indexing                          "
   ]
  },
  {
   "cell_type": "code",
   "execution_count": 12,
   "id": "6b7007db",
   "metadata": {},
   "outputs": [
    {
     "data": {
      "text/plain": [
       "'E'"
      ]
     },
     "execution_count": 12,
     "metadata": {},
     "output_type": "execute_result"
    }
   ],
   "source": [
    "s[3]"
   ]
  },
  {
   "cell_type": "code",
   "execution_count": 13,
   "id": "d77b16c5",
   "metadata": {},
   "outputs": [
    {
     "data": {
      "text/plain": [
       "'E'"
      ]
     },
     "execution_count": 13,
     "metadata": {},
     "output_type": "execute_result"
    }
   ],
   "source": [
    "s[-8]"
   ]
  },
  {
   "cell_type": "code",
   "execution_count": 14,
   "id": "33068b6d",
   "metadata": {},
   "outputs": [
    {
     "data": {
      "text/plain": [
       "'INTEL'"
      ]
     },
     "execution_count": 14,
     "metadata": {},
     "output_type": "execute_result"
    }
   ],
   "source": [
    "s[0:5]"
   ]
  },
  {
   "cell_type": "code",
   "execution_count": 15,
   "id": "9329c888",
   "metadata": {},
   "outputs": [
    {
     "data": {
      "text/plain": [
       "'INTEL'"
      ]
     },
     "execution_count": 15,
     "metadata": {},
     "output_type": "execute_result"
    }
   ],
   "source": [
    "s[-11:-6]"
   ]
  },
  {
   "cell_type": "code",
   "execution_count": 16,
   "id": "1631c441",
   "metadata": {},
   "outputs": [
    {
     "data": {
      "text/plain": [
       "'INTELLIPAAT'"
      ]
     },
     "execution_count": 16,
     "metadata": {},
     "output_type": "execute_result"
    }
   ],
   "source": [
    "s[0:11]"
   ]
  },
  {
   "cell_type": "code",
   "execution_count": 17,
   "id": "95b0a6a1",
   "metadata": {},
   "outputs": [
    {
     "data": {
      "text/plain": [
       "'INTEL'"
      ]
     },
     "execution_count": 17,
     "metadata": {},
     "output_type": "execute_result"
    }
   ],
   "source": [
    "s[:5]"
   ]
  },
  {
   "cell_type": "code",
   "execution_count": 18,
   "id": "8cda970f",
   "metadata": {},
   "outputs": [
    {
     "data": {
      "text/plain": [
       "'LIPAAT'"
      ]
     },
     "execution_count": 18,
     "metadata": {},
     "output_type": "execute_result"
    }
   ],
   "source": [
    "s[5:]"
   ]
  },
  {
   "cell_type": "code",
   "execution_count": 19,
   "id": "f3b6ebf0",
   "metadata": {},
   "outputs": [
    {
     "ename": "TypeError",
     "evalue": "'str' object does not support item assignment",
     "output_type": "error",
     "traceback": [
      "\u001b[1;31m---------------------------------------------------------------------------\u001b[0m",
      "\u001b[1;31mTypeError\u001b[0m                                 Traceback (most recent call last)",
      "\u001b[1;32m<ipython-input-19-09b842f79571>\u001b[0m in \u001b[0;36m<module>\u001b[1;34m\u001b[0m\n\u001b[1;32m----> 1\u001b[1;33m \u001b[0ms\u001b[0m\u001b[1;33m[\u001b[0m\u001b[1;36m3\u001b[0m\u001b[1;33m]\u001b[0m\u001b[1;33m=\u001b[0m\u001b[1;34m'A'\u001b[0m\u001b[1;33m\u001b[0m\u001b[1;33m\u001b[0m\u001b[0m\n\u001b[0m",
      "\u001b[1;31mTypeError\u001b[0m: 'str' object does not support item assignment"
     ]
    }
   ],
   "source": [
    "s[3]='A'"
   ]
  },
  {
   "cell_type": "code",
   "execution_count": 20,
   "id": "26c66f78",
   "metadata": {},
   "outputs": [],
   "source": [
    "str1='abdv123'"
   ]
  },
  {
   "cell_type": "code",
   "execution_count": 21,
   "id": "6709b1ce",
   "metadata": {},
   "outputs": [
    {
     "data": {
      "text/plain": [
       "str"
      ]
     },
     "execution_count": 21,
     "metadata": {},
     "output_type": "execute_result"
    }
   ],
   "source": [
    "type(str1)"
   ]
  },
  {
   "cell_type": "markdown",
   "id": "be519b4b",
   "metadata": {},
   "source": [
    "## Tuples"
   ]
  },
  {
   "cell_type": "code",
   "execution_count": 22,
   "id": "068dca81",
   "metadata": {},
   "outputs": [],
   "source": [
    "# set of heterogenous elements (different data types)\n",
    "# Syntax: varname=(elements)"
   ]
  },
  {
   "cell_type": "code",
   "execution_count": 23,
   "id": "43defeaa",
   "metadata": {},
   "outputs": [
    {
     "data": {
      "text/plain": [
       "(1, 2, 3, 'python', 23.4, True, False, 'diversity', (22, 33, 44), [11, 55, 66])"
      ]
     },
     "execution_count": 23,
     "metadata": {},
     "output_type": "execute_result"
    }
   ],
   "source": [
    "t1=(1,2,3,'python',23.4, True, False,'diversity',(22,33,44),[11,55,66])\n",
    "#   0 1 2   3       4     5     6       7            8\n",
    "t1"
   ]
  },
  {
   "cell_type": "code",
   "execution_count": 24,
   "id": "fcd5976f",
   "metadata": {},
   "outputs": [
    {
     "data": {
      "text/plain": [
       "tuple"
      ]
     },
     "execution_count": 24,
     "metadata": {},
     "output_type": "execute_result"
    }
   ],
   "source": [
    "type(t1)"
   ]
  },
  {
   "cell_type": "code",
   "execution_count": 25,
   "id": "b8dc7e6c",
   "metadata": {},
   "outputs": [
    {
     "data": {
      "text/plain": [
       "10"
      ]
     },
     "execution_count": 25,
     "metadata": {},
     "output_type": "execute_result"
    }
   ],
   "source": [
    "len(t1)"
   ]
  },
  {
   "cell_type": "code",
   "execution_count": 26,
   "id": "9338a98f",
   "metadata": {},
   "outputs": [
    {
     "data": {
      "text/plain": [
       "'python'"
      ]
     },
     "execution_count": 26,
     "metadata": {},
     "output_type": "execute_result"
    }
   ],
   "source": [
    "t1[3]"
   ]
  },
  {
   "cell_type": "code",
   "execution_count": 27,
   "id": "85455c9a",
   "metadata": {},
   "outputs": [
    {
     "data": {
      "text/plain": [
       "False"
      ]
     },
     "execution_count": 27,
     "metadata": {},
     "output_type": "execute_result"
    }
   ],
   "source": [
    "t1[6]"
   ]
  },
  {
   "cell_type": "code",
   "execution_count": 28,
   "id": "d9d33157",
   "metadata": {},
   "outputs": [
    {
     "data": {
      "text/plain": [
       "(2, 3, 'python', 23.4, True)"
      ]
     },
     "execution_count": 28,
     "metadata": {},
     "output_type": "execute_result"
    }
   ],
   "source": [
    "t1[1:6]"
   ]
  },
  {
   "cell_type": "code",
   "execution_count": 29,
   "id": "53794d95",
   "metadata": {},
   "outputs": [
    {
     "data": {
      "text/plain": [
       "(23.4, True, False, 'diversity')"
      ]
     },
     "execution_count": 29,
     "metadata": {},
     "output_type": "execute_result"
    }
   ],
   "source": [
    "t1[4:8]"
   ]
  },
  {
   "cell_type": "code",
   "execution_count": 30,
   "id": "9e94fe2d",
   "metadata": {},
   "outputs": [
    {
     "data": {
      "text/plain": [
       "(23.4, True, False, 'diversity', (22, 33, 44), [11, 55, 66])"
      ]
     },
     "execution_count": 30,
     "metadata": {},
     "output_type": "execute_result"
    }
   ],
   "source": [
    "t1[4:]"
   ]
  },
  {
   "cell_type": "code",
   "execution_count": 31,
   "id": "bea9409a",
   "metadata": {},
   "outputs": [
    {
     "ename": "TypeError",
     "evalue": "'tuple' object does not support item assignment",
     "output_type": "error",
     "traceback": [
      "\u001b[1;31m---------------------------------------------------------------------------\u001b[0m",
      "\u001b[1;31mTypeError\u001b[0m                                 Traceback (most recent call last)",
      "\u001b[1;32m<ipython-input-31-4045c30764c2>\u001b[0m in \u001b[0;36m<module>\u001b[1;34m\u001b[0m\n\u001b[1;32m----> 1\u001b[1;33m \u001b[0mt1\u001b[0m\u001b[1;33m[\u001b[0m\u001b[1;36m3\u001b[0m\u001b[1;33m]\u001b[0m\u001b[1;33m=\u001b[0m\u001b[1;34m'java'\u001b[0m\u001b[1;33m\u001b[0m\u001b[1;33m\u001b[0m\u001b[0m\n\u001b[0m",
      "\u001b[1;31mTypeError\u001b[0m: 'tuple' object does not support item assignment"
     ]
    }
   ],
   "source": [
    "t1[3]='java'"
   ]
  },
  {
   "cell_type": "code",
   "execution_count": 32,
   "id": "e955c180",
   "metadata": {},
   "outputs": [
    {
     "data": {
      "text/plain": [
       "'python'"
      ]
     },
     "execution_count": 32,
     "metadata": {},
     "output_type": "execute_result"
    }
   ],
   "source": [
    "t1[3]"
   ]
  },
  {
   "cell_type": "code",
   "execution_count": 33,
   "id": "2803716e",
   "metadata": {},
   "outputs": [
    {
     "data": {
      "text/plain": [
       "'t'"
      ]
     },
     "execution_count": 33,
     "metadata": {},
     "output_type": "execute_result"
    }
   ],
   "source": [
    "# Nested Indexing-> extracting an idividual element which is inside another collective data type\n",
    "t1[3][2]"
   ]
  },
  {
   "cell_type": "code",
   "execution_count": 34,
   "id": "cc5fd4e9",
   "metadata": {},
   "outputs": [
    {
     "data": {
      "text/plain": [
       "(22, 33, 44)"
      ]
     },
     "execution_count": 34,
     "metadata": {},
     "output_type": "execute_result"
    }
   ],
   "source": [
    "t1[8]"
   ]
  },
  {
   "cell_type": "code",
   "execution_count": 35,
   "id": "5643f26a",
   "metadata": {},
   "outputs": [
    {
     "data": {
      "text/plain": [
       "44"
      ]
     },
     "execution_count": 35,
     "metadata": {},
     "output_type": "execute_result"
    }
   ],
   "source": [
    "t1[8][2]"
   ]
  },
  {
   "cell_type": "code",
   "execution_count": 36,
   "id": "a2fa5c34",
   "metadata": {},
   "outputs": [
    {
     "data": {
      "text/plain": [
       "(1, 2, 3, 'python', 23.4, True, False, 'diversity', (22, 33, 44), [11, 55, 66])"
      ]
     },
     "execution_count": 36,
     "metadata": {},
     "output_type": "execute_result"
    }
   ],
   "source": [
    "t1"
   ]
  },
  {
   "cell_type": "code",
   "execution_count": 37,
   "id": "b51021d9",
   "metadata": {},
   "outputs": [
    {
     "data": {
      "text/plain": [
       "[11, 55, 66]"
      ]
     },
     "execution_count": 37,
     "metadata": {},
     "output_type": "execute_result"
    }
   ],
   "source": [
    "t1[9]"
   ]
  },
  {
   "cell_type": "code",
   "execution_count": 38,
   "id": "eed8937e",
   "metadata": {},
   "outputs": [
    {
     "data": {
      "text/plain": [
       "55"
      ]
     },
     "execution_count": 38,
     "metadata": {},
     "output_type": "execute_result"
    }
   ],
   "source": [
    "t1[9][1]"
   ]
  },
  {
   "cell_type": "code",
   "execution_count": 39,
   "id": "c6a52388",
   "metadata": {},
   "outputs": [],
   "source": [
    "t1[9][1]=77"
   ]
  },
  {
   "cell_type": "code",
   "execution_count": 40,
   "id": "32d6f219",
   "metadata": {},
   "outputs": [
    {
     "ename": "TypeError",
     "evalue": "'tuple' object does not support item assignment",
     "output_type": "error",
     "traceback": [
      "\u001b[1;31m---------------------------------------------------------------------------\u001b[0m",
      "\u001b[1;31mTypeError\u001b[0m                                 Traceback (most recent call last)",
      "\u001b[1;32m<ipython-input-40-d8876e19fc7c>\u001b[0m in \u001b[0;36m<module>\u001b[1;34m\u001b[0m\n\u001b[1;32m----> 1\u001b[1;33m \u001b[0mt1\u001b[0m\u001b[1;33m[\u001b[0m\u001b[1;36m9\u001b[0m\u001b[1;33m]\u001b[0m\u001b[1;33m=\u001b[0m\u001b[1;33m[\u001b[0m\u001b[1;36m23\u001b[0m\u001b[1;33m,\u001b[0m\u001b[1;36m24\u001b[0m\u001b[1;33m,\u001b[0m\u001b[1;36m25\u001b[0m\u001b[1;33m]\u001b[0m\u001b[1;33m\u001b[0m\u001b[1;33m\u001b[0m\u001b[0m\n\u001b[0m",
      "\u001b[1;31mTypeError\u001b[0m: 'tuple' object does not support item assignment"
     ]
    }
   ],
   "source": [
    "t1[9]=[23,24,25]"
   ]
  },
  {
   "cell_type": "code",
   "execution_count": 41,
   "id": "15e3c04a",
   "metadata": {},
   "outputs": [
    {
     "data": {
      "text/plain": [
       "(1, 2, 3, 'python', 23.4, True, False, 'diversity', (22, 33, 44), [11, 77, 66])"
      ]
     },
     "execution_count": 41,
     "metadata": {},
     "output_type": "execute_result"
    }
   ],
   "source": [
    "t1"
   ]
  },
  {
   "cell_type": "code",
   "execution_count": 42,
   "id": "7e6b526c",
   "metadata": {},
   "outputs": [
    {
     "data": {
      "text/plain": [
       "[int, int, int, str, float, bool, bool, str, tuple, list]"
      ]
     },
     "execution_count": 42,
     "metadata": {},
     "output_type": "execute_result"
    }
   ],
   "source": [
    "list(map(type,t1))"
   ]
  },
  {
   "cell_type": "markdown",
   "id": "d8352181",
   "metadata": {},
   "source": [
    "## Lists"
   ]
  },
  {
   "cell_type": "code",
   "execution_count": 43,
   "id": "b98ab6b9",
   "metadata": {},
   "outputs": [],
   "source": [
    "# set of heterogenous elements\n",
    "# SYntax: varname=[elements]"
   ]
  },
  {
   "cell_type": "code",
   "execution_count": 44,
   "id": "ab89d981",
   "metadata": {},
   "outputs": [
    {
     "data": {
      "text/plain": [
       "[1, 2, 3, 'python', 23.4, True, False, 'diversity', (22, 33, 44), [11, 55, 88]]"
      ]
     },
     "execution_count": 44,
     "metadata": {},
     "output_type": "execute_result"
    }
   ],
   "source": [
    "l1=[1,2,3,'python',23.4, True, False,'diversity',(22,33,44),[11,55,88]]\n",
    "l1"
   ]
  },
  {
   "cell_type": "code",
   "execution_count": 45,
   "id": "f902be92",
   "metadata": {},
   "outputs": [
    {
     "data": {
      "text/plain": [
       "list"
      ]
     },
     "execution_count": 45,
     "metadata": {},
     "output_type": "execute_result"
    }
   ],
   "source": [
    "type(l1)"
   ]
  },
  {
   "cell_type": "code",
   "execution_count": 46,
   "id": "ba936837",
   "metadata": {},
   "outputs": [
    {
     "data": {
      "text/plain": [
       "10"
      ]
     },
     "execution_count": 46,
     "metadata": {},
     "output_type": "execute_result"
    }
   ],
   "source": [
    "len(l1)"
   ]
  },
  {
   "cell_type": "code",
   "execution_count": 47,
   "id": "f7eed312",
   "metadata": {},
   "outputs": [
    {
     "data": {
      "text/plain": [
       "True"
      ]
     },
     "execution_count": 47,
     "metadata": {},
     "output_type": "execute_result"
    }
   ],
   "source": [
    "l1[5]"
   ]
  },
  {
   "cell_type": "code",
   "execution_count": 48,
   "id": "0fbf2ab5",
   "metadata": {},
   "outputs": [
    {
     "data": {
      "text/plain": [
       "['python', 23.4, True, False, 'diversity']"
      ]
     },
     "execution_count": 48,
     "metadata": {},
     "output_type": "execute_result"
    }
   ],
   "source": [
    "l1[3:8]"
   ]
  },
  {
   "cell_type": "code",
   "execution_count": 49,
   "id": "e44e31a7",
   "metadata": {},
   "outputs": [],
   "source": [
    "l1[3]='java'"
   ]
  },
  {
   "cell_type": "code",
   "execution_count": 50,
   "id": "7ce9a3ae",
   "metadata": {},
   "outputs": [
    {
     "data": {
      "text/plain": [
       "[1, 2, 3, 'java', 23.4, True, False, 'diversity', (22, 33, 44), [11, 55, 88]]"
      ]
     },
     "execution_count": 50,
     "metadata": {},
     "output_type": "execute_result"
    }
   ],
   "source": [
    "l1"
   ]
  },
  {
   "cell_type": "code",
   "execution_count": 51,
   "id": "01cbee15",
   "metadata": {},
   "outputs": [
    {
     "data": {
      "text/plain": [
       "'java'"
      ]
     },
     "execution_count": 51,
     "metadata": {},
     "output_type": "execute_result"
    }
   ],
   "source": [
    "l1[3]"
   ]
  },
  {
   "cell_type": "code",
   "execution_count": 52,
   "id": "5e649f7b",
   "metadata": {},
   "outputs": [
    {
     "data": {
      "text/plain": [
       "'a'"
      ]
     },
     "execution_count": 52,
     "metadata": {},
     "output_type": "execute_result"
    }
   ],
   "source": [
    "l1[3][1]"
   ]
  },
  {
   "cell_type": "code",
   "execution_count": 53,
   "id": "23a30e4c",
   "metadata": {},
   "outputs": [
    {
     "ename": "TypeError",
     "evalue": "'str' object does not support item assignment",
     "output_type": "error",
     "traceback": [
      "\u001b[1;31m---------------------------------------------------------------------------\u001b[0m",
      "\u001b[1;31mTypeError\u001b[0m                                 Traceback (most recent call last)",
      "\u001b[1;32m<ipython-input-53-eb12a27dc5ce>\u001b[0m in \u001b[0;36m<module>\u001b[1;34m\u001b[0m\n\u001b[1;32m----> 1\u001b[1;33m \u001b[0ml1\u001b[0m\u001b[1;33m[\u001b[0m\u001b[1;36m3\u001b[0m\u001b[1;33m]\u001b[0m\u001b[1;33m[\u001b[0m\u001b[1;36m1\u001b[0m\u001b[1;33m]\u001b[0m\u001b[1;33m=\u001b[0m\u001b[1;34m'e'\u001b[0m\u001b[1;33m\u001b[0m\u001b[1;33m\u001b[0m\u001b[0m\n\u001b[0m",
      "\u001b[1;31mTypeError\u001b[0m: 'str' object does not support item assignment"
     ]
    }
   ],
   "source": [
    "l1[3][1]='e'"
   ]
  },
  {
   "cell_type": "code",
   "execution_count": 54,
   "id": "b8e9f6f0",
   "metadata": {},
   "outputs": [],
   "source": [
    "l1[5]='Shreya'"
   ]
  },
  {
   "cell_type": "code",
   "execution_count": 55,
   "id": "5b8941e3",
   "metadata": {},
   "outputs": [
    {
     "data": {
      "text/plain": [
       "[1,\n",
       " 2,\n",
       " 3,\n",
       " 'java',\n",
       " 23.4,\n",
       " 'Shreya',\n",
       " False,\n",
       " 'diversity',\n",
       " (22, 33, 44),\n",
       " [11, 55, 88]]"
      ]
     },
     "execution_count": 55,
     "metadata": {},
     "output_type": "execute_result"
    }
   ],
   "source": [
    "l1"
   ]
  },
  {
   "cell_type": "code",
   "execution_count": 56,
   "id": "407643b2",
   "metadata": {},
   "outputs": [
    {
     "data": {
      "text/plain": [
       "[11, 55, 88]"
      ]
     },
     "execution_count": 56,
     "metadata": {},
     "output_type": "execute_result"
    }
   ],
   "source": [
    "l1[9]"
   ]
  },
  {
   "cell_type": "code",
   "execution_count": 57,
   "id": "a91c8d7a",
   "metadata": {},
   "outputs": [
    {
     "data": {
      "text/plain": [
       "55"
      ]
     },
     "execution_count": 57,
     "metadata": {},
     "output_type": "execute_result"
    }
   ],
   "source": [
    "l1[9][1]"
   ]
  },
  {
   "cell_type": "code",
   "execution_count": 58,
   "id": "374b4fa4",
   "metadata": {},
   "outputs": [],
   "source": [
    "l1[9][1]=66"
   ]
  },
  {
   "cell_type": "code",
   "execution_count": 59,
   "id": "548ecada",
   "metadata": {},
   "outputs": [
    {
     "data": {
      "text/plain": [
       "[1,\n",
       " 2,\n",
       " 3,\n",
       " 'java',\n",
       " 23.4,\n",
       " 'Shreya',\n",
       " False,\n",
       " 'diversity',\n",
       " (22, 33, 44),\n",
       " [11, 66, 88]]"
      ]
     },
     "execution_count": 59,
     "metadata": {},
     "output_type": "execute_result"
    }
   ],
   "source": [
    "l1"
   ]
  },
  {
   "cell_type": "markdown",
   "id": "f5efb61f",
   "metadata": {},
   "source": [
    "Note:\n",
    "\n",
    "-> Tuple/String as a whole inside a list is mutable, but the elements inside a tuple/string remain immutable\n",
    "even if its inside a list\n",
    "\n",
    "-> List as a whole in tuple is immutable, but the elements inside a list remain mutable even if its inside a tuple"
   ]
  },
  {
   "cell_type": "code",
   "execution_count": 60,
   "id": "fc909729",
   "metadata": {},
   "outputs": [],
   "source": [
    "# To add elements into list\n",
    "# append()-> listname.append(value) , adds element towards the end of the list\n",
    "# insert()-> listname.insert(index,value)"
   ]
  },
  {
   "cell_type": "code",
   "execution_count": 61,
   "id": "91a8b923",
   "metadata": {
    "scrolled": false
   },
   "outputs": [
    {
     "data": {
      "text/plain": [
       "[1, 2, 3, 'python', 23.4, True, False, 'diversity', 100]"
      ]
     },
     "execution_count": 61,
     "metadata": {},
     "output_type": "execute_result"
    }
   ],
   "source": [
    "l1=[1,2,3,'python',23.4, True, False,'diversity']\n",
    "l1.append(100)\n",
    "l1"
   ]
  },
  {
   "cell_type": "code",
   "execution_count": 62,
   "id": "c7a8d30b",
   "metadata": {},
   "outputs": [],
   "source": [
    "l1.append('shreya')"
   ]
  },
  {
   "cell_type": "code",
   "execution_count": 63,
   "id": "96f0a3bc",
   "metadata": {},
   "outputs": [],
   "source": [
    "l1.append(100)"
   ]
  },
  {
   "cell_type": "code",
   "execution_count": 64,
   "id": "905d1fab",
   "metadata": {},
   "outputs": [
    {
     "data": {
      "text/plain": [
       "[1, 2, 3, 'python', 23.4, True, False, 'diversity', 100, 'shreya', 100]"
      ]
     },
     "execution_count": 64,
     "metadata": {},
     "output_type": "execute_result"
    }
   ],
   "source": [
    "l1"
   ]
  },
  {
   "cell_type": "code",
   "execution_count": 65,
   "id": "71277a1b",
   "metadata": {},
   "outputs": [],
   "source": [
    "l1[-1]=90"
   ]
  },
  {
   "cell_type": "code",
   "execution_count": 66,
   "id": "81ccfec8",
   "metadata": {
    "scrolled": true
   },
   "outputs": [
    {
     "data": {
      "text/plain": [
       "[1, 2, 3, 'python', 23.4, True, False, 'diversity', 100, 'shreya', 90]"
      ]
     },
     "execution_count": 66,
     "metadata": {},
     "output_type": "execute_result"
    }
   ],
   "source": [
    "l1"
   ]
  },
  {
   "cell_type": "code",
   "execution_count": 67,
   "id": "b50b6a17",
   "metadata": {},
   "outputs": [],
   "source": [
    "l1.insert(3,'java')"
   ]
  },
  {
   "cell_type": "code",
   "execution_count": 68,
   "id": "6d2f8a3d",
   "metadata": {},
   "outputs": [
    {
     "data": {
      "text/plain": [
       "[1, 2, 3, 'java', 'python', 23.4, True, False, 'diversity', 100, 'shreya', 90]"
      ]
     },
     "execution_count": 68,
     "metadata": {},
     "output_type": "execute_result"
    }
   ],
   "source": [
    "l1"
   ]
  },
  {
   "cell_type": "code",
   "execution_count": null,
   "id": "c439da9d",
   "metadata": {},
   "outputs": [],
   "source": []
  },
  {
   "cell_type": "code",
   "execution_count": 69,
   "id": "0137f3d0",
   "metadata": {},
   "outputs": [],
   "source": [
    "# To remove elements from the list\n",
    "# pop()-> listname.pop(index)\n",
    "# remove()-> listname.remove(value)"
   ]
  },
  {
   "cell_type": "code",
   "execution_count": 70,
   "id": "3ccd6886",
   "metadata": {},
   "outputs": [
    {
     "data": {
      "text/plain": [
       "'java'"
      ]
     },
     "execution_count": 70,
     "metadata": {},
     "output_type": "execute_result"
    }
   ],
   "source": [
    "l1.pop(3)"
   ]
  },
  {
   "cell_type": "code",
   "execution_count": 71,
   "id": "0fe36431",
   "metadata": {},
   "outputs": [
    {
     "data": {
      "text/plain": [
       "[1, 2, 3, 'python', 23.4, True, False, 'diversity', 100, 'shreya', 90]"
      ]
     },
     "execution_count": 71,
     "metadata": {},
     "output_type": "execute_result"
    }
   ],
   "source": [
    "l1"
   ]
  },
  {
   "cell_type": "code",
   "execution_count": 72,
   "id": "9672e93e",
   "metadata": {},
   "outputs": [],
   "source": [
    "l1.remove(100)"
   ]
  },
  {
   "cell_type": "code",
   "execution_count": 73,
   "id": "cb98e480",
   "metadata": {
    "scrolled": true
   },
   "outputs": [
    {
     "data": {
      "text/plain": [
       "[1, 2, 3, 'python', 23.4, True, False, 'diversity', 'shreya', 90]"
      ]
     },
     "execution_count": 73,
     "metadata": {},
     "output_type": "execute_result"
    }
   ],
   "source": [
    "l1"
   ]
  },
  {
   "cell_type": "markdown",
   "id": "32f1c18e",
   "metadata": {},
   "source": [
    "## Dictionary"
   ]
  },
  {
   "cell_type": "markdown",
   "id": "7641eff5",
   "metadata": {},
   "source": [
    "-> set of heterogenous elements , store the elements in a key:value pair\n",
    "\n",
    "key-> user-defined index\n",
    "\n",
    "value-> elements\n",
    "\n",
    "Syntax: varname={key1:value1, key2:value2,........,key n :value n}\n",
    "\n",
    "-> no order maintained or randomizes the elements\n",
    "\n",
    "-> keys can't be collective datatypes except for string"
   ]
  },
  {
   "cell_type": "code",
   "execution_count": 74,
   "id": "90d65b9e",
   "metadata": {},
   "outputs": [
    {
     "data": {
      "text/plain": [
       "{1: 'Arjun', 'Shreya': 'Intellipaat', 13.5: 2000, False: 10}"
      ]
     },
     "execution_count": 74,
     "metadata": {},
     "output_type": "execute_result"
    }
   ],
   "source": [
    "d1={1:'Arjun','Shreya':'Intellipaat',13.5:2000,False:10}\n",
    "d1"
   ]
  },
  {
   "cell_type": "code",
   "execution_count": 75,
   "id": "6dedbe04",
   "metadata": {},
   "outputs": [
    {
     "data": {
      "text/plain": [
       "dict"
      ]
     },
     "execution_count": 75,
     "metadata": {},
     "output_type": "execute_result"
    }
   ],
   "source": [
    "type(d1)"
   ]
  },
  {
   "cell_type": "code",
   "execution_count": 76,
   "id": "7a41eae3",
   "metadata": {},
   "outputs": [],
   "source": [
    "d1['Shreya']='Tech'"
   ]
  },
  {
   "cell_type": "code",
   "execution_count": 77,
   "id": "18e960cb",
   "metadata": {},
   "outputs": [
    {
     "data": {
      "text/plain": [
       "{1: 'Arjun', 'Shreya': 'Tech', 13.5: 2000, False: 10}"
      ]
     },
     "execution_count": 77,
     "metadata": {},
     "output_type": "execute_result"
    }
   ],
   "source": [
    "d1"
   ]
  },
  {
   "cell_type": "code",
   "execution_count": 78,
   "id": "f21c7fb4",
   "metadata": {},
   "outputs": [
    {
     "data": {
      "text/plain": [
       "10"
      ]
     },
     "execution_count": 78,
     "metadata": {},
     "output_type": "execute_result"
    }
   ],
   "source": [
    "d1[False]"
   ]
  },
  {
   "cell_type": "code",
   "execution_count": 79,
   "id": "620a89ae",
   "metadata": {},
   "outputs": [
    {
     "data": {
      "text/plain": [
       "dict_keys([1, 'Shreya', 13.5, False])"
      ]
     },
     "execution_count": 79,
     "metadata": {},
     "output_type": "execute_result"
    }
   ],
   "source": [
    "d1.keys()"
   ]
  },
  {
   "cell_type": "code",
   "execution_count": 80,
   "id": "86737a1d",
   "metadata": {},
   "outputs": [
    {
     "data": {
      "text/plain": [
       "dict_values(['Arjun', 'Tech', 2000, 10])"
      ]
     },
     "execution_count": 80,
     "metadata": {},
     "output_type": "execute_result"
    }
   ],
   "source": [
    "d1.values()"
   ]
  },
  {
   "cell_type": "code",
   "execution_count": 81,
   "id": "a0cb75e5",
   "metadata": {},
   "outputs": [],
   "source": [
    "d2={\"Names\":['Adi',\"Zayn\",'Harry','Akash','Fahad'],\n",
    "    'Post':['Intern','CEO','VP','Manager','Developer']}"
   ]
  },
  {
   "cell_type": "code",
   "execution_count": 82,
   "id": "1d6ae016",
   "metadata": {},
   "outputs": [],
   "source": [
    "d2['Designation']=d2['Post']"
   ]
  },
  {
   "cell_type": "code",
   "execution_count": 83,
   "id": "a0434d79",
   "metadata": {},
   "outputs": [
    {
     "data": {
      "text/plain": [
       "{'Names': ['Adi', 'Zayn', 'Harry', 'Akash', 'Fahad'],\n",
       " 'Post': ['Intern', 'CEO', 'VP', 'Manager', 'Developer'],\n",
       " 'Designation': ['Intern', 'CEO', 'VP', 'Manager', 'Developer']}"
      ]
     },
     "execution_count": 83,
     "metadata": {},
     "output_type": "execute_result"
    }
   ],
   "source": [
    "d2"
   ]
  },
  {
   "cell_type": "code",
   "execution_count": 84,
   "id": "bdd66aa6",
   "metadata": {},
   "outputs": [
    {
     "data": {
      "text/plain": [
       "{'Names': ['Adi', 'Zayn', 'Harry', 'Akash', 'Fahad'],\n",
       " 'Post': ['Intern', 'CEO', 'VP', 'Manager', 'Developer'],\n",
       " 'Designation': ['Intern', 'CEO', 'VP', 'Manager', 'Developer']}"
      ]
     },
     "execution_count": 84,
     "metadata": {},
     "output_type": "execute_result"
    }
   ],
   "source": [
    "d2"
   ]
  },
  {
   "cell_type": "code",
   "execution_count": 85,
   "id": "fb74aaa2",
   "metadata": {},
   "outputs": [
    {
     "data": {
      "text/plain": [
       "['Adi', 'Zayn', 'Harry', 'Akash', 'Fahad']"
      ]
     },
     "execution_count": 85,
     "metadata": {},
     "output_type": "execute_result"
    }
   ],
   "source": [
    "d2['Names']"
   ]
  },
  {
   "cell_type": "code",
   "execution_count": 86,
   "id": "01dcf2ff",
   "metadata": {},
   "outputs": [
    {
     "data": {
      "text/plain": [
       "['Intern', 'CEO', 'VP', 'Manager', 'Developer']"
      ]
     },
     "execution_count": 86,
     "metadata": {},
     "output_type": "execute_result"
    }
   ],
   "source": [
    "d2['Post']"
   ]
  },
  {
   "cell_type": "code",
   "execution_count": 87,
   "id": "63a3abfa",
   "metadata": {},
   "outputs": [
    {
     "data": {
      "text/plain": [
       "3"
      ]
     },
     "execution_count": 87,
     "metadata": {},
     "output_type": "execute_result"
    }
   ],
   "source": [
    "len(d2)"
   ]
  },
  {
   "cell_type": "code",
   "execution_count": 88,
   "id": "0f310bf8",
   "metadata": {},
   "outputs": [],
   "source": [
    "d2['Names'][2]='Ahaan'"
   ]
  },
  {
   "cell_type": "code",
   "execution_count": 89,
   "id": "f0f6f1b0",
   "metadata": {},
   "outputs": [
    {
     "data": {
      "text/plain": [
       "{'Names': ['Adi', 'Zayn', 'Ahaan', 'Akash', 'Fahad'],\n",
       " 'Post': ['Intern', 'CEO', 'VP', 'Manager', 'Developer'],\n",
       " 'Designation': ['Intern', 'CEO', 'VP', 'Manager', 'Developer']}"
      ]
     },
     "execution_count": 89,
     "metadata": {},
     "output_type": "execute_result"
    }
   ],
   "source": [
    "d2"
   ]
  },
  {
   "cell_type": "code",
   "execution_count": 90,
   "id": "30e931f0",
   "metadata": {},
   "outputs": [],
   "source": [
    "d2['Post'][2]='AM'"
   ]
  },
  {
   "cell_type": "code",
   "execution_count": 91,
   "id": "57c8f590",
   "metadata": {},
   "outputs": [],
   "source": [
    "del d2['Post']"
   ]
  },
  {
   "cell_type": "code",
   "execution_count": 92,
   "id": "318751e5",
   "metadata": {},
   "outputs": [],
   "source": [
    "# adding a new key:value pair into a dictionary\n",
    "d2['Salary']=[25,200,75,100,150]"
   ]
  },
  {
   "cell_type": "code",
   "execution_count": 93,
   "id": "9b58c0aa",
   "metadata": {},
   "outputs": [
    {
     "data": {
      "text/plain": [
       "{'Names': ['Adi', 'Zayn', 'Ahaan', 'Akash', 'Fahad'],\n",
       " 'Designation': ['Intern', 'CEO', 'AM', 'Manager', 'Developer'],\n",
       " 'Salary': [25, 200, 75, 100, 150]}"
      ]
     },
     "execution_count": 93,
     "metadata": {},
     "output_type": "execute_result"
    }
   ],
   "source": [
    "d2"
   ]
  },
  {
   "cell_type": "code",
   "execution_count": 94,
   "id": "9cf74f24",
   "metadata": {},
   "outputs": [],
   "source": [
    "# remove a value from a dictionary"
   ]
  },
  {
   "cell_type": "code",
   "execution_count": 95,
   "id": "e0ab71ea",
   "metadata": {},
   "outputs": [
    {
     "data": {
      "text/plain": [
       "[25, 200, 75, 100, 150]"
      ]
     },
     "execution_count": 95,
     "metadata": {},
     "output_type": "execute_result"
    }
   ],
   "source": [
    "d2.pop('Salary')"
   ]
  },
  {
   "cell_type": "code",
   "execution_count": 96,
   "id": "8ba2b6bf",
   "metadata": {},
   "outputs": [
    {
     "data": {
      "text/plain": [
       "{'Names': ['Adi', 'Zayn', 'Ahaan', 'Akash', 'Fahad'],\n",
       " 'Designation': ['Intern', 'CEO', 'AM', 'Manager', 'Developer']}"
      ]
     },
     "execution_count": 96,
     "metadata": {},
     "output_type": "execute_result"
    }
   ],
   "source": [
    "d2"
   ]
  },
  {
   "cell_type": "code",
   "execution_count": 97,
   "id": "96d85752",
   "metadata": {},
   "outputs": [],
   "source": [
    "del d2['Names']"
   ]
  },
  {
   "cell_type": "code",
   "execution_count": 98,
   "id": "a015c2b3",
   "metadata": {},
   "outputs": [
    {
     "data": {
      "text/plain": [
       "{'Designation': ['Intern', 'CEO', 'AM', 'Manager', 'Developer']}"
      ]
     },
     "execution_count": 98,
     "metadata": {},
     "output_type": "execute_result"
    }
   ],
   "source": [
    "d2"
   ]
  },
  {
   "cell_type": "code",
   "execution_count": 99,
   "id": "6c6720ba",
   "metadata": {},
   "outputs": [],
   "source": [
    "d3={'Names': ['Adi', 'Zayn', 'Ahaan', 'Akash', 'Fahad'],\n",
    " 'Post': ['Intern', 'CEO', 'AM', 'Manager', 'Developer'],\n",
    " 'Salary': [25, 200, 75, 100, 150]}"
   ]
  },
  {
   "cell_type": "code",
   "execution_count": 100,
   "id": "86d80caa",
   "metadata": {},
   "outputs": [],
   "source": [
    "d4=d3.popitem()"
   ]
  },
  {
   "cell_type": "code",
   "execution_count": 101,
   "id": "8526205e",
   "metadata": {},
   "outputs": [],
   "source": [
    "# popitem()-> remove the recently added key-value pair from a dict and return the same as a tuple"
   ]
  },
  {
   "cell_type": "code",
   "execution_count": 102,
   "id": "747493db",
   "metadata": {},
   "outputs": [
    {
     "data": {
      "text/plain": [
       "('Salary', [25, 200, 75, 100, 150])"
      ]
     },
     "execution_count": 102,
     "metadata": {},
     "output_type": "execute_result"
    }
   ],
   "source": [
    "d4"
   ]
  },
  {
   "cell_type": "code",
   "execution_count": 103,
   "id": "ce1bde7c",
   "metadata": {},
   "outputs": [
    {
     "data": {
      "text/plain": [
       "tuple"
      ]
     },
     "execution_count": 103,
     "metadata": {},
     "output_type": "execute_result"
    }
   ],
   "source": [
    "type(d4)"
   ]
  },
  {
   "cell_type": "code",
   "execution_count": 104,
   "id": "cd4cdea9",
   "metadata": {},
   "outputs": [
    {
     "data": {
      "text/plain": [
       "{'Names': ['Adi', 'Zayn', 'Ahaan', 'Akash', 'Fahad'],\n",
       " 'Post': ['Intern', 'CEO', 'AM', 'Manager', 'Developer']}"
      ]
     },
     "execution_count": 104,
     "metadata": {},
     "output_type": "execute_result"
    }
   ],
   "source": [
    "d3"
   ]
  },
  {
   "cell_type": "code",
   "execution_count": 105,
   "id": "1108e970",
   "metadata": {},
   "outputs": [],
   "source": [
    "d5=d3.popitem()"
   ]
  },
  {
   "cell_type": "code",
   "execution_count": 106,
   "id": "e96d08aa",
   "metadata": {},
   "outputs": [
    {
     "data": {
      "text/plain": [
       "('Post', ['Intern', 'CEO', 'AM', 'Manager', 'Developer'])"
      ]
     },
     "execution_count": 106,
     "metadata": {},
     "output_type": "execute_result"
    }
   ],
   "source": [
    "d5"
   ]
  },
  {
   "cell_type": "code",
   "execution_count": 107,
   "id": "eefc8f05",
   "metadata": {},
   "outputs": [
    {
     "data": {
      "text/plain": [
       "{'Names': ['Adi', 'Zayn', 'Ahaan', 'Akash', 'Fahad']}"
      ]
     },
     "execution_count": 107,
     "metadata": {},
     "output_type": "execute_result"
    }
   ],
   "source": [
    "d3"
   ]
  },
  {
   "cell_type": "markdown",
   "id": "ccbb274e",
   "metadata": {},
   "source": [
    "## Set "
   ]
  },
  {
   "cell_type": "markdown",
   "id": "457b0b1d",
   "metadata": {},
   "source": [
    "-> unordered, unindexed list of unique elements\n",
    "\n",
    "-> Syntax: varname={elements}"
   ]
  },
  {
   "cell_type": "code",
   "execution_count": 108,
   "id": "a6e8ff8b",
   "metadata": {},
   "outputs": [],
   "source": [
    "s1={True,False,0,1,False,1,2.0,2,3,4,5,'python',657.8,99.8,'python',True,False,0,'diversity',False}"
   ]
  },
  {
   "cell_type": "code",
   "execution_count": 109,
   "id": "71ac7da6",
   "metadata": {},
   "outputs": [
    {
     "data": {
      "text/plain": [
       "{2.0, 3, 4, 5, 657.8, 99.8, False, True, 'diversity', 'python'}"
      ]
     },
     "execution_count": 109,
     "metadata": {},
     "output_type": "execute_result"
    }
   ],
   "source": [
    "s1"
   ]
  },
  {
   "cell_type": "code",
   "execution_count": 110,
   "id": "7daf2cef",
   "metadata": {},
   "outputs": [],
   "source": [
    "s1.add('Aditya')"
   ]
  },
  {
   "cell_type": "code",
   "execution_count": 111,
   "id": "317e0cb9",
   "metadata": {},
   "outputs": [
    {
     "data": {
      "text/plain": [
       "{2.0, 3, 4, 5, 657.8, 99.8, 'Aditya', False, True, 'diversity', 'python'}"
      ]
     },
     "execution_count": 111,
     "metadata": {},
     "output_type": "execute_result"
    }
   ],
   "source": [
    "s1"
   ]
  },
  {
   "cell_type": "code",
   "execution_count": 112,
   "id": "0a67b14d",
   "metadata": {},
   "outputs": [],
   "source": [
    "s1.remove('Aditya')"
   ]
  },
  {
   "cell_type": "code",
   "execution_count": 113,
   "id": "5f35bda0",
   "metadata": {},
   "outputs": [
    {
     "data": {
      "text/plain": [
       "{2.0, 3, 4, 5, 657.8, 99.8, False, True, 'diversity', 'python'}"
      ]
     },
     "execution_count": 113,
     "metadata": {},
     "output_type": "execute_result"
    }
   ],
   "source": [
    "s1"
   ]
  },
  {
   "cell_type": "markdown",
   "id": "19f38633",
   "metadata": {},
   "source": [
    "## Conditional Statements"
   ]
  },
  {
   "cell_type": "markdown",
   "id": "413973f2",
   "metadata": {},
   "source": [
    "-> statements executed based on the condition evaluated\n",
    "\n",
    "-> statements that are used to evaluate a condition to true or false\n",
    "\n",
    "Types\n",
    "\n",
    "-> simple if\n",
    "\n",
    "-> if else\n",
    "\n",
    "-> multiple ifs\n",
    "\n",
    "-> if elif else\n",
    "\n",
    "-> nested if else"
   ]
  },
  {
   "cell_type": "code",
   "execution_count": 114,
   "id": "2634b372",
   "metadata": {},
   "outputs": [],
   "source": [
    "# simple if\n",
    "# Syntax: if(condition):\n",
    "          # Statements"
   ]
  },
  {
   "cell_type": "code",
   "execution_count": 115,
   "id": "e71d2582",
   "metadata": {},
   "outputs": [
    {
     "name": "stdout",
     "output_type": "stream",
     "text": [
      "10\n",
      "x is greater than 1\n"
     ]
    }
   ],
   "source": [
    "x=int(input()) # x=10\n",
    "if(x>1):       # 10>1=True\n",
    "    print('x is greater than 1')"
   ]
  },
  {
   "cell_type": "code",
   "execution_count": 116,
   "id": "7d51c5dd",
   "metadata": {},
   "outputs": [],
   "source": [
    "# if else\n",
    "# Syntax: if(condition):\n",
    "            #statements\n",
    "#         else:\n",
    "#           #statements"
   ]
  },
  {
   "cell_type": "code",
   "execution_count": 117,
   "id": "a867c418",
   "metadata": {},
   "outputs": [
    {
     "name": "stdout",
     "output_type": "stream",
     "text": [
      "18\n",
      "12\n",
      "n1 is greater\n"
     ]
    }
   ],
   "source": [
    "# check for the greater number\n",
    "n1=int(input())   # n1=22\n",
    "n2=int(input())   # n2=34\n",
    "if(n1>n2):        # 22>34=false\n",
    "    print('n1 is greater')\n",
    "else:    \n",
    "    print('n2 is greater')\n",
    "    \n",
    "    "
   ]
  },
  {
   "cell_type": "code",
   "execution_count": 118,
   "id": "3b176bdd",
   "metadata": {},
   "outputs": [],
   "source": [
    "# multiple ifs\n",
    "# Syntax:if(condition1):\n",
    "            #statements\n",
    "       # if(condition2):\n",
    "            #statements\n",
    "      #  if(condition3):\n",
    "            # statements\n",
    "#         else:\n",
    "#           #statements"
   ]
  },
  {
   "cell_type": "code",
   "execution_count": 119,
   "id": "2301d1c7",
   "metadata": {},
   "outputs": [
    {
     "name": "stdout",
     "output_type": "stream",
     "text": [
      "22\n",
      "34\n",
      "n2 is greater\n",
      "invalid input\n"
     ]
    }
   ],
   "source": [
    "n1=int(input())   # n1=22\n",
    "n2=int(input())   # n2=34\n",
    "if(n1>n2):        # 22>34=false\n",
    "    print('n1 is greater')\n",
    "if(n1<n2):\n",
    "    print('n2 is greater')\n",
    "if(n1==n2):\n",
    "    print('n1 and n2 are equal')\n",
    "else:    \n",
    "    print('invalid input')"
   ]
  },
  {
   "cell_type": "code",
   "execution_count": 120,
   "id": "dc1de372",
   "metadata": {},
   "outputs": [],
   "source": [
    "# if elif else-> elif:else+if\n",
    "# Syntax:if(condition1):\n",
    "            #statements\n",
    "       # elif(condition2):\n",
    "            #statements\n",
    "      #  elif(condition3):\n",
    "            # statements\n",
    "#         else:\n",
    "#           #statements"
   ]
  },
  {
   "cell_type": "code",
   "execution_count": 121,
   "id": "d51924df",
   "metadata": {},
   "outputs": [
    {
     "name": "stdout",
     "output_type": "stream",
     "text": [
      "22\n",
      "34\n",
      "n2 is greater\n"
     ]
    }
   ],
   "source": [
    "n1=int(input())   # n1=22\n",
    "n2=int(input())   # n2=34\n",
    "if(n1>n2):        # 22>34=false\n",
    "    print('n1 is greater')\n",
    "elif(n1<n2):\n",
    "    print('n2 is greater')\n",
    "elif(n1==n2):\n",
    "    print('n1 and n2 are equal')\n",
    "else:    \n",
    "    print('invalid input')"
   ]
  },
  {
   "cell_type": "code",
   "execution_count": 122,
   "id": "0ca27acc",
   "metadata": {},
   "outputs": [],
   "source": [
    "# nested if else-> a condition within a another condition\n",
    "# Syntax: if(condition1):\n",
    "             # if(condition2):\n",
    "                   # task1\n",
    "             # elif(condition3):\n",
    "                   # task2\n",
    "             # else:\n",
    "                   # task3\n",
    "#          else:\n",
    "               # task4"
   ]
  },
  {
   "cell_type": "code",
   "execution_count": 123,
   "id": "e31ef8c7",
   "metadata": {},
   "outputs": [
    {
     "name": "stdout",
     "output_type": "stream",
     "text": [
      "Enter a number4\n",
      "the number is positive\n"
     ]
    }
   ],
   "source": [
    "# check whether a number is zero, positive, negative\n",
    "num=int(input('Enter a number'))  # num=4\n",
    "if(num>=0):                       # 4>=0-> True\n",
    "    if(num==0):                   # 4==0-> False\n",
    "        print('the number is zero')\n",
    "    else:\n",
    "        print('the number is positive')\n",
    "else:\n",
    "    print('the number is negative')"
   ]
  },
  {
   "cell_type": "markdown",
   "id": "14af607f",
   "metadata": {},
   "source": [
    "## Looping Statements"
   ]
  },
  {
   "cell_type": "markdown",
   "id": "cbc30bfb",
   "metadata": {},
   "source": [
    "-> statements that will allow to perform the same set of task multiple number of times based on a condition\n",
    "\n",
    "-> for loop-> to work with range type data\n",
    "\n",
    "-> while loop-> to work with conditional data"
   ]
  },
  {
   "cell_type": "code",
   "execution_count": null,
   "id": "b319fd36",
   "metadata": {},
   "outputs": [],
   "source": [
    "# for loop\n",
    "# SYntax: for iterating_variable in range:\n",
    "             # task/statements\n",
    "# iterating_variable-> travelling variable which will look into the defined range and \n",
    "# fetches every value in the range    \n",
    "# range()-> inbuilt function which will create a range of defined values\n",
    "   # SYntax: range(start,end+1)"
   ]
  },
  {
   "cell_type": "code",
   "execution_count": null,
   "id": "7022a2a7",
   "metadata": {},
   "outputs": [],
   "source": [
    "range(0,11)  # 0,1,2,3,4,5,6,7,8,9,10"
   ]
  },
  {
   "cell_type": "code",
   "execution_count": null,
   "id": "ddb09414",
   "metadata": {
    "scrolled": false
   },
   "outputs": [],
   "source": [
    "# print 'python' 5 times\n",
    "for i in range(0,5):   # 0 1 2 3 4\n",
    "    print('python',i)"
   ]
  },
  {
   "cell_type": "code",
   "execution_count": null,
   "id": "73c1cec9",
   "metadata": {},
   "outputs": [],
   "source": [
    "range(5)"
   ]
  },
  {
   "cell_type": "code",
   "execution_count": null,
   "id": "c9bd7906",
   "metadata": {
    "scrolled": false
   },
   "outputs": [],
   "source": [
    "# fecth the even numbers\n",
    "l1=[10,25,30,45,50]\n",
    "for i in range(len(l1)):\n",
    "    if(l1[i]%2==0):\n",
    "        print('the number is even')\n",
    "    else:\n",
    "        print('the number is odd')"
   ]
  },
  {
   "cell_type": "code",
   "execution_count": null,
   "id": "6f864b1f",
   "metadata": {},
   "outputs": [],
   "source": [
    "l1=[10,25,30,45,50]\n",
    "for i in l1:\n",
    "    if(i%2==0):\n",
    "        print('the number is even')\n",
    "    else:\n",
    "        print('the number is odd')"
   ]
  },
  {
   "cell_type": "code",
   "execution_count": null,
   "id": "6d46f19d",
   "metadata": {},
   "outputs": [],
   "source": [
    "# while loop\n",
    "# SYntax:\n",
    "# iterate_variable=initialze\n",
    "# while(condition is true):\n",
    "    # task/statements\n",
    "# incrementation    "
   ]
  },
  {
   "cell_type": "code",
   "execution_count": null,
   "id": "2c44e11d",
   "metadata": {},
   "outputs": [],
   "source": [
    "# print 'python' 5 times\n",
    "i=0\n",
    "while(i<5):  # 5<5-> False\n",
    "    print('python',i) \n",
    "    i=i+1    # 4+1=5=i\n",
    "    "
   ]
  },
  {
   "cell_type": "code",
   "execution_count": null,
   "id": "39160ad1",
   "metadata": {},
   "outputs": [],
   "source": [
    "# to add 7 to every element in the list\n",
    "l=[10,20,30,40,50,60]\n",
    "#   0  1  2  3  4  5\n",
    "len(l)"
   ]
  },
  {
   "cell_type": "code",
   "execution_count": null,
   "id": "e9c7e6ff",
   "metadata": {},
   "outputs": [],
   "source": [
    "l=[10,20,30,40,50,60]\n",
    "for i in range(0,6):  # 0 1 2 3 4 5 \n",
    "    l[i]=l[i]+7\n",
    "print(l)    "
   ]
  },
  {
   "cell_type": "code",
   "execution_count": null,
   "id": "bf5db0d2",
   "metadata": {},
   "outputs": [],
   "source": [
    "l=[10,20,30,40,50,60]\n",
    "i=0\n",
    "while(i<len(l)):\n",
    "    l[i]=l[i]+7\n",
    "    i=i+1\n",
    "print(l)    "
   ]
  },
  {
   "cell_type": "markdown",
   "id": "4b3baad6",
   "metadata": {},
   "source": [
    "## Functions"
   ]
  },
  {
   "cell_type": "code",
   "execution_count": null,
   "id": "4f195705",
   "metadata": {},
   "outputs": [],
   "source": [
    "# block of code designed to perform a specific task\n",
    "# Inbuilt functions \n",
    "# User-defined functions\n",
    "# Lambda function"
   ]
  },
  {
   "cell_type": "code",
   "execution_count": null,
   "id": "b846984d",
   "metadata": {},
   "outputs": [],
   "source": [
    "# User-defined functions-> to create or define own set of task\n",
    "# Syntax:\n",
    "# to define a function\n",
    "#  def function_name(arguments/parameters):\n",
    "      # task/statements\n",
    "\n",
    "# to call/invoke function\n",
    "# function_name(values for arguments)"
   ]
  },
  {
   "cell_type": "code",
   "execution_count": null,
   "id": "d3043872",
   "metadata": {},
   "outputs": [],
   "source": [
    "# check whether the number is even or odd\n",
    "#function definition\n",
    "def even_odd(num):   # num=34\n",
    "    if(num%2==0):    # 34%2==0 -> true\n",
    "        print('the number is even')\n",
    "    else:\n",
    "        print('the number is odd')\n",
    "     "
   ]
  },
  {
   "cell_type": "code",
   "execution_count": null,
   "id": "d242b042",
   "metadata": {},
   "outputs": [],
   "source": [
    "# function call\n",
    "even_odd(102384)   "
   ]
  },
  {
   "cell_type": "code",
   "execution_count": null,
   "id": "167547d4",
   "metadata": {},
   "outputs": [],
   "source": [
    "def check_string(s1):\n",
    "    if 's' or 'S' in s1:\n",
    "        print('the string contains s')\n",
    "    else:\n",
    "        print('the string doesnt contain s')\n",
    "     "
   ]
  },
  {
   "cell_type": "code",
   "execution_count": null,
   "id": "c94db413",
   "metadata": {},
   "outputs": [],
   "source": [
    "check_string('Shreya')  "
   ]
  },
  {
   "cell_type": "code",
   "execution_count": null,
   "id": "e04123fd",
   "metadata": {},
   "outputs": [],
   "source": [
    "# Lambda functions-> anonymous/ nameless function\n",
    "# function definition is stored in a variable\n",
    "# function call will be made using variable name\n",
    "# only one line of expression is allowed\n",
    "# keyword lambda\n",
    "# Syntax: var_name=lambda arg_variables:task"
   ]
  },
  {
   "cell_type": "code",
   "execution_count": null,
   "id": "2bccfcba",
   "metadata": {},
   "outputs": [],
   "source": [
    "adder= lambda a,b,c:a+b+c\n",
    "adder(1,2,3)"
   ]
  },
  {
   "cell_type": "code",
   "execution_count": null,
   "id": "b3137bf6",
   "metadata": {},
   "outputs": [],
   "source": [
    "square= lambda x:x*x   # x**2\n",
    "square(10)"
   ]
  },
  {
   "cell_type": "code",
   "execution_count": null,
   "id": "f53dd14d",
   "metadata": {},
   "outputs": [],
   "source": [
    "greater= lambda s,t: s if(s>t) else t\n",
    "greater(6,10)"
   ]
  },
  {
   "cell_type": "code",
   "execution_count": 126,
   "id": "e52dcb88",
   "metadata": {},
   "outputs": [],
   "source": [
    "#list comprehension\n",
    "l1=[x for x in range(1,11) if x%2==0]"
   ]
  },
  {
   "cell_type": "code",
   "execution_count": 127,
   "id": "74131732",
   "metadata": {},
   "outputs": [
    {
     "data": {
      "text/plain": [
       "[2, 4, 6, 8, 10]"
      ]
     },
     "execution_count": 127,
     "metadata": {},
     "output_type": "execute_result"
    }
   ],
   "source": [
    "l1"
   ]
  },
  {
   "cell_type": "code",
   "execution_count": 128,
   "id": "dc4c250d",
   "metadata": {},
   "outputs": [
    {
     "name": "stdout",
     "output_type": "stream",
     "text": [
      "[2, 4, 6, 8, 10]\n"
     ]
    }
   ],
   "source": [
    "#OR\n",
    "l=[]\n",
    "for x in range(1,11):\n",
    "    if x%2==0:\n",
    "        l.append(x)\n",
    "print(l)    "
   ]
  },
  {
   "cell_type": "code",
   "execution_count": 130,
   "id": "be2b7af2",
   "metadata": {},
   "outputs": [
    {
     "data": {
      "text/plain": [
       "{1: 1, 2: 8, 3: 27, 4: 64, 5: 125, 6: 216, 7: 343, 8: 512, 9: 729, 10: 1000}"
      ]
     },
     "execution_count": 130,
     "metadata": {},
     "output_type": "execute_result"
    }
   ],
   "source": [
    "#dictionary comprehension\n",
    "\n",
    "d1={x:x**3 for x in range(1,11)}\n",
    "d1"
   ]
  },
  {
   "cell_type": "code",
   "execution_count": null,
   "id": "a6eeaa9c",
   "metadata": {},
   "outputs": [],
   "source": []
  }
 ],
 "metadata": {
  "kernelspec": {
   "display_name": "Python 3 (ipykernel)",
   "language": "python",
   "name": "python3"
  },
  "language_info": {
   "codemirror_mode": {
    "name": "ipython",
    "version": 3
   },
   "file_extension": ".py",
   "mimetype": "text/x-python",
   "name": "python",
   "nbconvert_exporter": "python",
   "pygments_lexer": "ipython3",
   "version": "3.9.13"
  }
 },
 "nbformat": 4,
 "nbformat_minor": 5
}
